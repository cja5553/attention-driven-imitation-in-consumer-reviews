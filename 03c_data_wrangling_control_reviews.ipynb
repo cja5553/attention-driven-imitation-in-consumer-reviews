{
 "cells": [
  {
   "cell_type": "code",
   "execution_count": 1,
   "metadata": {
    "id": "E94ynnh4lh3W"
   },
   "outputs": [
    {
     "data": {
      "text/plain": [
       "['builtins',\n",
       " 'builtins',\n",
       " ('pandas', '2.1.1'),\n",
       " 'ast',\n",
       " 'pickle',\n",
       " 'types',\n",
       " 'concurrent']"
      ]
     },
     "execution_count": 1,
     "metadata": {},
     "output_type": "execute_result"
    }
   ],
   "source": [
    "from tqdm import tqdm\n",
    "import pandas as pd\n",
    "import ast\n",
    "import pickle\n",
    "import types\n",
    "from joblib import Parallel, delayed\n",
    "import concurrent.futures\n",
    "def imports():\n",
    "    for name, val in globals().items():\n",
    "        if isinstance(val, types.ModuleType):\n",
    "            try:\n",
    "                yield val.__name__, val.__version__\n",
    "                pass\n",
    "            except:\n",
    "                yield val.__name__\n",
    "                pass\n",
    "            pass\n",
    "        pass\n",
    "    pass\n",
    "\n",
    "list(imports())\n",
    "\n",
    "# # reading the appropriate files\n"
   ]
  },
  {
   "cell_type": "code",
   "execution_count": 2,
   "metadata": {},
   "outputs": [],
   "source": [
    "data_location = '../data/interim_data/03_data_wrangling/'\n",
    "df=pd.read_csv(f\"{data_location}reviews_with_main_and_sidebar.csv.gz\", compression='gzip',low_memory=False)\n",
    "reviews_list=pd.read_csv(\"../data/raw_data/data_filtered.csv.gz\", compression=\"gzip\",low_memory=False)"
   ]
  },
  {
   "cell_type": "code",
   "execution_count": 3,
   "metadata": {
    "colab": {
     "base_uri": "https://localhost:8080/"
    },
    "id": "jpre7Zw4wWOL",
    "outputId": "6a0b6c01-9604-4bfb-a63b-a3035d16c489"
   },
   "outputs": [
    {
     "name": "stderr",
     "output_type": "stream",
     "text": [
      "100%|█████████████████████████████████████████████████████████████████████| 3388574/3388574 [01:08<00:00, 49422.97it/s]\n",
      "100%|█████████████████████████████████████████████████████████████████████| 3388574/3388574 [01:07<00:00, 50453.39it/s]\n"
     ]
    }
   ],
   "source": [
    "if type(df[\"order_of_main_bar_reviews\"][0]) != list:\n",
    "    df[\"order_of_main_bar_reviews\"] = [[str(item) for item in ast.literal_eval(lst)] for lst in tqdm((df[\"order_of_main_bar_reviews\"]))]\n",
    "    df[\"sidebar_order_reviews\"] = [[str(item) for item in ast.literal_eval(lst)] for lst in tqdm(df[\"sidebar_order_reviews\"])]\n",
    "else:\n",
    "    # Ensure each element in each list is a string\n",
    "    df[\"order_of_main_bar_reviews\"] = [[str(item) for item in lst] for lst in tqdm(df[\"order_of_main_bar_reviews\"])]\n",
    "    df[\"sidebar_order_reviews\"] = [[str(item) for item in lst] for lst in tqdm(df[\"sidebar_order_reviews\"])]\n",
    "\n",
    "\n",
    "\n",
    "df['recommendation_id'] = df['recommendation_id'].astype(str)\n",
    "df['game_id'] = df['game_id'].astype(str)\n",
    "df['timestamp_created'] = df['timestamp_created'].astype(int)\n",
    "\n",
    "reviews_list['recommendation_id'] = reviews_list['recommendation_id'].astype(str)\n",
    "reviews_list['game_id'] = reviews_list['game_id'].astype(str)\n",
    "reviews_list['timestamp_created'] = reviews_list['timestamp_created'].astype(int)"
   ]
  },
  {
   "cell_type": "markdown",
   "metadata": {},
   "source": [
    "# Extracting control IDs\n",
    "\n",
    "How it works: we simply take review IDs that were not visible in either the recently-sorted (unobservable) reviews or the default-ordered (observable) reviews, we then added it to our list of control IDs for comparision "
   ]
  },
  {
   "cell_type": "code",
   "execution_count": 4,
   "metadata": {
    "id": "KmZ_2vC-ufa5"
   },
   "outputs": [],
   "source": [
    "# # # old code\n",
    "# def extracting_control_reviews(df,reviews):\n",
    "#     '''\n",
    "#     Extracts control review IDs. \n",
    "    \n",
    "#     Args:\n",
    "#     - df: dataframe with the columns sidebar_reviews_list, order_of_main_bar_reviews, \n",
    "#     recommendation_id, timestamp_created and game_id of reviews in which the main bar\n",
    "#     and sidebar reviews have been sorted. These only includes games that did not meet\n",
    "#     the 10 threshold in sidebar and mainbar reviews, which have already been previously\n",
    "#     removed. \n",
    "#     - reviews: a datafram with ALL reviews, their recommendation_id, game_id, timestamp_created\n",
    "    \n",
    "#     Returns:\n",
    "#     - A dataframe with \"control_ids\" inserted into df, where each row in this col contains a \n",
    "#     list of the corresponding control review IDs. \n",
    "    \n",
    "#     '''\n",
    "#     filtered_recommendation_ids = []\n",
    "\n",
    "#     for i in tqdm(range(len(df))):\n",
    "#         current_recommendation_id=str(df[\"recommendation_id\"][i])\n",
    "#         time_id=int(df[\"timestamp_created\"][i])\n",
    "#         game_id=str(df[\"game_id\"][i])\n",
    "#         main_bar_reviews_list=list(df[\"order_of_main_bar_reviews\"])\n",
    "#         side_bar_reviews_list=list(df[\"sidebar_order_reviews\"])\n",
    "\n",
    "#         # Get reviews for the selected game ID\n",
    "#         temp = reviews_list[reviews_list[\"game_id\"] == game_id].reset_index(drop=True)\n",
    "#         # Remove rows where the recommendation IDs are present in the main or side bar or the current review itseld.\n",
    "#         temp = temp[~temp[\"recommendation_id\"].isin(main_bar_reviews_list[i] + side_bar_reviews_list[i]+[current_recommendation_id])].reset_index(drop=True)\n",
    "#         temp.sort_values(by=[\"timestamp_created\",\"recommendation_id\"], ascending=False, inplace=True)\n",
    "\n",
    "#         # Filter rows based on the time range (last 30 days)\n",
    "#         temp = temp[(temp[\"timestamp_created\"] <= time_id) & (temp[\"timestamp_created\"] > time_id - (86400 * 30))].reset_index(drop=True)\n",
    "\n",
    "#         # filter to include only 10 \n",
    "#         control_ids=(temp[\"recommendation_id\"].tolist())[:10]\n",
    "\n",
    "#         # Append the filtered recommendation IDs to the list\n",
    "#         filtered_recommendation_ids.append(control_ids)\n",
    "#     df[\"control_ids_list\"]=filtered_recommendation_ids\n",
    "#     return(df)\n",
    "\n",
    "\n",
    "# df2=extracting_control_reviews(df[:2000],reviews_list)"
   ]
  },
  {
   "cell_type": "code",
   "execution_count": 5,
   "metadata": {},
   "outputs": [],
   "source": [
    "def extracting_control_reviews(df, reviews):\n",
    "    reviews_filtered_by_game = {game_id: reviews[reviews['game_id'] == game_id].sort_values(by=[\"timestamp_created\",\"recommendation_id\"], ascending=False) for game_id in df['game_id'].unique()}\n",
    "    \n",
    "    def filter_control_ids(row):\n",
    "        current_recommendation_id = str(row['recommendation_id'])\n",
    "        time_id = int(row['timestamp_created'])\n",
    "        game_id = str(row['game_id'])\n",
    "        temp = reviews_filtered_by_game[game_id]\n",
    "    \n",
    "        excluded_ids = set(row['order_of_main_bar_reviews'] + row['sidebar_order_reviews'] + [current_recommendation_id])\n",
    "        temp = temp[~temp['recommendation_id'].isin(excluded_ids) & \n",
    "                    (temp['timestamp_created'] <= time_id) & \n",
    "                    (temp['timestamp_created'] > time_id - (86400 * 30))]\n",
    "        \n",
    "        return temp['recommendation_id'].head(10).tolist()\n",
    "    \n",
    "    tqdm.pandas()\n",
    "    df['control_ids_list'] = df.progress_apply(lambda row: filter_control_ids(row), axis=1)\n",
    "    \n",
    "    return df\n",
    "\n",
    "\n",
    "# # df1=extracting_control_reviews(df[:2000],reviews_list)\n",
    "# df1.equals(df2)"
   ]
  },
  {
   "cell_type": "code",
   "execution_count": 6,
   "metadata": {},
   "outputs": [
    {
     "name": "stderr",
     "output_type": "stream",
     "text": [
      "100%|████████████████████████████████████████████████████████████████████████████████| 868/868 [05:21<00:00,  2.70it/s]\n"
     ]
    }
   ],
   "source": [
    "# Setup for parallel processing\n",
    "grouped_df = df.groupby('game_id')\n",
    "group_review_list = reviews_list.groupby('game_id')\n",
    "common_game_ids = set(grouped_df.groups.keys()) & set(group_review_list.groups.keys())\n",
    "df_chunks = Parallel(n_jobs=20)(\n",
    "    delayed(extracting_control_reviews)(grouped_df.get_group(game_id), group_review_list.get_group(game_id))\n",
    "    for game_id in tqdm(common_game_ids)\n",
    ")\n",
    "df1 = pd.concat(df_chunks, ignore_index=True).reset_index(drop=True)"
   ]
  },
  {
   "cell_type": "code",
   "execution_count": 7,
   "metadata": {},
   "outputs": [
    {
     "name": "stdout",
     "output_type": "stream",
     "text": [
      "Before removing reviews with <10 control reviews, we have 3388574 reviews across 868 games\n",
      "After removing reviews with <10 control reviews, we have 3264943 reviews across 717 games\n"
     ]
    }
   ],
   "source": [
    "# Filter out rows where 'control_ids' list has fewer than 10 elements\n",
    "game_id_length=len(set(list(df1[\"game_id\"])))\n",
    "print(f\"Before removing reviews with <10 control reviews, we have {len(df1)} reviews across {game_id_length} games\")\n",
    "df1 = (df1[[len(ids) >= 10 for ids in df1['control_ids_list']]]).reset_index(drop=True)\n",
    "game_id_length=len(set(list(df1[\"game_id\"])))\n",
    "print(f\"After removing reviews with <10 control reviews, we have {len(df1)} reviews across {game_id_length} games\")"
   ]
  },
  {
   "cell_type": "code",
   "execution_count": 8,
   "metadata": {
    "id": "aIFwknYp_Tt1"
   },
   "outputs": [],
   "source": [
    "csv_file_path = f'{data_location}reviews_with_main_sidebar_and_control.csv.gz'  \n",
    "df1.to_csv(csv_file_path, index=False, compression='gzip')"
   ]
  },
  {
   "cell_type": "code",
   "execution_count": null,
   "metadata": {},
   "outputs": [],
   "source": []
  },
  {
   "cell_type": "code",
   "execution_count": null,
   "metadata": {},
   "outputs": [],
   "source": []
  }
 ],
 "metadata": {
  "colab": {
   "machine_shape": "hm",
   "provenance": []
  },
  "gpuClass": "standard",
  "kernelspec": {
   "display_name": "Python 3 (ipykernel)",
   "language": "python",
   "name": "python3"
  },
  "language_info": {
   "codemirror_mode": {
    "name": "ipython",
    "version": 3
   },
   "file_extension": ".py",
   "mimetype": "text/x-python",
   "name": "python",
   "nbconvert_exporter": "python",
   "pygments_lexer": "ipython3",
   "version": "3.11.5"
  }
 },
 "nbformat": 4,
 "nbformat_minor": 4
}
