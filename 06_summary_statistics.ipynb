{
 "cells": [
  {
   "cell_type": "code",
   "execution_count": 1,
   "id": "121a0d2f",
   "metadata": {},
   "outputs": [],
   "source": [
    "import numpy as np\n",
    "import pandas as pd\n",
    "import types\n",
    "import zipfile\n",
    "import io\n",
    "from tqdm.notebook import tqdm_notebook\n",
    "import json\n",
    "def imports():\n",
    "    for name, val in globals().items():\n",
    "        if isinstance(val, types.ModuleType):\n",
    "            try:\n",
    "                yield val.__name__, val.__version__\n",
    "                pass\n",
    "            except:\n",
    "                yield val.__name__\n",
    "                pass\n",
    "            pass\n",
    "        pass\n",
    "    pass\n",
    "\n",
    "list(imports())\n",
    "pd.set_option('display.float_format', lambda x: '%.3f' % x)\n"
   ]
  },
  {
   "cell_type": "code",
   "execution_count": 2,
   "id": "f4a75dd6",
   "metadata": {},
   "outputs": [],
   "source": [
    "# reading the CSV files\n",
    "df=pd.read_csv(\"../data/raw_data/FPS_reviews.csv.zip\",low_memory=False)\n",
    "df_final=(df.drop_duplicates([\"recommendation_id\",\"game_id\"])).reset_index(drop=True)"
   ]
  },
  {
   "cell_type": "code",
   "execution_count": 3,
   "id": "c5d03828",
   "metadata": {},
   "outputs": [
    {
     "name": "stdout",
     "output_type": "stream",
     "text": [
      "3637833 reviews across 2304 games\n"
     ]
    }
   ],
   "source": [
    "# getting the number of reviews with duplicates\n",
    "game_length=len(set(list(df[\"game_id\"])))\n",
    "print(f\"{len(df)} reviews across {game_length} games\")"
   ]
  },
  {
   "cell_type": "code",
   "execution_count": 4,
   "id": "89f6a3b5",
   "metadata": {},
   "outputs": [
    {
     "name": "stdout",
     "output_type": "stream",
     "text": [
      "Total duplicates are 7117\n"
     ]
    }
   ],
   "source": [
    "print(\"Total duplicates are\",len(df)-len(df_final))"
   ]
  },
  {
   "cell_type": "code",
   "execution_count": 5,
   "id": "f62d3fec",
   "metadata": {},
   "outputs": [],
   "source": [
    "df=df_final"
   ]
  },
  {
   "cell_type": "code",
   "execution_count": 6,
   "id": "d713a564",
   "metadata": {},
   "outputs": [
    {
     "name": "stdout",
     "output_type": "stream",
     "text": [
      "3630716 reviews across 2304 games\n"
     ]
    }
   ],
   "source": [
    "# review length after duplicates\n",
    "game_length=len(set(list(df[\"game_id\"])))\n",
    "print(f\"{len(df)} reviews across {game_length} games\")"
   ]
  },
  {
   "cell_type": "code",
   "execution_count": 7,
   "id": "60ce1ef1",
   "metadata": {},
   "outputs": [],
   "source": [
    "# getting some characteristic data\n",
    "df[\"review\"]=df[\"review\"].astype(str)\n",
    "df[\"review_words_length\"]=df[\"review\"].apply(lambda x: len(x.split(\" \")))\n",
    "df[\"review_words_vocab\"]=df[\"review\"].apply(lambda x: len(set(x.split(\" \"))))"
   ]
  },
  {
   "cell_type": "code",
   "execution_count": 8,
   "id": "429afd0d",
   "metadata": {},
   "outputs": [
    {
     "data": {
      "text/html": [
       "<div>\n",
       "<style scoped>\n",
       "    .dataframe tbody tr th:only-of-type {\n",
       "        vertical-align: middle;\n",
       "    }\n",
       "\n",
       "    .dataframe tbody tr th {\n",
       "        vertical-align: top;\n",
       "    }\n",
       "\n",
       "    .dataframe thead th {\n",
       "        text-align: right;\n",
       "    }\n",
       "</style>\n",
       "<table border=\"1\" class=\"dataframe\">\n",
       "  <thead>\n",
       "    <tr style=\"text-align: right;\">\n",
       "      <th></th>\n",
       "      <th>review_words_length</th>\n",
       "      <th>review_words_vocab</th>\n",
       "      <th>votes_up</th>\n",
       "    </tr>\n",
       "  </thead>\n",
       "  <tbody>\n",
       "    <tr>\n",
       "      <th>count</th>\n",
       "      <td>3630716.000</td>\n",
       "      <td>3630716.000</td>\n",
       "      <td>3630716.000</td>\n",
       "    </tr>\n",
       "    <tr>\n",
       "      <th>mean</th>\n",
       "      <td>50.725</td>\n",
       "      <td>35.570</td>\n",
       "      <td>5.277</td>\n",
       "    </tr>\n",
       "    <tr>\n",
       "      <th>std</th>\n",
       "      <td>117.802</td>\n",
       "      <td>64.786</td>\n",
       "      <td>72.539</td>\n",
       "    </tr>\n",
       "    <tr>\n",
       "      <th>min</th>\n",
       "      <td>1.000</td>\n",
       "      <td>1.000</td>\n",
       "      <td>0.000</td>\n",
       "    </tr>\n",
       "    <tr>\n",
       "      <th>25%</th>\n",
       "      <td>4.000</td>\n",
       "      <td>4.000</td>\n",
       "      <td>0.000</td>\n",
       "    </tr>\n",
       "    <tr>\n",
       "      <th>50%</th>\n",
       "      <td>13.000</td>\n",
       "      <td>12.000</td>\n",
       "      <td>1.000</td>\n",
       "    </tr>\n",
       "    <tr>\n",
       "      <th>75%</th>\n",
       "      <td>44.000</td>\n",
       "      <td>38.000</td>\n",
       "      <td>2.000</td>\n",
       "    </tr>\n",
       "    <tr>\n",
       "      <th>max</th>\n",
       "      <td>6947.000</td>\n",
       "      <td>1333.000</td>\n",
       "      <td>36237.000</td>\n",
       "    </tr>\n",
       "  </tbody>\n",
       "</table>\n",
       "</div>"
      ],
      "text/plain": [
       "       review_words_length  review_words_vocab    votes_up\n",
       "count          3630716.000         3630716.000 3630716.000\n",
       "mean                50.725              35.570       5.277\n",
       "std                117.802              64.786      72.539\n",
       "min                  1.000               1.000       0.000\n",
       "25%                  4.000               4.000       0.000\n",
       "50%                 13.000              12.000       1.000\n",
       "75%                 44.000              38.000       2.000\n",
       "max               6947.000            1333.000   36237.000"
      ]
     },
     "execution_count": 8,
     "metadata": {},
     "output_type": "execute_result"
    }
   ],
   "source": [
    "df[[\"review_words_length\",\"review_words_vocab\",\"votes_up\"]].describe()"
   ]
  },
  {
   "cell_type": "code",
   "execution_count": 9,
   "id": "55e8c0bc",
   "metadata": {},
   "outputs": [
    {
     "data": {
      "text/plain": [
       "review_words_length   13.000\n",
       "review_words_vocab    12.000\n",
       "votes_up               1.000\n",
       "dtype: float64"
      ]
     },
     "execution_count": 9,
     "metadata": {},
     "output_type": "execute_result"
    }
   ],
   "source": [
    "df[[\"review_words_length\",\"review_words_vocab\",\"votes_up\"]].median()"
   ]
  },
  {
   "cell_type": "code",
   "execution_count": 10,
   "id": "c3661a6d",
   "metadata": {},
   "outputs": [
    {
     "data": {
      "text/plain": [
       "True     2996761\n",
       "False     633955\n",
       "Name: voted_up, dtype: int64"
      ]
     },
     "execution_count": 10,
     "metadata": {},
     "output_type": "execute_result"
    }
   ],
   "source": [
    "df[\"voted_up\"].value_counts()"
   ]
  },
  {
   "cell_type": "code",
   "execution_count": 11,
   "id": "93272c7d",
   "metadata": {},
   "outputs": [
    {
     "name": "stdout",
     "output_type": "stream",
     "text": [
      "Number of NA values in 'voted_up': 0\n"
     ]
    }
   ],
   "source": [
    "# Counting NA values in the 'voted_up' column\n",
    "na_count = df['voted_up'].isna().sum()\n",
    "print(f\"Number of NA values in 'voted_up': {na_count}\")"
   ]
  },
  {
   "cell_type": "code",
   "execution_count": 12,
   "id": "91914be7",
   "metadata": {},
   "outputs": [
    {
     "data": {
      "application/vnd.jupyter.widget-view+json": {
       "model_id": "c7fb0c6e25e74d2f84d563eedd04ab09",
       "version_major": 2,
       "version_minor": 0
      },
      "text/plain": [
       "  0%|          | 0/6498 [00:00<?, ?it/s]"
      ]
     },
     "metadata": {},
     "output_type": "display_data"
    }
   ],
   "source": [
    "# getting other characteristic data not in the dataframe\n",
    "raw_review_location = \"../data/raw_data/\" + 'reviews.txt.zip'\n",
    "with zipfile.ZipFile(raw_review_location) as zf:\n",
    "    with io.TextIOWrapper(zf.open('reviews.txt'), encoding='utf-8') as f:\n",
    "        all_reviews_raw = f.readlines()\n",
    "        pass\n",
    "    pass\n",
    "all_reviews = [json.loads(all_reviews_raw[xxx]) for xxx in tqdm_notebook(range(len(all_reviews_raw)))]"
   ]
  },
  {
   "cell_type": "code",
   "execution_count": 13,
   "id": "5c79ec4c",
   "metadata": {},
   "outputs": [
    {
     "data": {
      "application/vnd.jupyter.widget-view+json": {
       "model_id": "dc2867d8004a4df8a54cb796658b303c",
       "version_major": 2,
       "version_minor": 0
      },
      "text/plain": [
       "  0%|          | 0/6498 [00:00<?, ?it/s]"
      ]
     },
     "metadata": {},
     "output_type": "display_data"
    },
    {
     "name": "stdout",
     "output_type": "stream",
     "text": [
      "True\n"
     ]
    }
   ],
   "source": [
    "\n",
    "game_id, player_recommendtion_id_list, written_during_early_access_list = [], [], []\n",
    "playtime_at_review_list, received_for_free_list,hidden_in_steam_china = [], [], []\n",
    "for i in tqdm_notebook(range(len(all_reviews))):\n",
    "    game_reviews = all_reviews[i]\n",
    "    if len(game_reviews) > 0:\n",
    "        for j in ((game_reviews)):\n",
    "            review = j\n",
    "            player_recommendtion_id_list.append(review[\"recommendationid\"])\n",
    "            hidden_in_steam_china.append(review[\"hidden_in_steam_china\"])\n",
    "            written_during_early_access_list.append(review[\"written_during_early_access\"])\n",
    "            received_for_free_list.append(review[\"received_for_free\"])\n",
    "            try:\n",
    "                playtime_at_review_list.append(review[\"playtime_at_review\"])\n",
    "            except:\n",
    "                playtime_at_review_list.append(0)\n",
    "            game_id.append(review['game_id'])\n",
    "        pass\n",
    "    pass\n",
    "\n",
    "df_other_characteristics = pd.DataFrame(\n",
    "    list(zip(player_recommendtion_id_list, game_id, playtime_at_review_list,\n",
    "             hidden_in_steam_china, written_during_early_access_list,\n",
    "             received_for_free_list)),\n",
    "    columns=['recommendation_id', 'game_id', 'playtime_at_review',\n",
    "             'hidden_in_steam_china', 'written_during_early_access', 'received_for_free']\n",
    ")\n",
    "data_location=\"../data/supplemental_data/\"\n",
    "df_other_characteristics=(df_other_characteristics.drop_duplicates([\"recommendation_id\",\"game_id\"])).reset_index(drop=True)\n",
    "print(len(df_other_characteristics)==len(df))\n",
    "df_other_characteristics.to_csv(f\"{data_location}data_other_characteristics.csv.zip\", index=False)"
   ]
  },
  {
   "cell_type": "code",
   "execution_count": 14,
   "id": "f636a8ac",
   "metadata": {},
   "outputs": [
    {
     "data": {
      "text/html": [
       "<div>\n",
       "<style scoped>\n",
       "    .dataframe tbody tr th:only-of-type {\n",
       "        vertical-align: middle;\n",
       "    }\n",
       "\n",
       "    .dataframe tbody tr th {\n",
       "        vertical-align: top;\n",
       "    }\n",
       "\n",
       "    .dataframe thead th {\n",
       "        text-align: right;\n",
       "    }\n",
       "</style>\n",
       "<table border=\"1\" class=\"dataframe\">\n",
       "  <thead>\n",
       "    <tr style=\"text-align: right;\">\n",
       "      <th></th>\n",
       "      <th>playtime_at_review</th>\n",
       "    </tr>\n",
       "  </thead>\n",
       "  <tbody>\n",
       "    <tr>\n",
       "      <th>count</th>\n",
       "      <td>60511.933</td>\n",
       "    </tr>\n",
       "    <tr>\n",
       "      <th>mean</th>\n",
       "      <td>60.476</td>\n",
       "    </tr>\n",
       "    <tr>\n",
       "      <th>std</th>\n",
       "      <td>297.394</td>\n",
       "    </tr>\n",
       "    <tr>\n",
       "      <th>min</th>\n",
       "      <td>0.000</td>\n",
       "    </tr>\n",
       "    <tr>\n",
       "      <th>25%</th>\n",
       "      <td>4.433</td>\n",
       "    </tr>\n",
       "    <tr>\n",
       "      <th>50%</th>\n",
       "      <td>11.917</td>\n",
       "    </tr>\n",
       "    <tr>\n",
       "      <th>75%</th>\n",
       "      <td>32.650</td>\n",
       "    </tr>\n",
       "    <tr>\n",
       "      <th>max</th>\n",
       "      <td>61516.583</td>\n",
       "    </tr>\n",
       "  </tbody>\n",
       "</table>\n",
       "</div>"
      ],
      "text/plain": [
       "       playtime_at_review\n",
       "count           60511.933\n",
       "mean               60.476\n",
       "std               297.394\n",
       "min                 0.000\n",
       "25%                 4.433\n",
       "50%                11.917\n",
       "75%                32.650\n",
       "max             61516.583"
      ]
     },
     "execution_count": 14,
     "metadata": {},
     "output_type": "execute_result"
    }
   ],
   "source": [
    "df_other_characteristics[[\"playtime_at_review\"]].describe()/60"
   ]
  },
  {
   "cell_type": "code",
   "execution_count": 16,
   "id": "f663a2da",
   "metadata": {},
   "outputs": [
    {
     "name": "stdout",
     "output_type": "stream",
     "text": [
      "False    2599618\n",
      "True     1031098\n",
      "Name: hidden_in_steam_china, dtype: int64\n",
      "False   0.716\n",
      "True    0.284\n",
      "Name: hidden_in_steam_china, dtype: float64\n"
     ]
    }
   ],
   "source": [
    "if df_other_characteristics[\"hidden_in_steam_china\"].value_counts().sum()==len(df_other_characteristics):\n",
    "    print(df_other_characteristics[\"hidden_in_steam_china\"].value_counts())\n",
    "    print(df_other_characteristics[\"hidden_in_steam_china\"].value_counts()/len(df_other_characteristics))\n",
    "else:\n",
    "    print(\"values missing\")\n",
    "#     print(df_other_characteristics[\"hidden_in_steam_china\"].value_counts()/len(df_other_characteristics))\n",
    "#     print((len(df_other_characteristics)-df_other_characteristics[\"hidden_in_steam_china\"].value_counts().sum)/len(df_other_characteristics))"
   ]
  },
  {
   "cell_type": "code",
   "execution_count": 17,
   "id": "fc3cccbe",
   "metadata": {},
   "outputs": [
    {
     "name": "stdout",
     "output_type": "stream",
     "text": [
      "False    3524758\n",
      "True      105958\n",
      "Name: received_for_free, dtype: int64\n",
      "False   0.971\n",
      "True    0.029\n",
      "Name: received_for_free, dtype: float64\n"
     ]
    }
   ],
   "source": [
    "if df_other_characteristics[\"received_for_free\"].value_counts().sum()==len(df_other_characteristics):\n",
    "    print(df_other_characteristics[\"received_for_free\"].value_counts())\n",
    "    print(df_other_characteristics[\"received_for_free\"].value_counts()/len(df_other_characteristics))"
   ]
  },
  {
   "cell_type": "code",
   "execution_count": 18,
   "id": "0a81552f",
   "metadata": {},
   "outputs": [
    {
     "name": "stdout",
     "output_type": "stream",
     "text": [
      "False    3177973\n",
      "True      452743\n",
      "Name: written_during_early_access, dtype: int64\n",
      "False   0.875\n",
      "True    0.125\n",
      "Name: written_during_early_access, dtype: float64\n"
     ]
    }
   ],
   "source": [
    "if df_other_characteristics[\"written_during_early_access\"].value_counts().sum()==len(df_other_characteristics):\n",
    "    print(df_other_characteristics[\"written_during_early_access\"].value_counts())\n",
    "    print(df_other_characteristics[\"written_during_early_access\"].value_counts()/len(df_other_characteristics))"
   ]
  },
  {
   "cell_type": "code",
   "execution_count": 19,
   "id": "1c6adac1",
   "metadata": {},
   "outputs": [
    {
     "name": "stdout",
     "output_type": "stream",
     "text": [
      "Mean: 1575.8315972222222, Mdn:24.0, sd: 6290.845429738996\n"
     ]
    }
   ],
   "source": [
    "row_counts = df.groupby('game_id').size()\n",
    "average = row_counts.mean()\n",
    "std_dev = row_counts.std()\n",
    "median = row_counts.median()\n",
    "print(f\"Mean: {average}, Mdn:{median}, sd: {std_dev}\")"
   ]
  }
 ],
 "metadata": {
  "kernelspec": {
   "display_name": "Python 3 (ipykernel)",
   "language": "python",
   "name": "python3"
  },
  "language_info": {
   "codemirror_mode": {
    "name": "ipython",
    "version": 3
   },
   "file_extension": ".py",
   "mimetype": "text/x-python",
   "name": "python",
   "nbconvert_exporter": "python",
   "pygments_lexer": "ipython3",
   "version": "3.9.12"
  }
 },
 "nbformat": 4,
 "nbformat_minor": 5
}
