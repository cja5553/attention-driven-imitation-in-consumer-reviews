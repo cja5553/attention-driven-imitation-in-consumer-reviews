{
 "cells": [
  {
   "cell_type": "code",
   "execution_count": 1,
   "id": "07bac2e8",
   "metadata": {},
   "outputs": [
    {
     "data": {
      "text/plain": [
       "['builtins',\n",
       " 'builtins',\n",
       " ('requests', '2.27.1'),\n",
       " ('re', '2.2.1'),\n",
       " 'matplotlib.pyplot',\n",
       " ('pandas', '1.4.2'),\n",
       " 'types']"
      ]
     },
     "execution_count": 1,
     "metadata": {},
     "output_type": "execute_result"
    }
   ],
   "source": [
    "import requests\n",
    "from bs4 import BeautifulSoup\n",
    "import re\n",
    "from tqdm import tqdm\n",
    "import matplotlib.pyplot as plt\n",
    "import pandas as pd\n",
    "import types\n",
    "\n",
    "def imports():\n",
    "    for name, val in globals().items():\n",
    "        if isinstance(val, types.ModuleType):\n",
    "            try:\n",
    "                yield val.__name__, val.__version__\n",
    "                pass\n",
    "            except:\n",
    "                yield val.__name__\n",
    "                pass\n",
    "            pass\n",
    "        pass\n",
    "    pass\n",
    "\n",
    "list(imports())"
   ]
  },
  {
   "cell_type": "code",
   "execution_count": 48,
   "id": "6f1b83ce",
   "metadata": {},
   "outputs": [],
   "source": [
    "\n",
    "def extract_reviews_counts_from_webpage(game_id):\n",
    "    response = requests.get(f\"https://store.steampowered.com/app/{game_id}\")\n",
    "    \n",
    "    if response.status_code != 200:\n",
    "        return \"Error: Unable to access the page\"\n",
    "\n",
    "    soup = BeautifulSoup(response.text, 'html.parser')\n",
    "    \n",
    "    pattern = re.compile(r'\\(\\d+ reviews\\)|No reviews|There are no reviews for this product')\n",
    "\n",
    "    reviews = soup.find_all(string=pattern)\n",
    "\n",
    "    if reviews:\n",
    "        return reviews[0].strip()\n",
    "    else:\n",
    "        return \"NA\""
   ]
  },
  {
   "cell_type": "code",
   "execution_count": 15,
   "id": "0bdedb3c",
   "metadata": {},
   "outputs": [],
   "source": [
    "data_location_of_games_id='../data/raw_data/'\n",
    "with open(data_location_of_games_id+\"games_list_to_rescrape.txt\", 'r') as f:\n",
    "    games_with_no_reviews = f.read().splitlines()"
   ]
  },
  {
   "cell_type": "code",
   "execution_count": 16,
   "id": "1ffbc07e",
   "metadata": {},
   "outputs": [
    {
     "name": "stderr",
     "output_type": "stream",
     "text": [
      "100%|███████████████████████████████████████| 1378/1378 [13:22<00:00,  1.72it/s]\n"
     ]
    }
   ],
   "source": [
    "list_of_reviews_counts=[extract_reviews_counts_from_webpage(str(i)) for i in tqdm(games_with_no_reviews)]"
   ]
  },
  {
   "cell_type": "code",
   "execution_count": 18,
   "id": "d618389a",
   "metadata": {},
   "outputs": [
    {
     "name": "stderr",
     "output_type": "stream",
     "text": [
      "100%|███████████████████████████████████| 1378/1378 [00:00<00:00, 213180.54it/s]\n"
     ]
    }
   ],
   "source": [
    "# cleaning the outputs\n",
    "characters_to_remove = ['(', ')', ',']\n",
    "list_of_reviews_counts_cleaned = [element.translate({ord(char): None for char in characters_to_remove}) for element in tqdm(list_of_reviews_counts)]"
   ]
  },
  {
   "cell_type": "code",
   "execution_count": 39,
   "id": "82a5f1af",
   "metadata": {},
   "outputs": [],
   "source": [
    "# Function to extract number from a string or return 0 for specific text\n",
    "def extract_number(s):\n",
    "    if s == \"There are no reviews for this product\":\n",
    "        return 0\n",
    "    match = re.search(r'\\d+', s)\n",
    "    return int(match.group()) if match else None\n",
    "\n",
    "# Convert elements to numbers\n",
    "list_of_reviews_counts_cleaned = [extract_number(element) for element in list_of_reviews_counts_cleaned]\n"
   ]
  },
  {
   "cell_type": "code",
   "execution_count": 52,
   "id": "a073f315",
   "metadata": {},
   "outputs": [],
   "source": [
    "# saving data\n",
    "data_location_supplemental_data=\"../data/supplemental_data/information on games with zero reviews returned by API\"\n",
    "df=pd.DataFrame({\"Game id\":single_FPS_appids,\"Number of reviews\":list_of_reviews_counts_cleaned})\n",
    "df.to_csv(f\"{data_location_supplemental_data}games_with_no_reviews.csv\")"
   ]
  },
  {
   "cell_type": "code",
   "execution_count": 4,
   "id": "52126f0c",
   "metadata": {},
   "outputs": [],
   "source": [
    "data_location_supplemental_data=\"../data/supplemental_data/information on games with zero reviews returned by API/\"\n",
    "df=pd.read_csv(f\"{data_location_supplemental_data}games_with_no_reviews.csv\")"
   ]
  },
  {
   "cell_type": "code",
   "execution_count": 14,
   "id": "32439123",
   "metadata": {},
   "outputs": [
    {
     "data": {
      "text/plain": [
       "1378"
      ]
     },
     "execution_count": 14,
     "metadata": {},
     "output_type": "execute_result"
    }
   ],
   "source": [
    "len(df)"
   ]
  },
  {
   "cell_type": "code",
   "execution_count": 16,
   "id": "0c59c09f",
   "metadata": {},
   "outputs": [
    {
     "data": {
      "text/plain": [
       "0.0      944\n",
       "1.0       55\n",
       "2.0       20\n",
       "3.0       13\n",
       "10.0       9\n",
       "        ... \n",
       "433.0      1\n",
       "181.0      1\n",
       "115.0      1\n",
       "137.0      1\n",
       "378.0      1\n",
       "Name: Number of reviews, Length: 138, dtype: int64"
      ]
     },
     "execution_count": 16,
     "metadata": {},
     "output_type": "execute_result"
    }
   ],
   "source": [
    "df[\"Number of reviews\"].value_counts()"
   ]
  },
  {
   "cell_type": "code",
   "execution_count": 18,
   "id": "f92bd6b9",
   "metadata": {},
   "outputs": [
    {
     "data": {
      "text/html": [
       "<div>\n",
       "<style scoped>\n",
       "    .dataframe tbody tr th:only-of-type {\n",
       "        vertical-align: middle;\n",
       "    }\n",
       "\n",
       "    .dataframe tbody tr th {\n",
       "        vertical-align: top;\n",
       "    }\n",
       "\n",
       "    .dataframe thead th {\n",
       "        text-align: right;\n",
       "    }\n",
       "</style>\n",
       "<table border=\"1\" class=\"dataframe\">\n",
       "  <thead>\n",
       "    <tr style=\"text-align: right;\">\n",
       "      <th></th>\n",
       "      <th>Unnamed: 0</th>\n",
       "      <th>Game id</th>\n",
       "      <th>Number of reviews</th>\n",
       "    </tr>\n",
       "  </thead>\n",
       "  <tbody>\n",
       "    <tr>\n",
       "      <th>0</th>\n",
       "      <td>0</td>\n",
       "      <td>1000900</td>\n",
       "      <td>NaN</td>\n",
       "    </tr>\n",
       "    <tr>\n",
       "      <th>6</th>\n",
       "      <td>6</td>\n",
       "      <td>1045150</td>\n",
       "      <td>NaN</td>\n",
       "    </tr>\n",
       "    <tr>\n",
       "      <th>23</th>\n",
       "      <td>23</td>\n",
       "      <td>1122870</td>\n",
       "      <td>NaN</td>\n",
       "    </tr>\n",
       "    <tr>\n",
       "      <th>26</th>\n",
       "      <td>26</td>\n",
       "      <td>1134530</td>\n",
       "      <td>NaN</td>\n",
       "    </tr>\n",
       "    <tr>\n",
       "      <th>70</th>\n",
       "      <td>70</td>\n",
       "      <td>1287150</td>\n",
       "      <td>NaN</td>\n",
       "    </tr>\n",
       "    <tr>\n",
       "      <th>...</th>\n",
       "      <td>...</td>\n",
       "      <td>...</td>\n",
       "      <td>...</td>\n",
       "    </tr>\n",
       "    <tr>\n",
       "      <th>1341</th>\n",
       "      <td>1341</td>\n",
       "      <td>802200</td>\n",
       "      <td>NaN</td>\n",
       "    </tr>\n",
       "    <tr>\n",
       "      <th>1345</th>\n",
       "      <td>1345</td>\n",
       "      <td>814550</td>\n",
       "      <td>NaN</td>\n",
       "    </tr>\n",
       "    <tr>\n",
       "      <th>1362</th>\n",
       "      <td>1362</td>\n",
       "      <td>920450</td>\n",
       "      <td>NaN</td>\n",
       "    </tr>\n",
       "    <tr>\n",
       "      <th>1365</th>\n",
       "      <td>1365</td>\n",
       "      <td>928950</td>\n",
       "      <td>NaN</td>\n",
       "    </tr>\n",
       "    <tr>\n",
       "      <th>1373</th>\n",
       "      <td>1373</td>\n",
       "      <td>979080</td>\n",
       "      <td>NaN</td>\n",
       "    </tr>\n",
       "  </tbody>\n",
       "</table>\n",
       "<p>63 rows × 3 columns</p>\n",
       "</div>"
      ],
      "text/plain": [
       "      Unnamed: 0  Game id  Number of reviews\n",
       "0              0  1000900                NaN\n",
       "6              6  1045150                NaN\n",
       "23            23  1122870                NaN\n",
       "26            26  1134530                NaN\n",
       "70            70  1287150                NaN\n",
       "...          ...      ...                ...\n",
       "1341        1341   802200                NaN\n",
       "1345        1345   814550                NaN\n",
       "1362        1362   920450                NaN\n",
       "1365        1365   928950                NaN\n",
       "1373        1373   979080                NaN\n",
       "\n",
       "[63 rows x 3 columns]"
      ]
     },
     "execution_count": 18,
     "metadata": {},
     "output_type": "execute_result"
    }
   ],
   "source": [
    "df[df[\"Number of reviews\"].isna()]"
   ]
  },
  {
   "cell_type": "code",
   "execution_count": 13,
   "id": "61a55e2e",
   "metadata": {},
   "outputs": [
    {
     "data": {
      "text/html": [
       "<div>\n",
       "<style scoped>\n",
       "    .dataframe tbody tr th:only-of-type {\n",
       "        vertical-align: middle;\n",
       "    }\n",
       "\n",
       "    .dataframe tbody tr th {\n",
       "        vertical-align: top;\n",
       "    }\n",
       "\n",
       "    .dataframe thead th {\n",
       "        text-align: right;\n",
       "    }\n",
       "</style>\n",
       "<table border=\"1\" class=\"dataframe\">\n",
       "  <thead>\n",
       "    <tr style=\"text-align: right;\">\n",
       "      <th></th>\n",
       "      <th>Unnamed: 0</th>\n",
       "      <th>Game id</th>\n",
       "      <th>Number of reviews</th>\n",
       "    </tr>\n",
       "  </thead>\n",
       "  <tbody>\n",
       "    <tr>\n",
       "      <th>24</th>\n",
       "      <td>24</td>\n",
       "      <td>1122970</td>\n",
       "      <td>137.0</td>\n",
       "    </tr>\n",
       "    <tr>\n",
       "      <th>27</th>\n",
       "      <td>27</td>\n",
       "      <td>1137910</td>\n",
       "      <td>167.0</td>\n",
       "    </tr>\n",
       "    <tr>\n",
       "      <th>35</th>\n",
       "      <td>35</td>\n",
       "      <td>1172830</td>\n",
       "      <td>135.0</td>\n",
       "    </tr>\n",
       "    <tr>\n",
       "      <th>37</th>\n",
       "      <td>37</td>\n",
       "      <td>1180380</td>\n",
       "      <td>674.0</td>\n",
       "    </tr>\n",
       "    <tr>\n",
       "      <th>44</th>\n",
       "      <td>44</td>\n",
       "      <td>1201400</td>\n",
       "      <td>757.0</td>\n",
       "    </tr>\n",
       "    <tr>\n",
       "      <th>...</th>\n",
       "      <td>...</td>\n",
       "      <td>...</td>\n",
       "      <td>...</td>\n",
       "    </tr>\n",
       "    <tr>\n",
       "      <th>1339</th>\n",
       "      <td>1339</td>\n",
       "      <td>783770</td>\n",
       "      <td>167.0</td>\n",
       "    </tr>\n",
       "    <tr>\n",
       "      <th>1355</th>\n",
       "      <td>1355</td>\n",
       "      <td>890880</td>\n",
       "      <td>504.0</td>\n",
       "    </tr>\n",
       "    <tr>\n",
       "      <th>1363</th>\n",
       "      <td>1363</td>\n",
       "      <td>920470</td>\n",
       "      <td>189.0</td>\n",
       "    </tr>\n",
       "    <tr>\n",
       "      <th>1367</th>\n",
       "      <td>1367</td>\n",
       "      <td>947940</td>\n",
       "      <td>695.0</td>\n",
       "    </tr>\n",
       "    <tr>\n",
       "      <th>1372</th>\n",
       "      <td>1372</td>\n",
       "      <td>974090</td>\n",
       "      <td>378.0</td>\n",
       "    </tr>\n",
       "  </tbody>\n",
       "</table>\n",
       "<p>67 rows × 3 columns</p>\n",
       "</div>"
      ],
      "text/plain": [
       "      Unnamed: 0  Game id  Number of reviews\n",
       "24            24  1122970              137.0\n",
       "27            27  1137910              167.0\n",
       "35            35  1172830              135.0\n",
       "37            37  1180380              674.0\n",
       "44            44  1201400              757.0\n",
       "...          ...      ...                ...\n",
       "1339        1339   783770              167.0\n",
       "1355        1355   890880              504.0\n",
       "1363        1363   920470              189.0\n",
       "1367        1367   947940              695.0\n",
       "1372        1372   974090              378.0\n",
       "\n",
       "[67 rows x 3 columns]"
      ]
     },
     "execution_count": 13,
     "metadata": {},
     "output_type": "execute_result"
    }
   ],
   "source": [
    "df[df[\"Number of reviews\"]>=100]"
   ]
  },
  {
   "cell_type": "code",
   "execution_count": 25,
   "id": "76502789",
   "metadata": {},
   "outputs": [
    {
     "data": {
      "text/html": [
       "<div>\n",
       "<style scoped>\n",
       "    .dataframe tbody tr th:only-of-type {\n",
       "        vertical-align: middle;\n",
       "    }\n",
       "\n",
       "    .dataframe tbody tr th {\n",
       "        vertical-align: top;\n",
       "    }\n",
       "\n",
       "    .dataframe thead th {\n",
       "        text-align: right;\n",
       "    }\n",
       "</style>\n",
       "<table border=\"1\" class=\"dataframe\">\n",
       "  <thead>\n",
       "    <tr style=\"text-align: right;\">\n",
       "      <th></th>\n",
       "      <th>Unnamed: 0</th>\n",
       "      <th>Game id</th>\n",
       "      <th>Number of reviews</th>\n",
       "    </tr>\n",
       "  </thead>\n",
       "  <tbody>\n",
       "    <tr>\n",
       "      <th>5</th>\n",
       "      <td>5</td>\n",
       "      <td>1044820</td>\n",
       "      <td>1.0</td>\n",
       "    </tr>\n",
       "    <tr>\n",
       "      <th>7</th>\n",
       "      <td>7</td>\n",
       "      <td>1057700</td>\n",
       "      <td>39.0</td>\n",
       "    </tr>\n",
       "    <tr>\n",
       "      <th>8</th>\n",
       "      <td>8</td>\n",
       "      <td>1069380</td>\n",
       "      <td>38.0</td>\n",
       "    </tr>\n",
       "    <tr>\n",
       "      <th>13</th>\n",
       "      <td>13</td>\n",
       "      <td>1089130</td>\n",
       "      <td>32.0</td>\n",
       "    </tr>\n",
       "    <tr>\n",
       "      <th>18</th>\n",
       "      <td>18</td>\n",
       "      <td>1118920</td>\n",
       "      <td>22.0</td>\n",
       "    </tr>\n",
       "    <tr>\n",
       "      <th>...</th>\n",
       "      <td>...</td>\n",
       "      <td>...</td>\n",
       "      <td>...</td>\n",
       "    </tr>\n",
       "    <tr>\n",
       "      <th>1352</th>\n",
       "      <td>1352</td>\n",
       "      <td>882860</td>\n",
       "      <td>1.0</td>\n",
       "    </tr>\n",
       "    <tr>\n",
       "      <th>1353</th>\n",
       "      <td>1353</td>\n",
       "      <td>886220</td>\n",
       "      <td>10.0</td>\n",
       "    </tr>\n",
       "    <tr>\n",
       "      <th>1358</th>\n",
       "      <td>1358</td>\n",
       "      <td>905640</td>\n",
       "      <td>12.0</td>\n",
       "    </tr>\n",
       "    <tr>\n",
       "      <th>1364</th>\n",
       "      <td>1364</td>\n",
       "      <td>922320</td>\n",
       "      <td>17.0</td>\n",
       "    </tr>\n",
       "    <tr>\n",
       "      <th>1377</th>\n",
       "      <td>1377</td>\n",
       "      <td>995340</td>\n",
       "      <td>2.0</td>\n",
       "    </tr>\n",
       "  </tbody>\n",
       "</table>\n",
       "<p>304 rows × 3 columns</p>\n",
       "</div>"
      ],
      "text/plain": [
       "      Unnamed: 0  Game id  Number of reviews\n",
       "5              5  1044820                1.0\n",
       "7              7  1057700               39.0\n",
       "8              8  1069380               38.0\n",
       "13            13  1089130               32.0\n",
       "18            18  1118920               22.0\n",
       "...          ...      ...                ...\n",
       "1352        1352   882860                1.0\n",
       "1353        1353   886220               10.0\n",
       "1358        1358   905640               12.0\n",
       "1364        1364   922320               17.0\n",
       "1377        1377   995340                2.0\n",
       "\n",
       "[304 rows x 3 columns]"
      ]
     },
     "execution_count": 25,
     "metadata": {},
     "output_type": "execute_result"
    }
   ],
   "source": [
    "df[(df[\"Number of reviews\"]<100)& (df[\"Number of reviews\"]>=1)]\n",
    "# 63+67+944+304"
   ]
  },
  {
   "cell_type": "code",
   "execution_count": 45,
   "id": "902877bd",
   "metadata": {},
   "outputs": [
    {
     "data": {
      "image/png": "[encoded data removed]",
      "text/plain": [
       "<Figure size 432x288 with 1 Axes>"
      ]
     },
     "metadata": {
      "needs_background": "light"
     },
     "output_type": "display_data"
    }
   ],
   "source": [
    "# plotting the distribution\n",
    "list_without_na = [element for element in list_of_reviews_counts_cleaned if element != None]\n",
    "plt.hist(list_without_na, bins=100, color=\"blue\")\n",
    "plt.title('Distribution of the number of reviews \\nfor games where the API returned no reviews')\n",
    "plt.xlabel('Number of reviews')\n",
    "plt.ylabel('Number of games')\n",
    "\n",
    "# Save the figure before showing it\n",
    "plt.savefig(f'{data_location_supplemental_data}distribution_plot.jpg', dpi=300)\n",
    "\n",
    "# Show the plot\n",
    "plt.show()"
   ]
  }
 ],
 "metadata": {
  "kernelspec": {
   "display_name": "Python 3 (ipykernel)",
   "language": "python",
   "name": "python3"
  },
  "language_info": {
   "codemirror_mode": {
    "name": "ipython",
    "version": 3
   },
   "file_extension": ".py",
   "mimetype": "text/x-python",
   "name": "python",
   "nbconvert_exporter": "python",
   "pygments_lexer": "ipython3",
   "version": "3.9.12"
  }
 },
 "nbformat": 4,
 "nbformat_minor": 5
}
