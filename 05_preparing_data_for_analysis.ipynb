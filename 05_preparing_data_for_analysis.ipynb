{
 "cells": [
  {
   "cell_type": "code",
   "execution_count": 1,
   "id": "f2375ad6",
   "metadata": {},
   "outputs": [
    {
     "name": "stderr",
     "output_type": "stream",
     "text": [
      "/Users/charlesalba/.local/lib/python3.9/site-packages/pandas/core/computation/expressions.py:21: UserWarning: Pandas requires version '2.8.4' or newer of 'numexpr' (version '2.8.1' currently installed).\n",
      "  from pandas.core.computation.check import NUMEXPR_INSTALLED\n",
      "/Users/charlesalba/.local/lib/python3.9/site-packages/pandas/core/arrays/masked.py:60: UserWarning: Pandas requires version '1.3.6' or newer of 'bottleneck' (version '1.3.4' currently installed).\n",
      "  from pandas.core import (\n"
     ]
    },
    {
     "data": {
      "text/plain": [
       "['builtins', 'builtins', ('pandas', '2.2.1'), 'types', 'ast', 'zipfile']"
      ]
     },
     "execution_count": 1,
     "metadata": {},
     "output_type": "execute_result"
    }
   ],
   "source": [
    "import pandas as pd\n",
    "from tqdm import tqdm\n",
    "import types \n",
    "import ast\n",
    "import zipfile\n",
    "def imports():\n",
    "    for name, val in globals().items():\n",
    "        if isinstance(val, types.ModuleType):\n",
    "            try:\n",
    "                yield val.__name__, val.__version__\n",
    "                pass\n",
    "            except:\n",
    "                yield val.__name__\n",
    "                pass\n",
    "            pass\n",
    "        pass\n",
    "    pass\n",
    "\n",
    "list(imports())"
   ]
  },
  {
   "cell_type": "code",
   "execution_count": 2,
   "id": "886c9062",
   "metadata": {},
   "outputs": [],
   "source": [
    "data_location=\"../data/interim_data/04_text_mining/postprocessed/\"\n",
    "df=pd.read_csv(f'{data_location}data_with_similarities.csv.gz', compression='gzip',low_memory=False)"
   ]
  },
  {
   "cell_type": "code",
   "execution_count": 3,
   "id": "f87ae1d2",
   "metadata": {},
   "outputs": [],
   "source": [
    "# adding additional rows to trace which game is a package, which is a package and has identical views compare to the pure game, and which has a package but the package and game view is different. \n",
    "df['appears_both_in_game_and_package'] = df.duplicated(subset=[\"recommendation_id\"], keep=False)\n",
    "df['package_and_game_view_is_identical'] = df.duplicated(subset=[\"recommendation_id\",\"sidebar_list_of_similarities\",\"main_bar_list_of_similarities\",\"control_list_of_similarities\"], keep=False)\n",
    "df['is_a_package'] = df['game_id'].apply(lambda x: ',' in x)\n",
    "df[\"package_review_but_displayed_different\"] = (~df[\"package_and_game_view_is_identical\"]) & (df[\"is_a_package\"])"
   ]
  },
  {
   "cell_type": "code",
   "execution_count": 4,
   "id": "031e791c",
   "metadata": {},
   "outputs": [
    {
     "data": {
      "text/plain": [
       "appears_both_in_game_and_package\n",
       "False    2897361\n",
       "True      367582\n",
       "Name: count, dtype: int64"
      ]
     },
     "execution_count": 4,
     "metadata": {},
     "output_type": "execute_result"
    }
   ],
   "source": [
    "df[\"appears_both_in_game_and_package\"].value_counts()"
   ]
  },
  {
   "cell_type": "code",
   "execution_count": 5,
   "id": "db74e2a5",
   "metadata": {},
   "outputs": [
    {
     "data": {
      "text/plain": [
       "package_and_game_view_is_identical\n",
       "False    3053501\n",
       "True      211442\n",
       "Name: count, dtype: int64"
      ]
     },
     "execution_count": 5,
     "metadata": {},
     "output_type": "execute_result"
    }
   ],
   "source": [
    "df[\"package_and_game_view_is_identical\"].value_counts()"
   ]
  },
  {
   "cell_type": "code",
   "execution_count": 6,
   "id": "3f35933b",
   "metadata": {},
   "outputs": [
    {
     "data": {
      "text/plain": [
       "package_review_but_displayed_different\n",
       "False    3185941\n",
       "True       79002\n",
       "Name: count, dtype: int64"
      ]
     },
     "execution_count": 6,
     "metadata": {},
     "output_type": "execute_result"
    }
   ],
   "source": [
    "df[\"package_review_but_displayed_different\"].value_counts()"
   ]
  },
  {
   "cell_type": "code",
   "execution_count": 7,
   "id": "33799213",
   "metadata": {},
   "outputs": [
    {
     "data": {
      "text/plain": [
       "is_a_package\n",
       "False    3080220\n",
       "True      184723\n",
       "Name: count, dtype: int64"
      ]
     },
     "execution_count": 7,
     "metadata": {},
     "output_type": "execute_result"
    }
   ],
   "source": [
    "df[\"is_a_package\"].value_counts()"
   ]
  },
  {
   "cell_type": "code",
   "execution_count": 8,
   "id": "bf34a925",
   "metadata": {},
   "outputs": [
    {
     "data": {
      "text/plain": [
       "105721"
      ]
     },
     "execution_count": 8,
     "metadata": {},
     "output_type": "execute_result"
    }
   ],
   "source": [
    "# number of package reviews that appeared exactly the same as they did in the raw game in itself\n",
    "len(df[(df[\"is_a_package\"]==True)&(df[\"package_and_game_view_is_identical\"]==True)])"
   ]
  },
  {
   "cell_type": "code",
   "execution_count": 9,
   "id": "72ce1cb1",
   "metadata": {},
   "outputs": [
    {
     "data": {
      "text/plain": [
       "True"
      ]
     },
     "execution_count": 9,
     "metadata": {},
     "output_type": "execute_result"
    }
   ],
   "source": [
    "# checking if there are duplicates or not for unique values of recommendation_id and game_id\n",
    "len(df[[\"recommendation_id\",\"game_id\"]].drop_duplicates())==len(df)"
   ]
  },
  {
   "cell_type": "code",
   "execution_count": 10,
   "id": "013bfd47",
   "metadata": {},
   "outputs": [
    {
     "name": "stderr",
     "output_type": "stream",
     "text": [
      "100%|██████████████████████████████| 3264943/3264943 [01:32<00:00, 35472.17it/s]\n",
      "100%|██████████████████████████████| 3264943/3264943 [01:41<00:00, 32115.02it/s]\n",
      "100%|██████████████████████████████| 3264943/3264943 [01:53<00:00, 28660.07it/s]\n"
     ]
    }
   ],
   "source": [
    "# Making sure the data is in its proper data type (for safe-measure)\n",
    "if type(df[\"main_bar_list_of_similarities\"][0]) != list:\n",
    "    df[\"sidebar_list_of_similarities\"] = [[str(item) for item in ast.literal_eval(lst)] for lst in tqdm(df[\"sidebar_list_of_similarities\"])]\n",
    "    df[\"main_bar_list_of_similarities\"] = [[str(item) for item in ast.literal_eval(lst)] for lst in tqdm(df[\"main_bar_list_of_similarities\"])]\n",
    "    df[\"control_list_of_similarities\"] = [[str(item) for item in ast.literal_eval(lst)] for lst in tqdm(df[\"control_list_of_similarities\"])]\n",
    "else:\n",
    "    # Ensure each element in each list is a string\n",
    "    df[\"sidebar_list_of_similarities\"] = [[str(item) for item in lst] for lst in tqdm(df[\"sidebar_list_of_similarities\"])]\n",
    "    df[\"main_bar_list_of_similarities\"] = [[str(item) for item in lst] for lst in tqdm(df[\"main_bar_list_of_similarities\"])]\n",
    "    df[\"control_list_of_similarities\"] = [[str(item) for item in lst] for lst in tqdm(df[\"control_list_of_similarities\"])]\n",
    "\n",
    "df['recommendation_id'] = df['recommendation_id'].astype(str)\n",
    "df['game_id'] = df['game_id'].astype(str)\n",
    "df['timestamp_created'] = df['timestamp_created'].astype(int)\n",
    "df[\"votes_up\"]= df['votes_up'].astype(int)\n",
    "df[\"voted_up\"]= df['voted_up'].astype(bool)"
   ]
  },
  {
   "cell_type": "code",
   "execution_count": 11,
   "id": "81c3f442",
   "metadata": {},
   "outputs": [
    {
     "name": "stderr",
     "output_type": "stream",
     "text": [
      "100%|█████████████████████████████████████████████| 3/3 [00:02<00:00,  1.00it/s]"
     ]
    },
    {
     "name": "stdout",
     "output_type": "stream",
     "text": [
      "All items in the specified columns are lists with a length of 10.\n"
     ]
    },
    {
     "name": "stderr",
     "output_type": "stream",
     "text": [
      "\n"
     ]
    }
   ],
   "source": [
    "def checking_length_of_comparison(df,columns_to_check = [\"main_bar_list_of_similarities\", \n",
    "                                                         \"sidebar_list_of_similarities\", \n",
    "                                                         \"control_list_of_similarities\"]):\n",
    "    '''\n",
    "    ensuring that each review_id has 10 similarities for each list sidebar, mainbar and control reviews\n",
    "    Args:\n",
    "    df (pandas dataframe): dataframe of our reviews with the relevant columns where each cell contains\n",
    "    a list of similarities of comparison. \n",
    "    columns_to_check (list): a list of columns in which we want to ensure that each cell contains a list\n",
    "    with a length of 10 similarities. \n",
    "    \n",
    "    Returns:\n",
    "    print statement with row and column containing the cells that do not contain a list of 10 similarities. \n",
    "\n",
    "    '''\n",
    "\n",
    "    # Initialize an empty list to store rows and columns that don't meet the criterion\n",
    "    mismatched_items = []\n",
    "\n",
    "    # Iterate through each row and column to check the condition\n",
    "    for col in tqdm(columns_to_check):\n",
    "        for index, item in enumerate(df[col]):\n",
    "            # Check if the item is a list and its length is 10\n",
    "            if not isinstance(item, list) or len(item) != 10:\n",
    "                mismatched_items.append((index, col))\n",
    "\n",
    "    # Displaying the results\n",
    "    if mismatched_items:\n",
    "        for index, col in mismatched_items:\n",
    "            print(f\"Warning! Row {index} in column '{col}' does not have a list of length 10. Please double check!\")\n",
    "    else:\n",
    "        print(\"All items in the specified columns are lists with a length of 10.\")\n",
    "\n",
    "        \n",
    "checking_length_of_comparison(df,columns_to_check = [\"main_bar_list_of_similarities\", \n",
    "                                                     \"sidebar_list_of_similarities\", \n",
    "                                                     \"control_list_of_similarities\"])"
   ]
  },
  {
   "cell_type": "code",
   "execution_count": 12,
   "id": "60f8172a",
   "metadata": {},
   "outputs": [
    {
     "name": "stderr",
     "output_type": "stream",
     "text": [
      "100%|████████████████████████████| 3264943/3264943 [00:02<00:00, 1121510.22it/s]\n",
      "100%|█████████████████████████████| 3264943/3264943 [00:05<00:00, 607836.76it/s]\n",
      "100%|█████████████████████████████| 3264943/3264943 [00:05<00:00, 560005.78it/s]\n"
     ]
    }
   ],
   "source": [
    "def obtain_extended_dataframe_of_similarities(df, column_name, similarity_type):\n",
    "    '''\n",
    "    melts and extends data for each given similarity type (ie mainbar, sidebar, and control)\n",
    "    \n",
    "    args:\n",
    "    df (pandas dataframe): dataframe with the columns of containing a list of similarities \n",
    "    for the corresponding similarity type\n",
    "    column_name (str): the column name in which we wish to melt the data\n",
    "    similarity_type (str): type of similarity we are comparing each review with\n",
    "    \n",
    "    returns:\n",
    "    pandas dataframe of melted data that is ready for analysis. \n",
    "    '''\n",
    "    def obtain_corresponding_feature(org_list):\n",
    "        return([element for element in list(org_list) for _ in range(10)])\n",
    "    similarities=[item for sublist in tqdm(list(df[column_name])) for item in (sublist)]\n",
    "    recommendation_id=obtain_corresponding_feature((df[\"recommendation_id\"]))\n",
    "    order=[i+1 for i in range(10)]*len(df)\n",
    "    game_id=obtain_corresponding_feature((df[\"game_id\"]))\n",
    "    score=obtain_corresponding_feature((df[\"score\"]))\n",
    "    votes_up=obtain_corresponding_feature((df[\"votes_up\"]))\n",
    "    voted_up=obtain_corresponding_feature((df[\"voted_up\"]))\n",
    "    timestamp_created=obtain_corresponding_feature((df[\"timestamp_created\"]))\n",
    "    appears_both_in_game_and_package=obtain_corresponding_feature((df[\"appears_both_in_game_and_package\"]))\n",
    "    is_a_package=obtain_corresponding_feature((df[\"is_a_package\"]))\n",
    "    package_and_game_view_is_identical=obtain_corresponding_feature((df[\"package_and_game_view_is_identical\"]))\n",
    "    package_review_but_displayed_different=obtain_corresponding_feature((df[\"package_review_but_displayed_different\"]))\n",
    "    similarity_type=[similarity_type for i in range(len(voted_up))]\n",
    "    data=pd.DataFrame({\n",
    "        \"recommendation_id\":recommendation_id,\n",
    "        \"order\":order,\n",
    "        \"similarity_score\":similarities,\n",
    "        \"similarity_type\":similarity_type,\n",
    "        \"game_id\":game_id,\n",
    "        \"score\":score,\n",
    "        \"votes_up\":votes_up,\n",
    "        \"voted_up\":voted_up,\n",
    "        \"time_stampcreated\":timestamp_created,\n",
    "        \"is_a_package\":is_a_package,\n",
    "        \"appears_both_in_game_and_package\":appears_both_in_game_and_package,\n",
    "        \"package_and_game_view_is_identical\":package_and_game_view_is_identical,\n",
    "        \"package_review_but_displayed_different\":package_review_but_displayed_different\n",
    "        \n",
    "    })\n",
    "    return(data)\n",
    "\n",
    "df_mainbar=obtain_extended_dataframe_of_similarities(df, \"main_bar_list_of_similarities\", \"main bar\")\n",
    "df_sidebar=obtain_extended_dataframe_of_similarities(df, \"sidebar_list_of_similarities\", \"sidebar\")\n",
    "df_control=obtain_extended_dataframe_of_similarities(df, \"control_list_of_similarities\", \"control\")\n",
    "data=pd.concat([df_mainbar,df_sidebar,df_control]).reset_index(drop=True)"
   ]
  },
  {
   "cell_type": "code",
   "execution_count": 13,
   "id": "0b14d590",
   "metadata": {},
   "outputs": [
    {
     "data": {
      "text/html": [
       "<div>\n",
       "<style scoped>\n",
       "    .dataframe tbody tr th:only-of-type {\n",
       "        vertical-align: middle;\n",
       "    }\n",
       "\n",
       "    .dataframe tbody tr th {\n",
       "        vertical-align: top;\n",
       "    }\n",
       "\n",
       "    .dataframe thead th {\n",
       "        text-align: right;\n",
       "    }\n",
       "</style>\n",
       "<table border=\"1\" class=\"dataframe\">\n",
       "  <thead>\n",
       "    <tr style=\"text-align: right;\">\n",
       "      <th></th>\n",
       "      <th>recommendation_id</th>\n",
       "      <th>order</th>\n",
       "      <th>similarity_score</th>\n",
       "      <th>similarity_type</th>\n",
       "      <th>game_id</th>\n",
       "      <th>score</th>\n",
       "      <th>votes_up</th>\n",
       "      <th>voted_up</th>\n",
       "      <th>time_stampcreated</th>\n",
       "      <th>is_a_package</th>\n",
       "      <th>appears_both_in_game_and_package</th>\n",
       "      <th>package_and_game_view_is_identical</th>\n",
       "      <th>package_review_but_displayed_different</th>\n",
       "    </tr>\n",
       "  </thead>\n",
       "  <tbody>\n",
       "  </tbody>\n",
       "</table>\n",
       "</div>"
      ],
      "text/plain": [
       "Empty DataFrame\n",
       "Columns: [recommendation_id, order, similarity_score, similarity_type, game_id, score, votes_up, voted_up, time_stampcreated, is_a_package, appears_both_in_game_and_package, package_and_game_view_is_identical, package_review_but_displayed_different]\n",
       "Index: []"
      ]
     },
     "execution_count": 13,
     "metadata": {},
     "output_type": "execute_result"
    }
   ],
   "source": [
    "# checking for duplicates\n",
    "duplicates = data.duplicated(keep=False)\n",
    "(data[duplicates])"
   ]
  },
  {
   "cell_type": "code",
   "execution_count": 14,
   "id": "cdd9c912",
   "metadata": {},
   "outputs": [],
   "source": [
    "data[\"similarity_score\"]=data[\"similarity_score\"].astype(float)"
   ]
  },
  {
   "cell_type": "code",
   "execution_count": 15,
   "id": "b8303a03",
   "metadata": {},
   "outputs": [],
   "source": [
    "data[\"votes_up\"]=data[\"votes_up\"].astype(int)"
   ]
  },
  {
   "cell_type": "code",
   "execution_count": 16,
   "id": "2eb0ea7c",
   "metadata": {},
   "outputs": [],
   "source": [
    "data.to_csv(\"../data/processed_data/data.csv.gz\",index=False, compression='gzip')"
   ]
  },
  {
   "cell_type": "code",
   "execution_count": 17,
   "id": "963250f6",
   "metadata": {},
   "outputs": [
    {
     "name": "stdout",
     "output_type": "stream",
     "text": [
      "3,264,943 reviews in total\n",
      "183,791 duplicates (6.0%)\n",
      "2,897,361 reviews after excluding duplicates\n",
      "game length: 694\n"
     ]
    }
   ],
   "source": [
    "number_duplicate_reviews = data.groupby('recommendation_id').size() == 60\n",
    "print('{:,} reviews in total'.format(data.shape[0]//30))\n",
    "print('{:,.0f} duplicates ({}%)'.format(number_duplicate_reviews.sum(), round(100*number_duplicate_reviews.mean(), 1)))\n",
    "data = data.groupby('recommendation_id').filter(lambda x : x.shape[0] == 30).reset_index(drop=True)\n",
    "print('{:,} reviews after excluding duplicates'.format(data.shape[0]//30))\n",
    "game_length=set(list(data[\"game_id\"]))\n",
    "print(\"game length:\", len(game_length))"
   ]
  }
 ],
 "metadata": {
  "kernelspec": {
   "display_name": "Python 3 (ipykernel)",
   "language": "python",
   "name": "python3"
  },
  "language_info": {
   "codemirror_mode": {
    "name": "ipython",
    "version": 3
   },
   "file_extension": ".py",
   "mimetype": "text/x-python",
   "name": "python",
   "nbconvert_exporter": "python",
   "pygments_lexer": "ipython3",
   "version": "3.9.12"
  }
 },
 "nbformat": 4,
 "nbformat_minor": 5
}
