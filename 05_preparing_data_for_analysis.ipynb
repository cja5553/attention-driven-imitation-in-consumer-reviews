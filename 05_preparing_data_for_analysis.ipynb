{
 "cells": [
  {
   "cell_type": "code",
   "execution_count": 1,
   "id": "f2375ad6",
   "metadata": {},
   "outputs": [
    {
     "data": {
      "text/plain": [
       "['builtins', 'builtins', ('pandas', '2.1.1'), 'types', 'ast', 'zipfile']"
      ]
     },
     "execution_count": 1,
     "metadata": {},
     "output_type": "execute_result"
    }
   ],
   "source": [
    "import pandas as pd\n",
    "from tqdm import tqdm\n",
    "import types \n",
    "import ast\n",
    "import zipfile\n",
    "def imports():\n",
    "    for name, val in globals().items():\n",
    "        if isinstance(val, types.ModuleType):\n",
    "            try:\n",
    "                yield val.__name__, val.__version__\n",
    "                pass\n",
    "            except:\n",
    "                yield val.__name__\n",
    "                pass\n",
    "            pass\n",
    "        pass\n",
    "    pass\n",
    "\n",
    "list(imports())"
   ]
  },
  {
   "cell_type": "code",
   "execution_count": 2,
   "id": "886c9062",
   "metadata": {},
   "outputs": [],
   "source": [
    "data_location=\"../data/interim_data/04_text_mining/postprocessed/\"\n",
    "df=pd.read_csv(f'{data_location}data_with_similarities.csv.gz', compression='gzip',low_memory=False)"
   ]
  },
  {
   "cell_type": "code",
   "execution_count": 3,
   "id": "72ce1cb1",
   "metadata": {},
   "outputs": [
    {
     "name": "stdout",
     "output_type": "stream",
     "text": [
      "<class 'pandas.core.frame.DataFrame'>\n",
      "RangeIndex: 3264943 entries, 0 to 3264942\n",
      "Data columns (total 16 columns):\n",
      " #   Column                         Dtype  \n",
      "---  ------                         -----  \n",
      " 0   recommendation_id              int64  \n",
      " 1   game_id                        object \n",
      " 2   score                          float64\n",
      " 3   review                         object \n",
      " 4   timestamp_created              int64  \n",
      " 5   timestamp_updated              int64  \n",
      " 6   votes_up                       int64  \n",
      " 7   voted_up                       int64  \n",
      " 8   order_of_main_bar_reviews      object \n",
      " 9   start_timestamp                int64  \n",
      " 10  sidebar_order_reviews          object \n",
      " 11  control_ids_list               object \n",
      " 12  sidebar_reviews_list           object \n",
      " 13  main_bar_list_of_similarities  object \n",
      " 14  sidebar_list_of_similarities   object \n",
      " 15  control_list_of_similarities   object \n",
      "dtypes: float64(1), int64(6), object(9)\n",
      "memory usage: 398.6+ MB\n"
     ]
    }
   ],
   "source": [
    "df.info()"
   ]
  },
  {
   "cell_type": "code",
   "execution_count": 4,
   "id": "013bfd47",
   "metadata": {},
   "outputs": [
    {
     "name": "stderr",
     "output_type": "stream",
     "text": [
      "100%|█████████████████████████████████████████████████████████████████████| 3264943/3264943 [01:47<00:00, 30367.87it/s]\n",
      "100%|█████████████████████████████████████████████████████████████████████| 3264943/3264943 [01:46<00:00, 30634.00it/s]\n",
      "100%|█████████████████████████████████████████████████████████████████████| 3264943/3264943 [01:49<00:00, 29787.70it/s]\n"
     ]
    }
   ],
   "source": [
    "# Making sure the data is in its proper data type (for safe-measure)\n",
    "if type(df[\"main_bar_list_of_similarities\"][0]) != list:\n",
    "    df[\"sidebar_list_of_similarities\"] = [[str(item) for item in ast.literal_eval(lst)] for lst in tqdm(df[\"sidebar_list_of_similarities\"])]\n",
    "    df[\"main_bar_list_of_similarities\"] = [[str(item) for item in ast.literal_eval(lst)] for lst in tqdm(df[\"main_bar_list_of_similarities\"])]\n",
    "    df[\"control_list_of_similarities\"] = [[str(item) for item in ast.literal_eval(lst)] for lst in tqdm(df[\"control_list_of_similarities\"])]\n",
    "else:\n",
    "    # Ensure each element in each list is a string\n",
    "    df[\"sidebar_list_of_similarities\"] = [[str(item) for item in lst] for lst in tqdm(df[\"sidebar_list_of_similarities\"])]\n",
    "    df[\"main_bar_list_of_similarities\"] = [[str(item) for item in lst] for lst in tqdm(df[\"main_bar_list_of_similarities\"])]\n",
    "    df[\"control_list_of_similarities\"] = [[str(item) for item in lst] for lst in tqdm(df[\"control_list_of_similarities\"])]\n",
    "\n",
    "df['recommendation_id'] = df['recommendation_id'].astype(str)\n",
    "df['game_id'] = df['game_id'].astype(str)\n",
    "df['timestamp_created'] = df['timestamp_created'].astype(int)\n",
    "df[\"votes_up\"]= df['votes_up'].astype(int)\n",
    "df[\"voted_up\"]= df['voted_up'].astype(bool)"
   ]
  },
  {
   "cell_type": "code",
   "execution_count": 5,
   "id": "22224c9e",
   "metadata": {},
   "outputs": [
    {
     "data": {
      "text/plain": [
       "['0.8395321369171143',\n",
       " '0.9030225872993469',\n",
       " '0.6396219730377197',\n",
       " '0.8063729405403137',\n",
       " '0.7074548602104187',\n",
       " '0.6428577303886414',\n",
       " '0.803161084651947',\n",
       " '0.5400782227516174',\n",
       " '0.4019930362701416',\n",
       " '0.7775624990463257']"
      ]
     },
     "execution_count": 5,
     "metadata": {},
     "output_type": "execute_result"
    }
   ],
   "source": [
    "list(df[\"main_bar_list_of_similarities\"])[0]"
   ]
  },
  {
   "cell_type": "code",
   "execution_count": 6,
   "id": "81c3f442",
   "metadata": {},
   "outputs": [
    {
     "name": "stderr",
     "output_type": "stream",
     "text": [
      "100%|████████████████████████████████████████████████████████████████████████████████████| 3/3 [00:01<00:00,  2.47it/s]"
     ]
    },
    {
     "name": "stdout",
     "output_type": "stream",
     "text": [
      "All items in the specified columns are lists with a length of 10.\n"
     ]
    },
    {
     "name": "stderr",
     "output_type": "stream",
     "text": [
      "\n"
     ]
    }
   ],
   "source": [
    "def checking_length_of_comparison(df,columns_to_check = [\"main_bar_list_of_similarities\", \n",
    "                                                         \"sidebar_list_of_similarities\", \n",
    "                                                         \"control_list_of_similarities\"]):\n",
    "    '''\n",
    "    ensuring that each review_id has 10 similarities for each list sidebar, mainbar and control reviews\n",
    "    Args:\n",
    "    df (pandas dataframe): dataframe of our reviews with the relevant columns where each cell contains\n",
    "    a list of similarities of comparison. \n",
    "    columns_to_check (list): a list of columns in which we want to ensure that each cell contains a list\n",
    "    with a length of 10 similarities. \n",
    "    \n",
    "    Returns:\n",
    "    print statement with row and column containing the cells that do not contain a list of 10 similarities. \n",
    "\n",
    "    '''\n",
    "\n",
    "    # Initialize an empty list to store rows and columns that don't meet the criterion\n",
    "    mismatched_items = []\n",
    "\n",
    "    # Iterate through each row and column to check the condition\n",
    "    for col in tqdm(columns_to_check):\n",
    "        for index, item in enumerate(df[col]):\n",
    "            # Check if the item is a list and its length is 10\n",
    "            if not isinstance(item, list) or len(item) != 10:\n",
    "                mismatched_items.append((index, col))\n",
    "\n",
    "    # Displaying the results\n",
    "    if mismatched_items:\n",
    "        for index, col in mismatched_items:\n",
    "            print(f\"Warning! Row {index} in column '{col}' does not have a list of length 10. Please double check!\")\n",
    "    else:\n",
    "        print(\"All items in the specified columns are lists with a length of 10.\")\n",
    "\n",
    "        \n",
    "checking_length_of_comparison(df,columns_to_check = [\"main_bar_list_of_similarities\", \n",
    "                                                     \"sidebar_list_of_similarities\", \n",
    "                                                     \"control_list_of_similarities\"])"
   ]
  },
  {
   "cell_type": "code",
   "execution_count": 7,
   "id": "60f8172a",
   "metadata": {},
   "outputs": [
    {
     "name": "stderr",
     "output_type": "stream",
     "text": [
      "100%|███████████████████████████████████████████████████████████████████| 3264943/3264943 [00:01<00:00, 2127630.10it/s]\n",
      "100%|███████████████████████████████████████████████████████████████████| 3264943/3264943 [00:01<00:00, 2055133.70it/s]\n",
      "100%|███████████████████████████████████████████████████████████████████| 3264943/3264943 [00:01<00:00, 2128410.52it/s]\n"
     ]
    }
   ],
   "source": [
    "def obtain_extended_dataframe_of_similarities(df, column_name, similarity_type):\n",
    "    '''\n",
    "    melts and extends data for each given similarity type (ie mainbar, sidebar, and control)\n",
    "    \n",
    "    args:\n",
    "    df (pandas dataframe): dataframe with the columns of containing a list of similarities \n",
    "    for the corresponding similarity type\n",
    "    column_name (str): the column name in which we wish to melt the data\n",
    "    similarity_type (str): type of similarity we are comparing each review with\n",
    "    \n",
    "    returns:\n",
    "    pandas dataframe of melted data that is ready for analysis. \n",
    "    '''\n",
    "    def obtain_corresponding_feature(org_list):\n",
    "        return([element for element in list(org_list) for _ in range(10)])\n",
    "    similarities=[item for sublist in tqdm(list(df[column_name])) for item in (sublist)]\n",
    "    recommendation_id=obtain_corresponding_feature((df[\"recommendation_id\"]))\n",
    "    order=[i+1 for i in range(10)]*len(df)\n",
    "    game_id=obtain_corresponding_feature((df[\"game_id\"]))\n",
    "    score=obtain_corresponding_feature((df[\"score\"]))\n",
    "    votes_up=obtain_corresponding_feature((df[\"votes_up\"]))\n",
    "    voted_up=obtain_corresponding_feature((df[\"voted_up\"]))\n",
    "    similarity_type=[similarity_type for i in range(len(voted_up))]\n",
    "    data=pd.DataFrame({\n",
    "        \"recommendation_id\":recommendation_id,\n",
    "        \"order\":order,\n",
    "        \"similarity_score\":similarities,\n",
    "        \"similarity_type\":similarity_type,\n",
    "        \"game_id\":game_id,\n",
    "        \"score\":score,\n",
    "        \"votes_up\":votes_up,\n",
    "        \"voted_up\":voted_up,\n",
    "    })\n",
    "    return(data)\n",
    "\n",
    "df_mainbar=obtain_extended_dataframe_of_similarities(df, \"main_bar_list_of_similarities\", \"main bar\")\n",
    "df_sidebar=obtain_extended_dataframe_of_similarities(df, \"sidebar_list_of_similarities\", \"sidebar\")\n",
    "df_control=obtain_extended_dataframe_of_similarities(df, \"control_list_of_similarities\", \"control\")\n",
    "data=pd.concat([df_mainbar,df_sidebar,df_control]).reset_index(drop=True)"
   ]
  },
  {
   "cell_type": "code",
   "execution_count": 8,
   "id": "0b14d590",
   "metadata": {},
   "outputs": [
    {
     "data": {
      "text/html": [
       "<div>\n",
       "<style scoped>\n",
       "    .dataframe tbody tr th:only-of-type {\n",
       "        vertical-align: middle;\n",
       "    }\n",
       "\n",
       "    .dataframe tbody tr th {\n",
       "        vertical-align: top;\n",
       "    }\n",
       "\n",
       "    .dataframe thead th {\n",
       "        text-align: right;\n",
       "    }\n",
       "</style>\n",
       "<table border=\"1\" class=\"dataframe\">\n",
       "  <thead>\n",
       "    <tr style=\"text-align: right;\">\n",
       "      <th></th>\n",
       "      <th>recommendation_id</th>\n",
       "      <th>order</th>\n",
       "      <th>similarity_score</th>\n",
       "      <th>similarity_type</th>\n",
       "      <th>game_id</th>\n",
       "      <th>score</th>\n",
       "      <th>votes_up</th>\n",
       "      <th>voted_up</th>\n",
       "    </tr>\n",
       "  </thead>\n",
       "  <tbody>\n",
       "  </tbody>\n",
       "</table>\n",
       "</div>"
      ],
      "text/plain": [
       "Empty DataFrame\n",
       "Columns: [recommendation_id, order, similarity_score, similarity_type, game_id, score, votes_up, voted_up]\n",
       "Index: []"
      ]
     },
     "execution_count": 8,
     "metadata": {},
     "output_type": "execute_result"
    }
   ],
   "source": [
    "duplicates = data.duplicated(keep=False)\n",
    "(data[duplicates])"
   ]
  },
  {
   "cell_type": "code",
   "execution_count": 9,
   "id": "cdd9c912",
   "metadata": {},
   "outputs": [],
   "source": [
    "data[\"similarity_score\"]=data[\"similarity_score\"].astype(float)"
   ]
  },
  {
   "cell_type": "code",
   "execution_count": 10,
   "id": "b8303a03",
   "metadata": {},
   "outputs": [],
   "source": [
    "data[\"votes_up\"]=data[\"votes_up\"].astype(int)"
   ]
  },
  {
   "cell_type": "code",
   "execution_count": 11,
   "id": "fb5554fe",
   "metadata": {},
   "outputs": [
    {
     "data": {
      "text/html": [
       "<div>\n",
       "<style scoped>\n",
       "    .dataframe tbody tr th:only-of-type {\n",
       "        vertical-align: middle;\n",
       "    }\n",
       "\n",
       "    .dataframe tbody tr th {\n",
       "        vertical-align: top;\n",
       "    }\n",
       "\n",
       "    .dataframe thead th {\n",
       "        text-align: right;\n",
       "    }\n",
       "</style>\n",
       "<table border=\"1\" class=\"dataframe\">\n",
       "  <thead>\n",
       "    <tr style=\"text-align: right;\">\n",
       "      <th></th>\n",
       "      <th>recommendation_id</th>\n",
       "      <th>order</th>\n",
       "      <th>similarity_score</th>\n",
       "      <th>similarity_type</th>\n",
       "      <th>game_id</th>\n",
       "      <th>score</th>\n",
       "      <th>votes_up</th>\n",
       "      <th>voted_up</th>\n",
       "    </tr>\n",
       "  </thead>\n",
       "  <tbody>\n",
       "    <tr>\n",
       "      <th>0</th>\n",
       "      <td>137653791</td>\n",
       "      <td>1</td>\n",
       "      <td>0.839532</td>\n",
       "      <td>main bar</td>\n",
       "      <td>1294810</td>\n",
       "      <td>0.964516</td>\n",
       "      <td>8138</td>\n",
       "      <td>False</td>\n",
       "    </tr>\n",
       "    <tr>\n",
       "      <th>1</th>\n",
       "      <td>137653791</td>\n",
       "      <td>2</td>\n",
       "      <td>0.903023</td>\n",
       "      <td>main bar</td>\n",
       "      <td>1294810</td>\n",
       "      <td>0.964516</td>\n",
       "      <td>8138</td>\n",
       "      <td>False</td>\n",
       "    </tr>\n",
       "    <tr>\n",
       "      <th>2</th>\n",
       "      <td>137653791</td>\n",
       "      <td>3</td>\n",
       "      <td>0.639622</td>\n",
       "      <td>main bar</td>\n",
       "      <td>1294810</td>\n",
       "      <td>0.964516</td>\n",
       "      <td>8138</td>\n",
       "      <td>False</td>\n",
       "    </tr>\n",
       "    <tr>\n",
       "      <th>3</th>\n",
       "      <td>137653791</td>\n",
       "      <td>4</td>\n",
       "      <td>0.806373</td>\n",
       "      <td>main bar</td>\n",
       "      <td>1294810</td>\n",
       "      <td>0.964516</td>\n",
       "      <td>8138</td>\n",
       "      <td>False</td>\n",
       "    </tr>\n",
       "    <tr>\n",
       "      <th>4</th>\n",
       "      <td>137653791</td>\n",
       "      <td>5</td>\n",
       "      <td>0.707455</td>\n",
       "      <td>main bar</td>\n",
       "      <td>1294810</td>\n",
       "      <td>0.964516</td>\n",
       "      <td>8138</td>\n",
       "      <td>False</td>\n",
       "    </tr>\n",
       "    <tr>\n",
       "      <th>...</th>\n",
       "      <td>...</td>\n",
       "      <td>...</td>\n",
       "      <td>...</td>\n",
       "      <td>...</td>\n",
       "      <td>...</td>\n",
       "      <td>...</td>\n",
       "      <td>...</td>\n",
       "      <td>...</td>\n",
       "    </tr>\n",
       "    <tr>\n",
       "      <th>97948285</th>\n",
       "      <td>10425639</td>\n",
       "      <td>6</td>\n",
       "      <td>0.558849</td>\n",
       "      <td>control</td>\n",
       "      <td>256190</td>\n",
       "      <td>0.336881</td>\n",
       "      <td>7</td>\n",
       "      <td>False</td>\n",
       "    </tr>\n",
       "    <tr>\n",
       "      <th>97948286</th>\n",
       "      <td>10425639</td>\n",
       "      <td>7</td>\n",
       "      <td>0.455615</td>\n",
       "      <td>control</td>\n",
       "      <td>256190</td>\n",
       "      <td>0.336881</td>\n",
       "      <td>7</td>\n",
       "      <td>False</td>\n",
       "    </tr>\n",
       "    <tr>\n",
       "      <th>97948287</th>\n",
       "      <td>10425639</td>\n",
       "      <td>8</td>\n",
       "      <td>0.451328</td>\n",
       "      <td>control</td>\n",
       "      <td>256190</td>\n",
       "      <td>0.336881</td>\n",
       "      <td>7</td>\n",
       "      <td>False</td>\n",
       "    </tr>\n",
       "    <tr>\n",
       "      <th>97948288</th>\n",
       "      <td>10425639</td>\n",
       "      <td>9</td>\n",
       "      <td>0.472071</td>\n",
       "      <td>control</td>\n",
       "      <td>256190</td>\n",
       "      <td>0.336881</td>\n",
       "      <td>7</td>\n",
       "      <td>False</td>\n",
       "    </tr>\n",
       "    <tr>\n",
       "      <th>97948289</th>\n",
       "      <td>10425639</td>\n",
       "      <td>10</td>\n",
       "      <td>0.640501</td>\n",
       "      <td>control</td>\n",
       "      <td>256190</td>\n",
       "      <td>0.336881</td>\n",
       "      <td>7</td>\n",
       "      <td>False</td>\n",
       "    </tr>\n",
       "  </tbody>\n",
       "</table>\n",
       "<p>97948290 rows × 8 columns</p>\n",
       "</div>"
      ],
      "text/plain": [
       "         recommendation_id  order  similarity_score similarity_type  game_id  \\\n",
       "0                137653791      1          0.839532        main bar  1294810   \n",
       "1                137653791      2          0.903023        main bar  1294810   \n",
       "2                137653791      3          0.639622        main bar  1294810   \n",
       "3                137653791      4          0.806373        main bar  1294810   \n",
       "4                137653791      5          0.707455        main bar  1294810   \n",
       "...                    ...    ...               ...             ...      ...   \n",
       "97948285          10425639      6          0.558849         control   256190   \n",
       "97948286          10425639      7          0.455615         control   256190   \n",
       "97948287          10425639      8          0.451328         control   256190   \n",
       "97948288          10425639      9          0.472071         control   256190   \n",
       "97948289          10425639     10          0.640501         control   256190   \n",
       "\n",
       "             score  votes_up  voted_up  \n",
       "0         0.964516      8138     False  \n",
       "1         0.964516      8138     False  \n",
       "2         0.964516      8138     False  \n",
       "3         0.964516      8138     False  \n",
       "4         0.964516      8138     False  \n",
       "...            ...       ...       ...  \n",
       "97948285  0.336881         7     False  \n",
       "97948286  0.336881         7     False  \n",
       "97948287  0.336881         7     False  \n",
       "97948288  0.336881         7     False  \n",
       "97948289  0.336881         7     False  \n",
       "\n",
       "[97948290 rows x 8 columns]"
      ]
     },
     "execution_count": 11,
     "metadata": {},
     "output_type": "execute_result"
    }
   ],
   "source": [
    "data"
   ]
  },
  {
   "cell_type": "code",
   "execution_count": 12,
   "id": "2eb0ea7c",
   "metadata": {},
   "outputs": [],
   "source": [
    "data.to_csv(\"../data/processed_data/data.csv.gz\",index=False, compression='gzip')"
   ]
  },
  {
   "cell_type": "code",
   "execution_count": null,
   "id": "78949bf7",
   "metadata": {},
   "outputs": [],
   "source": []
  }
 ],
 "metadata": {
  "kernelspec": {
   "display_name": "Python 3 (ipykernel)",
   "language": "python",
   "name": "python3"
  },
  "language_info": {
   "codemirror_mode": {
    "name": "ipython",
    "version": 3
   },
   "file_extension": ".py",
   "mimetype": "text/x-python",
   "name": "python",
   "nbconvert_exporter": "python",
   "pygments_lexer": "ipython3",
   "version": "3.11.5"
  }
 },
 "nbformat": 4,
 "nbformat_minor": 5
}
