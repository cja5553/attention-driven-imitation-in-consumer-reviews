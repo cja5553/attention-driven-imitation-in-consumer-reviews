{
 "cells": [
  {
   "cell_type": "markdown",
   "metadata": {},
   "source": [
    "## Reading the neccessary files and libraries"
   ]
  },
  {
   "cell_type": "code",
   "execution_count": null,
   "metadata": {
    "colab": {
     "base_uri": "https://localhost:8080/"
    },
    "executionInfo": {
     "elapsed": 40275,
     "status": "ok",
     "timestamp": 1656704005647,
     "user": {
      "displayName": "Charles J Alba",
      "userId": "04453837260567781183"
     },
     "user_tz": -60
    },
    "id": "DDJKkjGzRmzo",
    "outputId": "0a09ade6-3ce8-4828-8dfe-55827bcab96f"
   },
   "outputs": [
    {
     "name": "stdout",
     "output_type": "stream",
     "text": [
      "Mounted at /content/drive\n",
      "/content/drive/My Drive/Dissertation\n"
     ]
    },
    {
     "name": "stderr",
     "output_type": "stream",
     "text": [
      "/usr/local/lib/python3.7/dist-packages/IPython/core/interactiveshell.py:2882: DtypeWarning: Columns (2) have mixed types.Specify dtype option on import or set low_memory=False.\n",
      "  exec(code_obj, self.user_global_ns, self.user_ns)\n"
     ]
    }
   ],
   "source": [
    "import platform\n",
    "import types\n",
    "import requests\n",
    "from bs4 import BeautifulSoup\n",
    "import pandas as pd\n",
    "import pickle\n",
    "import random\n",
    "from datetime import datetime, timedelta\n",
    "from tqdm import tqdm\n",
    "import time\n",
    "import math\n",
    "from typing import List\n",
    "from scipy import stats\n",
    "import types\n",
    "\n",
    "print(platform.python_version())\n",
    "\n",
    "def imports():\n",
    "    for name, val in globals().items():\n",
    "        if isinstance(val, types.ModuleType):\n",
    "            try:\n",
    "                yield val.__name__, val.__version__\n",
    "            except AttributeError:\n",
    "                yield val.__name__\n"
   ]
  },
  {
   "cell_type": "code",
   "execution_count": null,
   "metadata": {},
   "outputs": [],
   "source": [
    "data_location = '../data/raw_data/'\n",
    "with open(f'{data_location}games_list.pkl', 'rb') as fp1: \n",
    "    games_id_list = pickle.load(fp1) \n",
    "games_id_list = list(games_id_list)\n"
   ]
  },
  {
   "cell_type": "markdown",
   "metadata": {},
   "source": [
    "### Selecting 5 random games to perform a simulation of our hypothesized review of STEAMs algorithm and compare it real time"
   ]
  },
  {
   "cell_type": "code",
   "execution_count": null,
   "metadata": {
    "id": "Lv_n0SycSI0i"
   },
   "outputs": [],
   "source": [
    "def random_no_generator():\n",
    "    return random.randint(0, len(games_id_list) - 1)\n",
    "\n",
    "def generate_five_gameIDs(games_id_list):\n",
    "    random_id_list = []\n",
    "    while len(random_id_list) < 5:\n",
    "        no = random_no_generator()\n",
    "        game_id = games_id_list[no]\n",
    "        if game_id not in random_id_list:\n",
    "            random_id_list.append(game_id)\n",
    "    return random_id_list\n",
    "\n",
    "random_id_list = generate_five_gameIDs(games_id_list)\n"
   ]
  },
  {
   "cell_type": "code",
   "execution_count": null,
   "metadata": {
    "id": "DjWOgM7ryNjG"
   },
   "outputs": [],
   "source": [
    "print(random_id_list)\n",
    "# [252870, '1547380', '298110', '39530', 240]"
   ]
  },
  {
   "cell_type": "markdown",
   "metadata": {
    "id": "eoom6QnUsoa4"
   },
   "source": [
    "# Resimulation stage\n",
    "\n",
    "### Gathering reviews in real-time from the 5 randomly selected video-games\n"
   ]
  },
  {
   "cell_type": "code",
   "execution_count": null,
   "metadata": {
    "id": "pvIXyHqBsIc9"
   },
   "outputs": [],
   "source": [
    "# extracting the reviews of the 5 games in real time. \n",
    "\n",
    "def fetch_review(appid, params={'json': 1}):\n",
    "    url = 'https://store.steampowered.com/appreviews/'\n",
    "    response = requests.get(url=url + appid, params=params, headers={'User-Agent': 'Mozilla/5.0'})\n",
    "    return response.json()\n",
    "\n",
    "def fetch_all_reviews(appid):\n",
    "    review_count = int(((fetch_review(str(appid)))[\"query_summary\"])[\"total_reviews\"])\n",
    "    reviews = []\n",
    "    cursor = '*'\n",
    "    params = {\n",
    "        'json': 1,\n",
    "        'filter': 'all',\n",
    "        'language': 'english',\n",
    "        'day_range': 9223372036854775807,\n",
    "        'review_type': 'all',\n",
    "        'purchase_type': 'all'\n",
    "    }\n",
    "    while review_count > 0:\n",
    "        params['cursor'] = cursor.encode()\n",
    "        params['num_per_page'] = min(100, review_count)\n",
    "        review_count -= 100\n",
    "        response = fetch_review(appid, params)\n",
    "        cursor = response['cursor']\n",
    "        reviews += response['reviews']\n",
    "        if len(response['reviews']) < 100: \n",
    "            break\n",
    "    return reviews\n",
    "\n",
    "def collect_reviews(FPS_appids):\n",
    "    review_list = []\n",
    "    for appid in tqdm(FPS_appids):\n",
    "        reviews = fetch_all_reviews(str(appid))\n",
    "        review_list.append(reviews)\n",
    "    return review_list\n"
   ]
  },
  {
   "cell_type": "code",
   "execution_count": null,
   "metadata": {
    "colab": {
     "base_uri": "https://localhost:8080/"
    },
    "executionInfo": {
     "elapsed": 200931,
     "status": "ok",
     "timestamp": 1656607186263,
     "user": {
      "displayName": "Charles J Alba",
      "userId": "04453837260567781183"
     },
     "user_tz": -60
    },
    "id": "CHWDuyRhU8bF",
    "outputId": "c7630fe9-0310-4570-b024-c5b63ad945bb"
   },
   "outputs": [
    {
     "name": "stderr",
     "output_type": "stream",
     "text": [
      "100%|██████████| 5/5 [03:23<00:00, 40.63s/it]\n"
     ]
    }
   ],
   "source": [
    "validating_list = collect_reviews(random_id_list)"
   ]
  },
  {
   "cell_type": "code",
   "execution_count": null,
   "metadata": {
    "id": "VKsCE4JtWAlk"
   },
   "outputs": [],
   "source": [
    "def create_dataframe_from_reviews(game_ids, reviews_list):\n",
    "    columns = ['game_id', 'score', 'steam_id', 'review', 'timestamp_created', 'timestamp_updated', 'votes_up', 'recommendation_id']\n",
    "    data = []\n",
    "\n",
    "    for game_id, game_reviews in zip(game_ids, reviews_list):\n",
    "        for review in game_reviews:\n",
    "            data.append([\n",
    "                game_id,\n",
    "                review[\"author\"][\"steamid\"],\n",
    "                review[\"review\"],\n",
    "                review[\"timestamp_created\"],\n",
    "                review[\"timestamp_updated\"],\n",
    "                review[\"weighted_vote_score\"],\n",
    "                review[\"votes_up\"],\n",
    "                review[\"recommendationid\"]\n",
    "            ])\n",
    "\n",
    "    return pd.DataFrame(data, columns=columns)\n",
    "\n",
    "\n",
    "df = create_dataframe_from_reviews(games_id_list, single_FPS_reviews)\n"
   ]
  },
  {
   "cell_type": "code",
   "execution_count": null,
   "metadata": {
    "colab": {
     "base_uri": "https://localhost:8080/"
    },
    "executionInfo": {
     "elapsed": 2,
     "status": "ok",
     "timestamp": 1656607195383,
     "user": {
      "displayName": "Charles J Alba",
      "userId": "04453837260567781183"
     },
     "user_tz": -60
    },
    "id": "TGbiPYLwrW5g",
    "outputId": "2fb6fbbf-19f2-49d1-bcfd-20c17a08dd5f"
   },
   "outputs": [
    {
     "name": "stderr",
     "output_type": "stream",
     "text": [
      "100%|██████████| 5/5 [00:00<00:00, 112.85it/s]\n"
     ]
    }
   ],
   "source": [
    "df = create_dataframe_from_reviews(random_id_list, validating_list)"
   ]
  },
  {
   "cell_type": "markdown",
   "metadata": {
    "id": "FB6RHGK9s44n"
   },
   "source": [
    "## Testing our hypothesized sorting algorithm for the main bar reviews\n",
    "\n",
    "Please refer to our manuscript to understand how the hypothesized sorting algorithm of the main bar review works. "
   ]
  },
  {
   "cell_type": "code",
   "execution_count": null,
   "metadata": {
    "id": "wzz8frJrR0qH"
   },
   "outputs": [],
   "source": [
    "def sort_and_rearrange(temp_df):\n",
    "    temp_df[\"score\"] = pd.to_numeric(temp_df[\"score\"])\n",
    "    temp_df = temp_df.sort_values(\"score\", ascending=False)\n",
    "    temp_df[\"index\"] = [i for i in range(len(temp_df))]\n",
    "    temp_df = temp_df.set_index(\"index\")\n",
    "    return temp_df\n",
    "\n",
    "def get_x_days_ago(end_int, days):\n",
    "    end = datetime.fromtimestamp(end_int)\n",
    "    start = (end - timedelta(days=days))\n",
    "    start_int = int(time.mktime(start.timetuple()))\n",
    "    return start_int\n",
    "\n",
    "def get_x_days_ago_reviews(days, df, end_int):\n",
    "    start = get_x_days_ago(int(end_int), days)\n",
    "    df['timestamp_created'] = pd.to_numeric(df['timestamp_created'])\n",
    "    temp_dates = df[df['timestamp_created'].between(start, end_int - 1)]\n",
    "    return temp_dates\n",
    "\n",
    "def condition_against(temp1, temp2, difference):\n",
    "    if len(temp1) == 10:\n",
    "        return temp1\n",
    "    elif difference == 10 or len(temp2) == 0:\n",
    "        return temp2[:len(temp2)]\n",
    "    else:\n",
    "        for i in range(difference):\n",
    "            if i < len(list(temp2[\"score\"])) and float(list(temp2[\"score\"])[i]) > float(list(temp1[\"score\"])[0]):\n",
    "                to_be_added = temp2[i:i + 1]\n",
    "                temp1 = pd.concat([temp1, to_be_added])\n",
    "        return temp1\n",
    "\n",
    "def temp_conditional_return_1(time_created, day_range1, day_range_ultimate, df):\n",
    "    day_range1_reviews = get_x_days_ago_reviews(day_range1, df, time_created)\n",
    "    day_range1_date = get_x_days_ago(time_created, day_range1)\n",
    "    days_diff = day_range_ultimate - day_range1\n",
    "    in_between_days_reviews = get_x_days_ago_reviews(days_diff, df, day_range1_date)\n",
    "    difference = 10 - len(day_range1_reviews)\n",
    "    temp1 = sort_and_rearrange(day_range1_reviews)\n",
    "    temp2 = sort_and_rearrange(in_between_days_reviews)\n",
    "    return condition_against(temp1, temp2, difference)\n",
    "\n",
    "def temp_conditional_return_2(time_created, day_range1, day_range2, day_range_ultimate, df):\n",
    "    day_range1_reviews = get_x_days_ago_reviews(day_range1, df, time_created)\n",
    "    day_range1_date = get_x_days_ago(time_created, day_range1)\n",
    "    days_diff_1 = day_range2 - day_range1\n",
    "    day_range2_reviews = get_x_days_ago_reviews(days_diff_1, df, day_range1_date)\n",
    "    day_range2_date = get_x_days_ago(time_created, day_range2)\n",
    "    difference = 10 - len(day_range1_reviews)\n",
    "    temp1 = sort_and_rearrange(day_range1_reviews)\n",
    "    temp2 = sort_and_rearrange(day_range2_reviews)\n",
    "    temp = condition_against(temp1, temp2, difference)\n",
    "    difference_2 = 10 - len(temp)\n",
    "    days_diff_2 = day_range_ultimate - day_range2\n",
    "    day_range3_reviews = get_x_days_ago_reviews(days_diff_2, df, day_range2_date)\n",
    "    temp3 = sort_and_rearrange(day_range3_reviews)\n",
    "    return condition_against(temp, temp3, difference_2)\n",
    "\n",
    "def temp_conditional_return_3(time_created, day_range1, day_range2, day_range_3, start_date, df):\n",
    "    day_range1_reviews = get_x_days_ago_reviews(day_range1, df, time_created)\n",
    "    day_range1_date = get_x_days_ago(time_created, day_range1)\n",
    "    days_diff_1 = day_range2 - day_range1\n",
    "    day_range2_reviews = get_x_days_ago_reviews(days_diff_1, df, day_range1_date)\n",
    "    day_range2_date = get_x_days_ago(time_created, day_range2)\n",
    "    difference = 10 - len(day_range1_reviews)\n",
    "    temp1 = sort_and_rearrange(day_range1_reviews)\n",
    "    temp2 = sort_and_rearrange(day_range2_reviews)\n",
    "    temp = condition_against(temp1, temp2, difference)\n",
    "    difference_2 = 10 - len(temp)\n",
    "    days_diff_2 = day_range_3 - day_range2\n",
    "    day_range3_reviews = get_x_days_ago_reviews(days_diff_2, df, day_range2_date)\n",
    "    temp3 = sort_and_rearrange(day_range3_reviews)\n",
    "    temp = condition_against(temp, temp3, difference_2)\n",
    "    day_range3_date = get_x_days_ago(time_created, day_range_3)\n",
    "    day_range_4 = int((time_created - start_date) / 86400)\n",
    "    difference_3 = 10 - len(temp)\n",
    "    days_diff_3 = day_range_4 - day_range_3\n",
    "    day_range4_reviews = get_x_days_ago_reviews(days_diff_3, df, day_range3_date)\n",
    "    temp4 = sort_and_rearrange(day_range4_reviews)\n",
    "    return condition_against(temp, temp4, difference_3)\n",
    "\n",
    "def get_list_of_visible_reviews(df):\n",
    "    order_of_visibility, order_of_scores, order_of_times, list_of_visible_id = [], [], [], []\n",
    "    for i in range(len(df)):\n",
    "        player = str(df[\"steam_id\"][i])\n",
    "        if player != \"validating\":\n",
    "            continue\n",
    "        game_id = str(df[\"game_id\"][i])\n",
    "        time_created = int(df[\"timestamp_created\"][i])\n",
    "        temp = df[df['game_id'] == game_id]\n",
    "        temp = temp[temp['votes_up'] != 0]\n",
    "        temp_dates = get_x_days_ago_reviews(30, temp, time_created)\n",
    "        if len(temp) == 0:\n",
    "            temp = temp_dates\n",
    "        elif len(temp_dates) >= 10:\n",
    "            temp = temp_dates\n",
    "        else:\n",
    "            temp_90_dates = temp_conditional_return_1(time_created, 30, 90, temp)\n",
    "            if len(temp_90_dates) >= 10:\n",
    "                temp = temp_90_dates\n",
    "            else:\n",
    "                temp_180_dates = temp_conditional_return_2(time_created, 30, 90, 180, temp)\n",
    "                if len(temp_180_dates) >= 10:\n",
    "                    temp = temp_180_dates\n",
    "                else:\n",
    "                    start_date = int(temp['timestamp_created'].min())\n",
    "                    temp = temp_conditional_return_3(time_created, 30, 90, 180, start_date, temp)\n",
    "\n",
    "        temp = sort_and_rearrange(temp)\n",
    "        n = min(len(temp), 10)\n",
    "        list_of_visible = list(temp[\"review\"][:n]) \n",
    "        list_of_scores = list(temp[\"score\"][:n])\n",
    "        list_of_times = list(temp[\"timestamp_created\"][:n])\n",
    "        list_of_visible_2 = list(temp[\"recommendation_id\"][:n])\n",
    "        list_of_visible_id.append(list_of_visible_2)\n",
    "        order_of_visibility.append(list_of_visible)\n",
    "        order_of_scores.append(list_of_scores)\n",
    "        order_of_times.append(list_of_times)\n",
    "\n",
    "    return order_of_visibility, order_of_scores, order_of_times, list_of_visible_id\n"
   ]
  },
  {
   "cell_type": "code",
   "execution_count": null,
   "metadata": {
    "id": "SM3ktRFqZzMa"
   },
   "outputs": [],
   "source": [
    "# Creating hypothetical data as if we are the reviewers writing the review in real time\n",
    "df = df[df['steam_id'] != \"validating\"]\n",
    "stimulated_time = 1656606800\n",
    "game_id = random_id_list\n",
    "scores = [random.random() for i in range(len(random_id_list))]\n",
    "steam_id_list = [\"validating\"] * 5\n",
    "player_review_list = [\"validating\"] * 5\n",
    "time_stamp_created_list = [stimulated_time] * 5\n",
    "recommendation_id_list_2 = [\"1\", \"2\", \"3\", \"4\", \"5\"]\n",
    "time_stamp_updated_list = time_stamp_created_list\n",
    "votes_up_list = [0] * 5\n",
    "\n",
    "stimulated = pd.DataFrame(\n",
    "    list(zip(game_id, scores, steam_id_list, player_review_list, time_stamp_created_list, time_stamp_updated_list, votes_up_list, recommendation_id_list_2)), \n",
    "    columns=['game_id', 'score', 'steam_id', 'review', 'timestamp_created', 'timestamp_updated', 'votes_up', 'recommendation_id']\n",
    ") \n",
    "\n",
    "df = pd.concat([df, stimulated])\n",
    "df[\"index\"] = list(range(len(df)))\n",
    "df = df.set_index(\"index\")\n"
   ]
  },
  {
   "cell_type": "code",
   "execution_count": null,
   "metadata": {
    "colab": {
     "base_uri": "https://localhost:8080/",
     "height": 328
    },
    "executionInfo": {
     "elapsed": 552,
     "status": "ok",
     "timestamp": 1656607225356,
     "user": {
      "displayName": "Charles J Alba",
      "userId": "04453837260567781183"
     },
     "user_tz": -60
    },
    "id": "Y7IXByOceK-C",
    "outputId": "cea7f4ba-d760-48f5-d4aa-9a407141ac81"
   },
   "outputs": [
    {
     "name": "stderr",
     "output_type": "stream",
     "text": [
      " 92%|█████████▏| 28922/31351 [00:00<00:00, 144711.39it/s]/usr/local/lib/python3.7/dist-packages/ipykernel_launcher.py:6: SettingWithCopyWarning: \n",
      "A value is trying to be set on a copy of a slice from a DataFrame.\n",
      "Try using .loc[row_indexer,col_indexer] = value instead\n",
      "\n",
      "See the caveats in the documentation: https://pandas.pydata.org/pandas-docs/stable/user_guide/indexing.html#returning-a-view-versus-a-copy\n",
      "  \n",
      "100%|██████████| 31351/31351 [00:00<00:00, 101706.97it/s]\n"
     ]
    },
    {
     "data": {
      "text/html": [
       "\n",
       "  <div id=\"df-fd3020b2-c054-453e-baa5-801336b62b88\">\n",
       "    <div class=\"colab-df-container\">\n",
       "      <div>\n",
       "<style scoped>\n",
       "    .dataframe tbody tr th:only-of-type {\n",
       "        vertical-align: middle;\n",
       "    }\n",
       "\n",
       "    .dataframe tbody tr th {\n",
       "        vertical-align: top;\n",
       "    }\n",
       "\n",
       "    .dataframe thead th {\n",
       "        text-align: right;\n",
       "    }\n",
       "</style>\n",
       "<table border=\"1\" class=\"dataframe\">\n",
       "  <thead>\n",
       "    <tr style=\"text-align: right;\">\n",
       "      <th></th>\n",
       "      <th>game_id</th>\n",
       "      <th>reviews</th>\n",
       "      <th>scores</th>\n",
       "      <th>times order</th>\n",
       "    </tr>\n",
       "  </thead>\n",
       "  <tbody>\n",
       "    <tr>\n",
       "      <th>0</th>\n",
       "      <td>252870</td>\n",
       "      <td>[After seeing Neebs gaming announce that they ...</td>\n",
       "      <td>[0.8003709912300109, 0.719564139842987, 0.5564...</td>\n",
       "      <td>[1652381956, 1650579308, 1655533461, 165460486...</td>\n",
       "    </tr>\n",
       "    <tr>\n",
       "      <th>1</th>\n",
       "      <td>1547380</td>\n",
       "      <td>[[table][th]\\nReview by [url=https://store.ste...</td>\n",
       "      <td>[0.7956037521362304, 0.789889633655548, 0.6298...</td>\n",
       "      <td>[1644564603, 1644558942, 1649456280, 165500634...</td>\n",
       "    </tr>\n",
       "    <tr>\n",
       "      <th>2</th>\n",
       "      <td>298110</td>\n",
       "      <td>[Far Cry 4 is currently [h1]FREE[/h1] on Amazo...</td>\n",
       "      <td>[0.8769996762275695, 0.8227600455284118, 0.667...</td>\n",
       "      <td>[1654100832, 1654153357, 1654373965, 165420953...</td>\n",
       "    </tr>\n",
       "    <tr>\n",
       "      <th>3</th>\n",
       "      <td>39530</td>\n",
       "      <td>[Faster than a bullet\\nTerrifying scream\\nEnra...</td>\n",
       "      <td>[0.865518569946289, 0.8042218089103698, 0.7882...</td>\n",
       "      <td>[1533718571, 1493389162, 1496480907, 157765442...</td>\n",
       "    </tr>\n",
       "    <tr>\n",
       "      <th>4</th>\n",
       "      <td>240</td>\n",
       "      <td>[Before I played Counter-Strike: Source i had ...</td>\n",
       "      <td>[0.9212783575057985, 0.9050492644309996, 0.838...</td>\n",
       "      <td>[1654604660, 1654361577, 1654020027, 165412612...</td>\n",
       "    </tr>\n",
       "  </tbody>\n",
       "</table>\n",
       "</div>\n",
       "      <button class=\"colab-df-convert\" onclick=\"convertToInteractive('df-fd3020b2-c054-453e-baa5-801336b62b88')\"\n",
       "              title=\"Convert this dataframe to an interactive table.\"\n",
       "              style=\"display:none;\">\n",
       "        \n",
       "  <svg xmlns=\"http://www.w3.org/2000/svg\" height=\"24px\"viewBox=\"0 0 24 24\"\n",
       "       width=\"24px\">\n",
       "    <path d=\"M0 0h24v24H0V0z\" fill=\"none\"/>\n",
       "    <path d=\"M18.56 5.44l.94 2.06.94-2.06 2.06-.94-2.06-.94-.94-2.06-.94 2.06-2.06.94zm-11 1L8.5 8.5l.94-2.06 2.06-.94-2.06-.94L8.5 2.5l-.94 2.06-2.06.94zm10 10l.94 2.06.94-2.06 2.06-.94-2.06-.94-.94-2.06-.94 2.06-2.06.94z\"/><path d=\"M17.41 7.96l-1.37-1.37c-.4-.4-.92-.59-1.43-.59-.52 0-1.04.2-1.43.59L10.3 9.45l-7.72 7.72c-.78.78-.78 2.05 0 2.83L4 21.41c.39.39.9.59 1.41.59.51 0 1.02-.2 1.41-.59l7.78-7.78 2.81-2.81c.8-.78.8-2.07 0-2.86zM5.41 20L4 18.59l7.72-7.72 1.47 1.35L5.41 20z\"/>\n",
       "  </svg>\n",
       "      </button>\n",
       "      \n",
       "  <style>\n",
       "    .colab-df-container {\n",
       "      display:flex;\n",
       "      flex-wrap:wrap;\n",
       "      gap: 12px;\n",
       "    }\n",
       "\n",
       "    .colab-df-convert {\n",
       "      background-color: #E8F0FE;\n",
       "      border: none;\n",
       "      border-radius: 50%;\n",
       "      cursor: pointer;\n",
       "      display: none;\n",
       "      fill: #1967D2;\n",
       "      height: 32px;\n",
       "      padding: 0 0 0 0;\n",
       "      width: 32px;\n",
       "    }\n",
       "\n",
       "    .colab-df-convert:hover {\n",
       "      background-color: #E2EBFA;\n",
       "      box-shadow: 0px 1px 2px rgba(60, 64, 67, 0.3), 0px 1px 3px 1px rgba(60, 64, 67, 0.15);\n",
       "      fill: #174EA6;\n",
       "    }\n",
       "\n",
       "    [theme=dark] .colab-df-convert {\n",
       "      background-color: #3B4455;\n",
       "      fill: #D2E3FC;\n",
       "    }\n",
       "\n",
       "    [theme=dark] .colab-df-convert:hover {\n",
       "      background-color: #434B5C;\n",
       "      box-shadow: 0px 1px 3px 1px rgba(0, 0, 0, 0.15);\n",
       "      filter: drop-shadow(0px 1px 2px rgba(0, 0, 0, 0.3));\n",
       "      fill: #FFFFFF;\n",
       "    }\n",
       "  </style>\n",
       "\n",
       "      <script>\n",
       "        const buttonEl =\n",
       "          document.querySelector('#df-fd3020b2-c054-453e-baa5-801336b62b88 button.colab-df-convert');\n",
       "        buttonEl.style.display =\n",
       "          google.colab.kernel.accessAllowed ? 'block' : 'none';\n",
       "\n",
       "        async function convertToInteractive(key) {\n",
       "          const element = document.querySelector('#df-fd3020b2-c054-453e-baa5-801336b62b88');\n",
       "          const dataTable =\n",
       "            await google.colab.kernel.invokeFunction('convertToInteractive',\n",
       "                                                     [key], {});\n",
       "          if (!dataTable) return;\n",
       "\n",
       "          const docLinkHtml = 'Like what you see? Visit the ' +\n",
       "            '<a target=\"_blank\" href=https://colab.research.google.com/notebooks/data_table.ipynb>data table notebook</a>'\n",
       "            + ' to learn more about interactive tables.';\n",
       "          element.innerHTML = '';\n",
       "          dataTable['output_type'] = 'display_data';\n",
       "          await google.colab.output.renderOutput(dataTable, element);\n",
       "          const docLink = document.createElement('div');\n",
       "          docLink.innerHTML = docLinkHtml;\n",
       "          element.appendChild(docLink);\n",
       "        }\n",
       "      </script>\n",
       "    </div>\n",
       "  </div>\n",
       "  "
      ],
      "text/plain": [
       "   game_id                                            reviews  \\\n",
       "0   252870  [After seeing Neebs gaming announce that they ...   \n",
       "1  1547380  [[table][th]\\nReview by [url=https://store.ste...   \n",
       "2   298110  [Far Cry 4 is currently [h1]FREE[/h1] on Amazo...   \n",
       "3    39530  [Faster than a bullet\\nTerrifying scream\\nEnra...   \n",
       "4      240  [Before I played Counter-Strike: Source i had ...   \n",
       "\n",
       "                                              scores  \\\n",
       "0  [0.8003709912300109, 0.719564139842987, 0.5564...   \n",
       "1  [0.7956037521362304, 0.789889633655548, 0.6298...   \n",
       "2  [0.8769996762275695, 0.8227600455284118, 0.667...   \n",
       "3  [0.865518569946289, 0.8042218089103698, 0.7882...   \n",
       "4  [0.9212783575057985, 0.9050492644309996, 0.838...   \n",
       "\n",
       "                                         times order  \n",
       "0  [1652381956, 1650579308, 1655533461, 165460486...  \n",
       "1  [1644564603, 1644558942, 1649456280, 165500634...  \n",
       "2  [1654100832, 1654153357, 1654373965, 165420953...  \n",
       "3  [1533718571, 1493389162, 1496480907, 157765442...  \n",
       "4  [1654604660, 1654361577, 1654020027, 165412612...  "
      ]
     },
     "execution_count": 13,
     "metadata": {},
     "output_type": "execute_result"
    }
   ],
   "source": [
    "# Perform the re-simulation with the hypothesized default-sorted algorithm \n",
    "order_of_visible_reviews, order_of_scores, order_of_times, id_list = get_list_of_visible_reviews(df)\n",
    "validating = pd.DataFrame(\n",
    "    list(zip(game_id, order_of_visible_reviews, order_of_scores, order_of_times, id_list)), \n",
    "    columns=['game_id', 'reviews', 'scores', 'times_order', 'id']\n",
    ")\n"
   ]
  },
  {
   "cell_type": "code",
   "execution_count": null,
   "metadata": {
    "id": "0xVDJ4OPjOK0"
   },
   "outputs": [],
   "source": [
    "def print_nicely(df):\n",
    "    game_list, reviews_list, order = [], [], []\n",
    "    for i in range(len(df)):\n",
    "        game = df[\"game_id\"][i]\n",
    "        reviews = list(df[\"reviews\"][i])\n",
    "        for j in range(10):\n",
    "            game_list.append(game)\n",
    "            reviews_list.append(str(reviews[j]))\n",
    "            order.append(j + 1)\n",
    "    new_df = pd.DataFrame(\n",
    "        list(zip(game_list, reviews_list, order)), \n",
    "        columns=['game_id', 'review', \"order\"]\n",
    "    )\n",
    "    return new_df\n"
   ]
  },
  {
   "cell_type": "code",
   "execution_count": null,
   "metadata": {
    "colab": {
     "base_uri": "https://localhost:8080/",
     "height": 1000
    },
    "executionInfo": {
     "elapsed": 424,
     "status": "ok",
     "timestamp": 1656704385465,
     "user": {
      "displayName": "Charles J Alba",
      "userId": "04453837260567781183"
     },
     "user_tz": -60
    },
    "id": "wWr-6lyyk0C8",
    "outputId": "8a116a0c-4187-406f-f014-0b11a2abdcbb"
   },
   "outputs": [
    {
     "data": {
      "text/html": [
       "\n",
       "  <div id=\"df-431d0282-8e9b-4219-8a6a-1d587e6a4953\">\n",
       "    <div class=\"colab-df-container\">\n",
       "      <div>\n",
       "<style scoped>\n",
       "    .dataframe tbody tr th:only-of-type {\n",
       "        vertical-align: middle;\n",
       "    }\n",
       "\n",
       "    .dataframe tbody tr th {\n",
       "        vertical-align: top;\n",
       "    }\n",
       "\n",
       "    .dataframe thead th {\n",
       "        text-align: right;\n",
       "    }\n",
       "</style>\n",
       "<table border=\"1\" class=\"dataframe\">\n",
       "  <thead>\n",
       "    <tr style=\"text-align: right;\">\n",
       "      <th></th>\n",
       "      <th>game_id</th>\n",
       "      <th>review</th>\n",
       "      <th>order</th>\n",
       "    </tr>\n",
       "  </thead>\n",
       "  <tbody>\n",
       "    <tr>\n",
       "      <th>0</th>\n",
       "      <td>252870</td>\n",
       "      <td>After seeing Neebs gaming announce that they w...</td>\n",
       "      <td>1</td>\n",
       "    </tr>\n",
       "    <tr>\n",
       "      <th>1</th>\n",
       "      <td>252870</td>\n",
       "      <td>The game is definitely fun IF you play with pe...</td>\n",
       "      <td>2</td>\n",
       "    </tr>\n",
       "    <tr>\n",
       "      <th>2</th>\n",
       "      <td>252870</td>\n",
       "      <td>Pulsar is a game that can't really be describe...</td>\n",
       "      <td>3</td>\n",
       "    </tr>\n",
       "    <tr>\n",
       "      <th>3</th>\n",
       "      <td>252870</td>\n",
       "      <td>My new favourite! Great fun for playing with f...</td>\n",
       "      <td>4</td>\n",
       "    </tr>\n",
       "    <tr>\n",
       "      <th>4</th>\n",
       "      <td>252870</td>\n",
       "      <td>This game is janky as all hell with poor feedb...</td>\n",
       "      <td>5</td>\n",
       "    </tr>\n",
       "    <tr>\n",
       "      <th>5</th>\n",
       "      <td>252870</td>\n",
       "      <td>A load of fun, but better with a real crew tha...</td>\n",
       "      <td>6</td>\n",
       "    </tr>\n",
       "    <tr>\n",
       "      <th>6</th>\n",
       "      <td>252870</td>\n",
       "      <td>Amazing game to play with friends. Cool mechan...</td>\n",
       "      <td>7</td>\n",
       "    </tr>\n",
       "    <tr>\n",
       "      <th>7</th>\n",
       "      <td>252870</td>\n",
       "      <td>funny space game where you get mad at friends</td>\n",
       "      <td>8</td>\n",
       "    </tr>\n",
       "    <tr>\n",
       "      <th>8</th>\n",
       "      <td>252870</td>\n",
       "      <td>Game be gud</td>\n",
       "      <td>9</td>\n",
       "    </tr>\n",
       "    <tr>\n",
       "      <th>9</th>\n",
       "      <td>252870</td>\n",
       "      <td>i think this game is really fun with friends a...</td>\n",
       "      <td>10</td>\n",
       "    </tr>\n",
       "    <tr>\n",
       "      <th>10</th>\n",
       "      <td>1547380</td>\n",
       "      <td>[table][th]\\nReview by [url=https://store.stea...</td>\n",
       "      <td>1</td>\n",
       "    </tr>\n",
       "    <tr>\n",
       "      <th>11</th>\n",
       "      <td>1547380</td>\n",
       "      <td>An  aesthetically stunning shooter with fun co...</td>\n",
       "      <td>2</td>\n",
       "    </tr>\n",
       "    <tr>\n",
       "      <th>12</th>\n",
       "      <td>1547380</td>\n",
       "      <td>How hard must it be to make your first-person ...</td>\n",
       "      <td>3</td>\n",
       "    </tr>\n",
       "    <tr>\n",
       "      <th>13</th>\n",
       "      <td>1547380</td>\n",
       "      <td>Its a Fun retro shooter with Supernatural stor...</td>\n",
       "      <td>4</td>\n",
       "    </tr>\n",
       "    <tr>\n",
       "      <th>14</th>\n",
       "      <td>1547380</td>\n",
       "      <td>[url=https://store.steampowered.com/curator/38...</td>\n",
       "      <td>5</td>\n",
       "    </tr>\n",
       "    <tr>\n",
       "      <th>15</th>\n",
       "      <td>1547380</td>\n",
       "      <td>I've played through 5 levels so far, what I as...</td>\n",
       "      <td>6</td>\n",
       "    </tr>\n",
       "    <tr>\n",
       "      <th>16</th>\n",
       "      <td>1547380</td>\n",
       "      <td>[h1] Overall Rating\\n5.0 / 10 [/h1]\\n\\nthis ga...</td>\n",
       "      <td>7</td>\n",
       "    </tr>\n",
       "    <tr>\n",
       "      <th>17</th>\n",
       "      <td>1547380</td>\n",
       "      <td>Not too bad..\\n\\nI liked the art style, but de...</td>\n",
       "      <td>8</td>\n",
       "    </tr>\n",
       "    <tr>\n",
       "      <th>18</th>\n",
       "      <td>1547380</td>\n",
       "      <td>The true horror is accidentally deleting your ...</td>\n",
       "      <td>9</td>\n",
       "    </tr>\n",
       "    <tr>\n",
       "      <th>19</th>\n",
       "      <td>1547380</td>\n",
       "      <td>Fun, easy to pick up, smooth, satisfying, hype...</td>\n",
       "      <td>10</td>\n",
       "    </tr>\n",
       "    <tr>\n",
       "      <th>20</th>\n",
       "      <td>298110</td>\n",
       "      <td>Far Cry 4 is currently [h1]FREE[/h1] on Amazon...</td>\n",
       "      <td>1</td>\n",
       "    </tr>\n",
       "    <tr>\n",
       "      <th>21</th>\n",
       "      <td>298110</td>\n",
       "      <td>Pagan Minussy got me question my loyalty to th...</td>\n",
       "      <td>2</td>\n",
       "    </tr>\n",
       "    <tr>\n",
       "      <th>22</th>\n",
       "      <td>298110</td>\n",
       "      <td>I like this game, story, map design, coop mod,...</td>\n",
       "      <td>3</td>\n",
       "    </tr>\n",
       "    <tr>\n",
       "      <th>23</th>\n",
       "      <td>298110</td>\n",
       "      <td>it broke\\nit wont boot up at all\\nim only reco...</td>\n",
       "      <td>4</td>\n",
       "    </tr>\n",
       "    <tr>\n",
       "      <th>24</th>\n",
       "      <td>298110</td>\n",
       "      <td>Pagan Min 😩</td>\n",
       "      <td>5</td>\n",
       "    </tr>\n",
       "    <tr>\n",
       "      <th>25</th>\n",
       "      <td>298110</td>\n",
       "      <td>If you want to buy this game, DON´T open map e...</td>\n",
       "      <td>6</td>\n",
       "    </tr>\n",
       "    <tr>\n",
       "      <th>26</th>\n",
       "      <td>298110</td>\n",
       "      <td>My favourite Far Cry game \\nIt is underrated c...</td>\n",
       "      <td>7</td>\n",
       "    </tr>\n",
       "    <tr>\n",
       "      <th>27</th>\n",
       "      <td>298110</td>\n",
       "      <td>FILHOS DA PUTA DEIXARAM OS MACACOS MATAVEIS</td>\n",
       "      <td>8</td>\n",
       "    </tr>\n",
       "    <tr>\n",
       "      <th>28</th>\n",
       "      <td>298110</td>\n",
       "      <td>---{ Graphics }---\\n☐ You forget what reality ...</td>\n",
       "      <td>9</td>\n",
       "    </tr>\n",
       "    <tr>\n",
       "      <th>29</th>\n",
       "      <td>298110</td>\n",
       "      <td>far cry but helicopter</td>\n",
       "      <td>10</td>\n",
       "    </tr>\n",
       "    <tr>\n",
       "      <th>30</th>\n",
       "      <td>39530</td>\n",
       "      <td>Faster than a bullet\\nTerrifying scream\\nEnrag...</td>\n",
       "      <td>1</td>\n",
       "    </tr>\n",
       "    <tr>\n",
       "      <th>31</th>\n",
       "      <td>39530</td>\n",
       "      <td>Painkiller Leaderboard:\\n1.Painkiller : Black ...</td>\n",
       "      <td>2</td>\n",
       "    </tr>\n",
       "    <tr>\n",
       "      <th>32</th>\n",
       "      <td>39530</td>\n",
       "      <td>As a great man once said: \"SHURIKENS AND LIGHT...</td>\n",
       "      <td>3</td>\n",
       "    </tr>\n",
       "    <tr>\n",
       "      <th>33</th>\n",
       "      <td>39530</td>\n",
       "      <td>Bunnyhopping through purgatory while shooting ...</td>\n",
       "      <td>4</td>\n",
       "    </tr>\n",
       "    <tr>\n",
       "      <th>34</th>\n",
       "      <td>39530</td>\n",
       "      <td>This ain't an easy review to write.\\n\\nYou lik...</td>\n",
       "      <td>5</td>\n",
       "    </tr>\n",
       "    <tr>\n",
       "      <th>35</th>\n",
       "      <td>39530</td>\n",
       "      <td>Painkiller reminds me of one of the fake video...</td>\n",
       "      <td>6</td>\n",
       "    </tr>\n",
       "    <tr>\n",
       "      <th>36</th>\n",
       "      <td>39530</td>\n",
       "      <td>Doom Eternal's Great Grandfather</td>\n",
       "      <td>7</td>\n",
       "    </tr>\n",
       "    <tr>\n",
       "      <th>37</th>\n",
       "      <td>39530</td>\n",
       "      <td>Gore and endless zombies to kill. Fun for fans...</td>\n",
       "      <td>8</td>\n",
       "    </tr>\n",
       "    <tr>\n",
       "      <th>38</th>\n",
       "      <td>39530</td>\n",
       "      <td>Classic run and gun action with OP weapons and...</td>\n",
       "      <td>9</td>\n",
       "    </tr>\n",
       "    <tr>\n",
       "      <th>39</th>\n",
       "      <td>39530</td>\n",
       "      <td>I've been playing this since its 2004 release....</td>\n",
       "      <td>10</td>\n",
       "    </tr>\n",
       "    <tr>\n",
       "      <th>40</th>\n",
       "      <td>240</td>\n",
       "      <td>Before I played Counter-Strike: Source i had a...</td>\n",
       "      <td>1</td>\n",
       "    </tr>\n",
       "    <tr>\n",
       "      <th>41</th>\n",
       "      <td>240</td>\n",
       "      <td>i got this gmod texture pack and turns out the...</td>\n",
       "      <td>2</td>\n",
       "    </tr>\n",
       "    <tr>\n",
       "      <th>42</th>\n",
       "      <td>240</td>\n",
       "      <td>Got this to have less missing textures in gmod...</td>\n",
       "      <td>3</td>\n",
       "    </tr>\n",
       "    <tr>\n",
       "      <th>43</th>\n",
       "      <td>240</td>\n",
       "      <td>Better than CS:GO</td>\n",
       "      <td>4</td>\n",
       "    </tr>\n",
       "    <tr>\n",
       "      <th>44</th>\n",
       "      <td>240</td>\n",
       "      <td>You know it's better than CSGO when it still h...</td>\n",
       "      <td>5</td>\n",
       "    </tr>\n",
       "    <tr>\n",
       "      <th>45</th>\n",
       "      <td>240</td>\n",
       "      <td>good game, good community, although i did get ...</td>\n",
       "      <td>6</td>\n",
       "    </tr>\n",
       "    <tr>\n",
       "      <th>46</th>\n",
       "      <td>240</td>\n",
       "      <td>Counterstrike: Source (included in the Half Li...</td>\n",
       "      <td>7</td>\n",
       "    </tr>\n",
       "    <tr>\n",
       "      <th>47</th>\n",
       "      <td>240</td>\n",
       "      <td>This game made me miss the times when I could ...</td>\n",
       "      <td>8</td>\n",
       "    </tr>\n",
       "    <tr>\n",
       "      <th>48</th>\n",
       "      <td>240</td>\n",
       "      <td>This game is one of the best ever.  It never g...</td>\n",
       "      <td>9</td>\n",
       "    </tr>\n",
       "    <tr>\n",
       "      <th>49</th>\n",
       "      <td>240</td>\n",
       "      <td>One of the best games of all time.</td>\n",
       "      <td>10</td>\n",
       "    </tr>\n",
       "  </tbody>\n",
       "</table>\n",
       "</div>\n",
       "      <button class=\"colab-df-convert\" onclick=\"convertToInteractive('df-431d0282-8e9b-4219-8a6a-1d587e6a4953')\"\n",
       "              title=\"Convert this dataframe to an interactive table.\"\n",
       "              style=\"display:none;\">\n",
       "        \n",
       "  <svg xmlns=\"http://www.w3.org/2000/svg\" height=\"24px\"viewBox=\"0 0 24 24\"\n",
       "       width=\"24px\">\n",
       "    <path d=\"M0 0h24v24H0V0z\" fill=\"none\"/>\n",
       "    <path d=\"M18.56 5.44l.94 2.06.94-2.06 2.06-.94-2.06-.94-.94-2.06-.94 2.06-2.06.94zm-11 1L8.5 8.5l.94-2.06 2.06-.94-2.06-.94L8.5 2.5l-.94 2.06-2.06.94zm10 10l.94 2.06.94-2.06 2.06-.94-2.06-.94-.94-2.06-.94 2.06-2.06.94z\"/><path d=\"M17.41 7.96l-1.37-1.37c-.4-.4-.92-.59-1.43-.59-.52 0-1.04.2-1.43.59L10.3 9.45l-7.72 7.72c-.78.78-.78 2.05 0 2.83L4 21.41c.39.39.9.59 1.41.59.51 0 1.02-.2 1.41-.59l7.78-7.78 2.81-2.81c.8-.78.8-2.07 0-2.86zM5.41 20L4 18.59l7.72-7.72 1.47 1.35L5.41 20z\"/>\n",
       "  </svg>\n",
       "      </button>\n",
       "      \n",
       "  <style>\n",
       "    .colab-df-container {\n",
       "      display:flex;\n",
       "      flex-wrap:wrap;\n",
       "      gap: 12px;\n",
       "    }\n",
       "\n",
       "    .colab-df-convert {\n",
       "      background-color: #E8F0FE;\n",
       "      border: none;\n",
       "      border-radius: 50%;\n",
       "      cursor: pointer;\n",
       "      display: none;\n",
       "      fill: #1967D2;\n",
       "      height: 32px;\n",
       "      padding: 0 0 0 0;\n",
       "      width: 32px;\n",
       "    }\n",
       "\n",
       "    .colab-df-convert:hover {\n",
       "      background-color: #E2EBFA;\n",
       "      box-shadow: 0px 1px 2px rgba(60, 64, 67, 0.3), 0px 1px 3px 1px rgba(60, 64, 67, 0.15);\n",
       "      fill: #174EA6;\n",
       "    }\n",
       "\n",
       "    [theme=dark] .colab-df-convert {\n",
       "      background-color: #3B4455;\n",
       "      fill: #D2E3FC;\n",
       "    }\n",
       "\n",
       "    [theme=dark] .colab-df-convert:hover {\n",
       "      background-color: #434B5C;\n",
       "      box-shadow: 0px 1px 3px 1px rgba(0, 0, 0, 0.15);\n",
       "      filter: drop-shadow(0px 1px 2px rgba(0, 0, 0, 0.3));\n",
       "      fill: #FFFFFF;\n",
       "    }\n",
       "  </style>\n",
       "\n",
       "      <script>\n",
       "        const buttonEl =\n",
       "          document.querySelector('#df-431d0282-8e9b-4219-8a6a-1d587e6a4953 button.colab-df-convert');\n",
       "        buttonEl.style.display =\n",
       "          google.colab.kernel.accessAllowed ? 'block' : 'none';\n",
       "\n",
       "        async function convertToInteractive(key) {\n",
       "          const element = document.querySelector('#df-431d0282-8e9b-4219-8a6a-1d587e6a4953');\n",
       "          const dataTable =\n",
       "            await google.colab.kernel.invokeFunction('convertToInteractive',\n",
       "                                                     [key], {});\n",
       "          if (!dataTable) return;\n",
       "\n",
       "          const docLinkHtml = 'Like what you see? Visit the ' +\n",
       "            '<a target=\"_blank\" href=https://colab.research.google.com/notebooks/data_table.ipynb>data table notebook</a>'\n",
       "            + ' to learn more about interactive tables.';\n",
       "          element.innerHTML = '';\n",
       "          dataTable['output_type'] = 'display_data';\n",
       "          await google.colab.output.renderOutput(dataTable, element);\n",
       "          const docLink = document.createElement('div');\n",
       "          docLink.innerHTML = docLinkHtml;\n",
       "          element.appendChild(docLink);\n",
       "        }\n",
       "      </script>\n",
       "    </div>\n",
       "  </div>\n",
       "  "
      ],
      "text/plain": [
       "    game_id                                             review  order\n",
       "0    252870  After seeing Neebs gaming announce that they w...      1\n",
       "1    252870  The game is definitely fun IF you play with pe...      2\n",
       "2    252870  Pulsar is a game that can't really be describe...      3\n",
       "3    252870  My new favourite! Great fun for playing with f...      4\n",
       "4    252870  This game is janky as all hell with poor feedb...      5\n",
       "5    252870  A load of fun, but better with a real crew tha...      6\n",
       "6    252870  Amazing game to play with friends. Cool mechan...      7\n",
       "7    252870      funny space game where you get mad at friends      8\n",
       "8    252870                                        Game be gud      9\n",
       "9    252870  i think this game is really fun with friends a...     10\n",
       "10  1547380  [table][th]\\nReview by [url=https://store.stea...      1\n",
       "11  1547380  An  aesthetically stunning shooter with fun co...      2\n",
       "12  1547380  How hard must it be to make your first-person ...      3\n",
       "13  1547380  Its a Fun retro shooter with Supernatural stor...      4\n",
       "14  1547380  [url=https://store.steampowered.com/curator/38...      5\n",
       "15  1547380  I've played through 5 levels so far, what I as...      6\n",
       "16  1547380  [h1] Overall Rating\\n5.0 / 10 [/h1]\\n\\nthis ga...      7\n",
       "17  1547380  Not too bad..\\n\\nI liked the art style, but de...      8\n",
       "18  1547380  The true horror is accidentally deleting your ...      9\n",
       "19  1547380  Fun, easy to pick up, smooth, satisfying, hype...     10\n",
       "20   298110  Far Cry 4 is currently [h1]FREE[/h1] on Amazon...      1\n",
       "21   298110  Pagan Minussy got me question my loyalty to th...      2\n",
       "22   298110  I like this game, story, map design, coop mod,...      3\n",
       "23   298110  it broke\\nit wont boot up at all\\nim only reco...      4\n",
       "24   298110                                        Pagan Min 😩      5\n",
       "25   298110  If you want to buy this game, DON´T open map e...      6\n",
       "26   298110  My favourite Far Cry game \\nIt is underrated c...      7\n",
       "27   298110        FILHOS DA PUTA DEIXARAM OS MACACOS MATAVEIS      8\n",
       "28   298110  ---{ Graphics }---\\n☐ You forget what reality ...      9\n",
       "29   298110                             far cry but helicopter     10\n",
       "30    39530  Faster than a bullet\\nTerrifying scream\\nEnrag...      1\n",
       "31    39530  Painkiller Leaderboard:\\n1.Painkiller : Black ...      2\n",
       "32    39530  As a great man once said: \"SHURIKENS AND LIGHT...      3\n",
       "33    39530  Bunnyhopping through purgatory while shooting ...      4\n",
       "34    39530  This ain't an easy review to write.\\n\\nYou lik...      5\n",
       "35    39530  Painkiller reminds me of one of the fake video...      6\n",
       "36    39530                   Doom Eternal's Great Grandfather      7\n",
       "37    39530  Gore and endless zombies to kill. Fun for fans...      8\n",
       "38    39530  Classic run and gun action with OP weapons and...      9\n",
       "39    39530  I've been playing this since its 2004 release....     10\n",
       "40      240  Before I played Counter-Strike: Source i had a...      1\n",
       "41      240  i got this gmod texture pack and turns out the...      2\n",
       "42      240  Got this to have less missing textures in gmod...      3\n",
       "43      240                                  Better than CS:GO      4\n",
       "44      240  You know it's better than CSGO when it still h...      5\n",
       "45      240  good game, good community, although i did get ...      6\n",
       "46      240  Counterstrike: Source (included in the Half Li...      7\n",
       "47      240  This game made me miss the times when I could ...      8\n",
       "48      240  This game is one of the best ever.  It never g...      9\n",
       "49      240                 One of the best games of all time.     10"
      ]
     },
     "execution_count": 26,
     "metadata": {},
     "output_type": "execute_result"
    }
   ],
   "source": [
    "validation = print_nicely(validating)\n",
    "validation\n"
   ]
  },
  {
   "cell_type": "code",
   "execution_count": null,
   "metadata": {
    "colab": {
     "base_uri": "https://localhost:8080/"
    },
    "executionInfo": {
     "elapsed": 518,
     "status": "ok",
     "timestamp": 1656705647664,
     "user": {
      "displayName": "Charles J Alba",
      "userId": "04453837260567781183"
     },
     "user_tz": -60
    },
    "id": "68HrnBjrUWvc",
    "outputId": "fbd010e4-0ea7-40df-b3d5-ba5bd63ef0fb"
   },
   "outputs": [
    {
     "name": "stdout",
     "output_type": "stream",
     "text": [
      "tau is 0.6888888888888888  with p-value of 0.00468694885361552\n"
     ]
    }
   ],
   "source": [
    "# Comparing our results to the ground-truth results using Kendall's Tau coefficient\n",
    "\n",
    "# ID=252870\n",
    "ground_truth = [1, 2, 10, 3, 4, 5, 6, 7, 8, 9]\n",
    "predicted = [i for i in range(1, 11)]\n",
    "\n",
    "\n",
    "tau, p_value = stats.kendalltau(ground_truth, predicted)\n",
    "print(\"tau is\", tau, \"with a p-value of\", p_value)\n"
   ]
  },
  {
   "cell_type": "code",
   "execution_count": null,
   "metadata": {
    "colab": {
     "base_uri": "https://localhost:8080/"
    },
    "executionInfo": {
     "elapsed": 8,
     "status": "ok",
     "timestamp": 1656705669256,
     "user": {
      "displayName": "Charles J Alba",
      "userId": "04453837260567781183"
     },
     "user_tz": -60
    },
    "id": "WAW80ikzm6_z",
    "outputId": "37f08ed1-8802-4681-a9b2-3faf516bfad9"
   },
   "outputs": [
    {
     "name": "stdout",
     "output_type": "stream",
     "text": [
      "tau is 0.6888888888888888  with p-value of 0.00468694885361552\n"
     ]
    }
   ],
   "source": [
    "## ID=1547380\n",
    "ground_truth=[1,3,11,4,5,6,7,8,9,10]\n",
    "tau, p_value = stats.kendalltau(ground_truth, predicted)\n",
    "print(\"tau is\", tau, \" with p-value of\", p_value)"
   ]
  },
  {
   "cell_type": "code",
   "execution_count": null,
   "metadata": {
    "colab": {
     "base_uri": "https://localhost:8080/"
    },
    "executionInfo": {
     "elapsed": 392,
     "status": "ok",
     "timestamp": 1656705729921,
     "user": {
      "displayName": "Charles J Alba",
      "userId": "04453837260567781183"
     },
     "user_tz": -60
    },
    "id": "WT3TPsY2WnDk",
    "outputId": "520c5beb-da34-4f3e-ce73-5ba062985d89"
   },
   "outputs": [
    {
     "name": "stdout",
     "output_type": "stream",
     "text": [
      "tau is 0.9999999999999999  with p-value of 5.511463844797178e-07\n"
     ]
    }
   ],
   "source": [
    "## ID=298110\n",
    "ground_truth=[1,2,3,4,5,6,7,8,11,12]\n",
    "tau, p_value = stats.kendalltau(ground_truth, predicted)\n",
    "print(\"tau is\", tau, \" with p-value of\", p_value)"
   ]
  },
  {
   "cell_type": "code",
   "execution_count": null,
   "metadata": {
    "colab": {
     "base_uri": "https://localhost:8080/"
    },
    "executionInfo": {
     "elapsed": 384,
     "status": "ok",
     "timestamp": 1656705766242,
     "user": {
      "displayName": "Charles J Alba",
      "userId": "04453837260567781183"
     },
     "user_tz": -60
    },
    "id": "1lTrQJb2fFNI",
    "outputId": "e19be181-1e24-4886-cf67-d8076e093c8e"
   },
   "outputs": [
    {
     "name": "stdout",
     "output_type": "stream",
     "text": [
      "tau is 0.6888888888888888  with p-value of 0.00468694885361552\n"
     ]
    }
   ],
   "source": [
    "## ID = 39350\n",
    "ground_truth=[1,2,11,6,7,8,12,9,10,13]\n",
    "tau, p_value = stats.kendalltau(ground_truth, predicted)\n",
    "print(\"tau is\", tau, \" with p-value of\", p_value)"
   ]
  },
  {
   "cell_type": "code",
   "execution_count": null,
   "metadata": {
    "colab": {
     "base_uri": "https://localhost:8080/"
    },
    "executionInfo": {
     "elapsed": 455,
     "status": "ok",
     "timestamp": 1656705787627,
     "user": {
      "displayName": "Charles J Alba",
      "userId": "04453837260567781183"
     },
     "user_tz": -60
    },
    "id": "Q3hUWVbsW94d",
    "outputId": "5e4fdd22-b414-4703-836d-a9be7da6c948"
   },
   "outputs": [
    {
     "name": "stdout",
     "output_type": "stream",
     "text": [
      "tau is 0.9999999999999999  with p-value of 5.511463844797178e-07\n"
     ]
    }
   ],
   "source": [
    "## ID = 240\n",
    "ground_truth=[1,2,3,4,5,6,7,8,9,10]\n",
    "tau, p_value = stats.kendalltau(ground_truth, predicted)\n",
    "print(\"tau is\", tau, \" with p-value of\", p_value)"
   ]
  },
  {
   "cell_type": "markdown",
   "metadata": {
    "id": "y01J-NrWuaY8"
   },
   "source": [
    "## Testing our hypothesized sorting algorithm for our side bar of reviews\n",
    "\n",
    "Refer to the manuscript to understand how our hypothesized sorting algorithm works. "
   ]
  },
  {
   "cell_type": "code",
   "execution_count": null,
   "metadata": {},
   "outputs": [],
   "source": [
    "def get_temp_df(df, reviews_list):\n",
    "    invisible_reviews_list_all = []\n",
    "    for i in tqdm(range(len(df))):\n",
    "        end_int = 1656606800\n",
    "        start = int(end_int - (30 * 86400))\n",
    "        game_id = str(df.game_id[i])\n",
    "        temp_dates = reviews_list[reviews_list['game_id'] == game_id]\n",
    "        temp_dates = temp_dates[temp_dates['timestamp_created'].between(start, end_int - 1)]\n",
    "        temp_dates = temp_dates.sort_values(\"timestamp_created\", ascending=False)\n",
    "        main_bar_list = list(df.id[i])\n",
    "        temp_dates_list = list(temp_dates.recommendation_id)\n",
    "        main_bar_list = [str(item) for item in main_bar_list]\n",
    "        temp_dates_list = [str(item) for item in temp_dates_list]\n",
    "        sidebar_temp_dates_list = [x for x in temp_dates_list if x not in main_bar_list]\n",
    "        sidebar_temp_dates_list = sidebar_temp_dates_list[:10]\n",
    "        invisible_reviews_list_all.append(sidebar_temp_dates_list)\n",
    "    return invisible_reviews_list_all\n",
    "\n",
    "sidebar_reviews_list = get_temp_df(validating, df)\n"
   ]
  },
  {
   "cell_type": "code",
   "execution_count": null,
   "metadata": {
    "colab": {
     "base_uri": "https://localhost:8080/"
    },
    "executionInfo": {
     "elapsed": 297,
     "status": "ok",
     "timestamp": 1660406640959,
     "user": {
      "displayName": "Charles J Alba",
      "userId": "04453837260567781183"
     },
     "user_tz": -60
    },
    "id": "eznryPnq8IoY",
    "outputId": "2b3d758b-f7a3-4c73-f7c1-85d43d9b22f3"
   },
   "outputs": [
    {
     "name": "stdout",
     "output_type": "stream",
     "text": [
      "[\"Pretty relaxing space sim, flying isn't too bad and once you get the hang of what you should upgrade first and work toward, you're set. I've been getting by just fine playing alone with just the bots to help, but playing online is where it shines for extra enjoyment haha :D\", 'Nice game to playing with your friends', \"Really fun game putting you and several other players in control of a spaceship, this game completely depends on the people you're playing with, but In my experience it's not that difficult to find a good crew of randoms. The challenges this game gives can be somewhat difficult with some puzzles, but the spaceship combat is like no other! \\nI especially love the engineer role as balancing power is a really fun challenge that requires constant attnetion during fights as you need to maintain power to shields and weapons without overheating your reactor! With good communication you can achieve this by having cool down periods where you throttle the reactor. As a captain you need to focus your crew and take over any role if someone dies in a boarding action. Did I also mention you can board other ships and take them over? That's just one of many really fun small mechanics!\", \"Overwhelming amount of flaws compels me to not reccomend this game, but in the end it is fun and that's what matters.\\nPros:\\n1. Sufficiently nice combat system, both ground and space.\\n2. In some aspects space is more diverse and full than in most games, yet it doesn't feel unnatural.\\n3. Decent selection of walkable spaceships\\n4. When you fly ships you can easily tell the difference from upgrades and hull itself, you feel how a ship responds.n5. Good variety of addons and devices ensures that each new adventure is at least somewhat different from the last.\\n6. Diverse roles in coopt and cooperation actually matters (ex: pilot being too rought will cause problems to gunners, knowing when gunner doesn't need a missile lock can save extra power e t c)\\n7. Ground missions could use a bit more work, but are fairly decent.\\n8. Decent engagement range (at least in comparison to most other space games)\\nCons.\\n1. Single-player 'mode' is a bit neglected. While captain can do alsmost everything from the start with help from bots, efficiency is magnitude lower than with a live, nonbot crew. This is especially true for boarding.\\n2. Enevitably engineer runs away to man the turret, as a result reactor overheats - engineer's and scietist roles can be too boring in space. I suspect it could have been easily solved. In some cases 5 crew members feels overstaffed since some have nothing to do, but more often it's significantly understaffed\\n3. Ships are very static. While some of the equipment can get damaged, it doesn't look damaged and that damage is limited to 4 base subsytmes. Every box is always at the same location, adding 'hypedrive' equipment won't add visibly add to a science station beond an icon in UI.\\n4. Cargo and trade systems are outright neglected. Everything in ship's cargo is the same uniform size despite visually being different. Large turret takes as much space as a small turret. As a result there is a very simplified salvaging, no mining, trade or delivery.\\n5. Ships are as identical as they are different. Large ships use the same single reactor and shield that small ones use. Always same 4 base subsystems. There are some differences in cargo capacity, some ships have no extractor slots or have autoturrets, but that's the extent of the base differences. Always 5 crew. Don't expect to see properly specialized ships, nor a bot to replace you while you run of to repair or board something.\\n6. You do not drift, you move only when engines are on.\\n7. Some aspects of scientific and engineering roles feel way too artificial.\\n8. If you have two ships in the same sector under your control, you can't man both, despite captain being enough to man the second ship, while crew handles the first (would have been nice to be able to tow the second ship) and you can't even compare your current ship to your potential 'claim' properly.\\n9. No generated missions, everything appears to be premade.\\n10. Bugs. Mostly not gamebreaking. Some incompleteness. Assets are clearly missing (a lot of things share icons with 'scrap').\", \"I want to love this game,. Exploring and finding cool corners of the Galaxy is exciting,\\nThe co-op aspect is a great idea! Its really creative, and a Trekie dream game in concept!\\nBut the problems start to emerge rather fast in co-op\\nAll the side stations basically do one thing every 5-10 minutes unless a fight is actively happening.\\nSo while in co-op, we'd be exploring and trying to get to our mission, and at least half the crew would mentally check out due to there not being enough things to do, aside from maybe that one or two tasks every 10ish minutes, but only stumble across one hard fight along the way with the others being cake walks.\\n\\nEssentially, if you are the captain, you are the one playing the game with your friends supporting you. While everyone besides the helmsmen would need a second monitor to keep themselves entertained enough to keep playing the game.\\n\\nIf there were more active things for the crew to do while traveling, it would be more engaging in the long run. Otherwise you're more likely to get people to play Barotrauma with its steep learning curve, cause there are actual activities to do while in transit.\\n\\nI think this game would be an absolute recommend from me with the side systems having more depth, or a DLC(that id gladly pay for) to make the ship interior more interactive/interesting for those that have nothing to do when no combat is going on.\\n\\nIf anyone has recommendations on solutions for this issue, I'm all ears, cause I want to love this game!\", 'Great game, the only other game like it that I know of is bridge crew and this is far better, very fin and hasso many paths to take', \"It's only fun with friends and gets boring after an hour or two\", \"I am absolutely loving my time with this game.\\nI'm very much a Star Trek fan, and this game definitely delivers a fun crew experience.\\nThe bot system is good enough that it's enjoyable alone, but playing with friends is a particular blast.\\nWould definitely recommend.\"]\n",
      "[\"One of the slickest nicest indie fps games I've played since DUSK, great art design combined with fun levels a simple but fun story and world, good game play and an grand ending that really feels earned. It is an recommendation from me. And the way I started the game a little unsure of the rhythm of combat and the progression to being able to beat some levels with just the sword was fantastic. I felt like a monster hunter by the end and would love to revisit this game and world in more games in the future\", 'Cowboys noire fajando demonios. Linda atmosfera, graficos y diseno llamativo', \"The style is gorgeous and works very well for the genre. Forget hand-holding in this one, from starting the game to figuring out the missions and then executing, enemies and tough with some bosses having insta-kill (boo devs - that's always a cheap move)\"]\n",
      "['good', 'rel gud gam', 'yes if you like far cry 3 then you should buy it.', \"It's like far cry 4 but in another place and different villian is good\", 'very enjoyable', 'Every thing', 'Great Far Cry game, I love it. Great Villian. Very addicting.', 'very good game, love to sit and watch something while playing', 'I like this', 'A really good game']\n",
      "['Its epic', 'perfection', 'This game makes we want to nurse a baby bird I found in my backyard back to health, and then tearfully set it free once it reaches healthy adulthood', \"Mouse doesn't work. Once you get into the game itself you can't use any buttons on the mouse. If you then go to the menu by pressing ESC your mouse buttons don't work either.\\nGreat game back in the day, but I can't play it properly then it is not worth gettting anymore.\", \"The shooting is decent, but it gets boring after an hour or two. Not much point playing this unless you're a hardcore fan of retro FPS games or mindless arena shooters.\\nThe janky physics (on bridges or tram cars) are more dangerous than the hordes of trash mobs. Painkiller needed more polishing. The game obnoxiously forces you to kill every single enemy in a level and the bosses are a slog--which says very little, since video game boss fights are always mind-numbing wastes of time. This means you can't speed through them even if you wanted to. Because the enemies respawn everywhere, you'll be running in circles looking for monsters stuck on geometry or sniping them with projectile weapons with bullet drop.\"]\n",
      "['I this GOOD', 'Go', 'Simply the best, the best of the best 5 vs 5 competitive shooter out there. There will never be another shooter like this one. CS source will remain the best classic shooter for a lifetime to come.', 'Good game!', 'Classic Counter Strike but better', 'good game <3', 'mmmmm', '10/10', 'fun game', 'Mostly used ffor GMOD maps, but still holds up as a good game to this day.']\n"
     ]
    }
   ],
   "source": [
    "def convert_id_to_review(df, list_of_review):\n",
    "    review_list = []\n",
    "    for review_id in list_of_review:\n",
    "        for j in range(len(df)):\n",
    "            if str(df.recommendation_id[j]) == str(review_id):\n",
    "                review_list.append(df.review[j])\n",
    "    return review_list\n",
    "\n",
    "for reviews_ids in sidebar_reviews_list:\n",
    "    print(convert_id_to_review(df, reviews_ids))\n"
   ]
  }
 ],
 "metadata": {
  "colab": {
   "authorship_tag": "ABX9TyM0Dw4Ro3dq38mgktWG6kPh",
   "collapsed_sections": [],
   "machine_shape": "hm",
   "name": "validation.ipynb",
   "provenance": []
  },
  "gpuClass": "standard",
  "kernelspec": {
   "display_name": "Python 3 (ipykernel)",
   "language": "python",
   "name": "python3"
  },
  "language_info": {
   "codemirror_mode": {
    "name": "ipython",
    "version": 3
   },
   "file_extension": ".py",
   "mimetype": "text/x-python",
   "name": "python",
   "nbconvert_exporter": "python",
   "pygments_lexer": "ipython3",
   "version": "3.11.5"
  }
 },
 "nbformat": 4,
 "nbformat_minor": 1
}
