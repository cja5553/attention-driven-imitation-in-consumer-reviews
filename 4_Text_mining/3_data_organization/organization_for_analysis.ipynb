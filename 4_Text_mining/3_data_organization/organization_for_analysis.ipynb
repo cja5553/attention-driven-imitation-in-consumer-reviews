{
  "cells": [
    {
      "cell_type": "code",
      "execution_count": null,
      "metadata": {
        "vscode": {
          "languageId": "plaintext"
        }
      },
      "outputs": [],
      "source": [
        "from tqdm import tqdm\n",
        "import pandas as pd\n",
        "import ast\n",
        "import pickle\n",
        "\n",
        "# reading the files \n",
        "with open(\"main_bar_similarity_list\", \"rb\") as fp1: \n",
        "  visible_similarity_matrix_list = pickle.load(fp1) \n",
        "\n",
        "with open(\"sidebar_similarity_list\", \"rb\") as fp2: \n",
        "  non_visible_similarity_matrix_list = pickle.load(fp2) \n",
        "\n",
        "with open(\"recommendation_id\", \"rb\") as fp3: \n",
        "  recommendation_id_list = pickle.load(fp3)\n",
        "\n",
        "# expanding the dataset vertically so we can perform our analysis in R\n",
        "def extending_out(id_list,original_list_of_list):\n",
        "  new_list,new_id_list,order,=[],[],[]\n",
        "  for i in tqdm(range(len(original_list_of_list))):\n",
        "    current=original_list_of_list[i]\n",
        "    id=str(id_list[i])\n",
        "    for j in range(len(current)):\n",
        "      t=int(j+1)\n",
        "      score=float(current[j])\n",
        "      new_list.append(score)\n",
        "      new_id_list.append(id)\n",
        "      order.append(t)\n",
        "  return(order,new_id_list,new_list)\n",
        "\n",
        "# executing the verticle expansion for the default observed comments \n",
        "order,new_recommendation_ids,observable_comments_list=extending_out(recommendation_id_list,visible_similarity_matrix_list)\n",
        "typeof=[\"mainbar\" for i in range(len(new_recommendation_ids))]\n",
        "df1 = pd.DataFrame(list(zip(new_recommendation_ids,observable_comments_list,order,typeof)), columns=['recommendation_id','similarity_score','order','type'])  \n",
        "\n",
        "# executing the verticle expansion for the side-bar display of recent reviews\n",
        "order,new_recommendation_ids,unobservable_comments_list=extending_out(recommendation_id_list,non_visible_similarity_matrix_list)\n",
        "typeof=[\"sidebar\" for i in range(len(new_recommendation_ids))]\n",
        "df2 = pd.DataFrame(list(zip(new_recommendation_ids,unobservable_comments_list,order,typeof)), columns =['recommendation_id','similarity_score','order','type'])  \n",
        "\n",
        "# combining the 2 together in one dataframe \n",
        "frames = [df1, df2]\n",
        "data= pd.concat(frames)\n",
        "data.to_csv('reviewer_analysis.csv')\n",
        "data"
      ]
    }
  ],
  "metadata": {
    "colab": {
      "collapsed_sections": [],
      "machine_shape": "hm",
      "name": "organization_for_analysis.ipynb",
      "provenance": []
    },
    "gpuClass": "standard",
    "kernelspec": {
      "display_name": "Python 3",
      "name": "python3"
    },
    "language_info": {
      "name": "python"
    }
  },
  "nbformat": 4,
  "nbformat_minor": 0
}
