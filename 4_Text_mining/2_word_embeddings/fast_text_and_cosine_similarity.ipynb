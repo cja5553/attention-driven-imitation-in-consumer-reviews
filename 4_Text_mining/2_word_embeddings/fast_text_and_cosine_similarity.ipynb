{
  "nbformat": 4,
  "nbformat_minor": 0,
  "metadata": {
    "colab": {
      "name": "fast_text_and_cosine_similarity.ipynb",
      "provenance": [],
      "collapsed_sections": [],
      "machine_shape": "hm"
    },
    "kernelspec": {
      "name": "python3",
      "display_name": "Python 3"
    },
    "language_info": {
      "name": "python"
    },
    "gpuClass": "standard"
  },
  "cells": [
    {
      "cell_type": "markdown",
      "source": [
        "## Preparing the files to implement the fast text embeddings"
      ],
      "metadata": {
        "id": "U3ERgZOrFxXF"
      }
    },
    {
      "cell_type": "code",
      "source": [
        "from google.colab import drive\n",
        "from tqdm import tqdm\n",
        "drive.mount(\"/content/drive\")\n",
        "%cd '/content/drive/My Drive/Dissertation'\n",
        "import requests\n",
        "from bs4 import BeautifulSoup\n",
        "import pandas as pd\n",
        "import ast\n",
        "from numpy import mean\n",
        "import pickle\n",
        "reviews=pd.read_csv(\"FPS_reviews_lemmatized.csv\")\n",
        "\n",
        "# reading the files\n",
        "with open(\"observable_comments_list\", \"rb\") as fp1: \n",
        "  visible_review_order_list = pickle.load(fp1) \n",
        "\n",
        "with open(\"unobservable_comments_list\", \"rb\") as fp2: \n",
        "  non_observable_review_order_list = pickle.load(fp2) \n",
        "\n",
        "with open(\"recommendation_id\", \"rb\") as fp3: \n",
        "  recommendation_id_list = pickle.load(fp3) \n",
        "\n",
        "#df[\"order_of_visible_comments\"]=[(ast.literal_eval(df[\"order_of_visible_comments\"][i])) for i in tqdm(range(len(df)))] # saving this as a list\n",
        "#df[\"unobservable_comments_list\"]=[(ast.literal_eval(df[\"unobservable_comments_list\"][i])) for i in tqdm(range(len(df)))] # saving this as a list\n",
        "\n",
        "\n",
        "# in our wrangling and re-simulation components, we forgot to limit the most recent reviews to 10, per what actually happens in STEAM. We perform that here.  \n",
        "def reduce_to_ten(non_visible_matrix):\n",
        "  new_matrix=[]\n",
        "  for i in tqdm(range(len(non_visible_matrix))):\n",
        "    if len((non_visible_matrix[i]))<10:\n",
        "      new_matrix.append([\"\"])\n",
        "    else:\n",
        "      new=(((non_visible_matrix[i])[0:10]))      \n",
        "      new_matrix.append(new)\n",
        "  return(new_matrix)\n",
        "def elements_less_ten(non_visible_matrix):\n",
        "  indexes=[]\n",
        "  for i in tqdm(range(len(non_visible_matrix))):\n",
        "    if (len(non_visible_matrix[i]))<10:\n",
        "      indexes.append(int(i))\n",
        "    else:\n",
        "      continue\n",
        "  return(indexes)\n",
        "def remove_elements_less_ten(indexes,matrix):\n",
        "  for index in sorted(indexes, reverse=True):\n",
        "    del matrix[index]\n",
        "  return(matrix)\n",
        "non_observable_review_order_list=reduce_to_ten(non_observable_review_order_list)\n",
        "indexes=elements_less_ten(non_observable_review_order_list)\n",
        "non_observable_review_order_list=remove_elements_less_ten(indexes,non_observable_review_order_list)\n",
        "visible_review_order_list=remove_elements_less_ten(indexes,visible_review_order_list)\n",
        "recommendation_id_list=remove_elements_less_ten(indexes,recommendation_id_list)\n",
        "\n",
        "# inserting the actual review into the list of visible reviews\n",
        "for i in tqdm(range(len(visible_review_order_list))):\n",
        "  (visible_review_order_list[i]).insert(0,str(recommendation_id_list[i]))\n",
        "for i in tqdm(range(len(non_observable_review_order_list))):\n",
        "  (non_observable_review_order_list[i]).insert(0,str(recommendation_id_list[i]))\n",
        "\n",
        "\n",
        "# saving the files for save measure in case colab crashes. \n",
        "with open(\"observable_comments_list_updated\", \"wb\") as fp1:\n",
        "  pickle.dump(visible_review_order_list, fp1)\n",
        "\n",
        "with open(\"unobservable_comments_list_updated\", \"wb\") as fp2:\n",
        "  pickle.dump(non_observable_review_order_list, fp2)\n",
        "\n",
        "with open(\"recommendation_id_updated\", \"wb\") as fp3:\n",
        "  pickle.dump(recommendation_id_list, fp3)\n"
      ],
      "metadata": {
        "id": "bDTOGyqzqcN0"
      },
      "execution_count": null,
      "outputs": []
    },
    {
      "cell_type": "code",
      "source": [
        "from google.colab import drive\n",
        "from tqdm import tqdm\n",
        "drive.mount(\"/content/drive\")\n",
        "%cd '/content/drive/My Drive/Dissertation'\n",
        "import requests\n",
        "from bs4 import BeautifulSoup\n",
        "import pandas as pd\n",
        "import ast\n",
        "from numpy import mean\n",
        "import pickle\n",
        "\n",
        "# re-reading the files above\n",
        "with open(\"unobservable_comments_list_updated\", \"rb\") as fp1:\n",
        "  unobservable_review_order_list = pickle.load(fp1)\n",
        "with open(\"observable_comments_list_updated\", \"rb\") as fp2:\n",
        "  visible_review_order_list = pickle.load(fp2)\n",
        "with open(\"recommendation_id_updated\", \"rb\") as fp3:\n",
        "  recommendation_id_list = pickle.load(fp3)\n",
        "reviews=pd.read_csv(\"FPS_reviews_lemmatized.csv\")\n",
        "\n",
        "# make recommendation_id a string for all\n",
        "reviews[\"recommendation_id\"]=[str((reviews[\"recommendation_id\"])[i]) for i in (range(len(reviews)))]\n",
        "reviews[\"review\"]=[str((reviews[\"review\"])[i]) for i in (range(len(reviews)))]\n",
        "recommendation_id=[str(i) for i in recommendation_id_list]\n",
        "def convert_to_string(list_of_list):\n",
        "  new_list=[]\n",
        "  for i in tqdm(range(len(list_of_list))):\n",
        "    current_list=list_of_list[i]\n",
        "    current_list=[str(j) for j in current_list]\n",
        "    new_list.append(current_list)\n",
        "  return(new_list)\n",
        "\n",
        "visible_review_order_list=convert_to_string(visible_review_order_list)\n",
        "unobservable_review_order_list=convert_to_string(unobservable_review_order_list)\n"
      ],
      "metadata": {
        "id": "l-LuIqrJCjCT",
        "colab": {
          "base_uri": "https://localhost:8080/"
        },
        "outputId": "3124f4e6-82e5-4e34-9754-687becbb4c41"
      },
      "execution_count": null,
      "outputs": [
        {
          "output_type": "stream",
          "name": "stdout",
          "text": [
            "Drive already mounted at /content/drive; to attempt to forcibly remount, call drive.mount(\"/content/drive\", force_remount=True).\n",
            "/content/drive/My Drive/Dissertation\n"
          ]
        },
        {
          "output_type": "stream",
          "name": "stderr",
          "text": [
            "100%|██████████| 920536/920536 [00:03<00:00, 245360.00it/s]\n",
            "100%|██████████| 920536/920536 [00:04<00:00, 216017.34it/s]\n"
          ]
        }
      ]
    },
    {
      "cell_type": "markdown",
      "source": [
        "## running the fast-text word embeddings and cosine-similarity matrix\n"
      ],
      "metadata": {
        "id": "xy8xNqh0Fs7X"
      }
    },
    {
      "cell_type": "code",
      "source": [
        "from scipy import spatial\n",
        "import numpy as np\n",
        "from scipy.spatial.distance import cosine\n",
        "import numpy as np\n",
        "!git clone https://github.com/facebookresearch/fastText.git\n",
        "!cd fastText\n",
        "!pip install fastText\n",
        "import fasttext\n",
        "import fasttext.util\n",
        "# download an english model of fasttext\n",
        "fasttext.util.download_model('en', if_exists='ignore')  # English\n",
        "model = fasttext.load_model('cc.en.300.bin')\n",
        "\n",
        "# getting the fastText word vectors for each reviews\n",
        "def get_vector(s):\n",
        "  return (model.get_sentence_vector(str(s)))\n",
        "\n",
        "# getting the fastText word vectors for across all reviews and saving it in the form of a dictionary\n",
        "def get_vector_dict(reviews):\n",
        "  review_ids=list(reviews[\"recommendation_id\"])\n",
        "  review=list(reviews[\"review\"])\n",
        "  vector={}\n",
        "  for i in tqdm(range(len(review))):\n",
        "    review_id=str(review_ids[i])\n",
        "    fasttext_vector=get_vector(review[i])\n",
        "    vector[review_id]=fasttext_vector\n",
        "  return(vector)\n",
        "\n",
        "# calculating the cosine-similarity score \n",
        "def cosine_similarity(embedding_1, embedding_2):\n",
        "  # Calculate the cosine similarity of the two embeddings.\n",
        "  sim = 1 - cosine(embedding_1, embedding_2)\n",
        "  return(sim)\n",
        "\n",
        "# getting the cosine similarity matrix for each review\n",
        "def similiarity_matrix(list_of_visible_reviews,comments_vector):\n",
        "  review_id=str(list_of_visible_reviews[0])\n",
        "  review_vector=comments_vector[review_id]\n",
        "  matrix=[]\n",
        "  for i in range(1,len(list_of_visible_reviews)):\n",
        "    order_id=str(list_of_visible_reviews[i])\n",
        "    order_x=comments_vector[order_id]\n",
        "    similarity=cosine_similarity(review_vector,order_x)\n",
        "    matrix.append(similarity)\n",
        "  return(matrix)\n",
        "\n",
        "# compiling all the similarity matrices \n",
        "def list_of_matrix(review_order_list,comments_vector):\n",
        "  matrix_list=[]\n",
        "  for i in tqdm(range(len(review_order_list))):\n",
        "    list_of_visible_matrices=similiarity_matrix(review_order_list[i],comments_vector)\n",
        "    matrix_list.append(list_of_visible_matrices)\n",
        "  return(matrix_list)\n",
        "\n",
        "vector_dict=get_vector_dict(reviews)\n",
        "visible_matrix=list_of_matrix(visible_review_order_list,vector_dict)\n",
        "non_visible_matrix=list_of_matrix(unobservable_review_order_list,vector_dict)\n",
        "\n",
        "# saving the files \n",
        "with open(\"observable_similarity_list\", \"wb\") as fp1:\n",
        "  pickle.dump(visible_matrix, fp1)\n",
        "\n",
        "with open(\"recommendation_id\", \"wb\") as fp2:\n",
        "  pickle.dump(recommendation_id_list, fp2)\n",
        "\n",
        "with open(\"unobservable_similarity_list\", \"wb\") as fp3:\n",
        "  pickle.dump(non_visible_matrix, fp3)"
      ],
      "metadata": {
        "id": "D5HU13f-MI_w",
        "colab": {
          "base_uri": "https://localhost:8080/"
        },
        "outputId": "d8029fca-653a-44e8-d4dc-155ee15bd823"
      },
      "execution_count": null,
      "outputs": [
        {
          "output_type": "stream",
          "name": "stdout",
          "text": [
            "fatal: destination path 'fastText' already exists and is not an empty directory.\n",
            "Looking in indexes: https://pypi.org/simple, https://us-python.pkg.dev/colab-wheels/public/simple/\n",
            "Requirement already satisfied: fastText in /usr/local/lib/python3.7/dist-packages (0.9.2)\n",
            "Requirement already satisfied: setuptools>=0.7.0 in /usr/local/lib/python3.7/dist-packages (from fastText) (57.4.0)\n",
            "Requirement already satisfied: pybind11>=2.2 in /usr/local/lib/python3.7/dist-packages (from fastText) (2.10.0)\n",
            "Requirement already satisfied: numpy in /usr/local/lib/python3.7/dist-packages (from fastText) (1.21.6)\n"
          ]
        },
        {
          "output_type": "stream",
          "name": "stderr",
          "text": [
            "Warning : `load_model` does not return WordVectorModel or SupervisedModel any more, but a `FastText` object which is very similar.\n",
            "100%|██████████| 1056940/1056940 [02:30<00:00, 7014.92it/s]\n",
            "  0%|          | 165/920536 [00:00<09:18, 1648.94it/s]/usr/local/lib/python3.7/dist-packages/scipy/spatial/distance.py:699: RuntimeWarning: invalid value encountered in float_scalars\n",
            "  dist = 1.0 - uv / np.sqrt(uu * vv)\n",
            "100%|██████████| 920536/920536 [09:42<00:00, 1580.26it/s]\n",
            "100%|██████████| 920536/920536 [09:14<00:00, 1660.90it/s]\n"
          ]
        }
      ]
    }
  ]
}