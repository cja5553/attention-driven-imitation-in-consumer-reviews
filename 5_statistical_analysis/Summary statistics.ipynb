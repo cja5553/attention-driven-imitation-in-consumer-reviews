{
  "nbformat": 4,
  "nbformat_minor": 0,
  "metadata": {
    "colab": {
      "provenance": []
    },
    "kernelspec": {
      "name": "python3",
      "display_name": "Python 3"
    },
    "language_info": {
      "name": "python"
    }
  },
  "cells": [
    {
      "cell_type": "markdown",
      "source": [
        "# Read and organize data"
      ],
      "metadata": {
        "id": "HfjDswjVSFyD"
      }
    },
    {
      "cell_type": "code",
      "execution_count": 1,
      "metadata": {
        "colab": {
          "base_uri": "https://localhost:8080/"
        },
        "id": "liHMuzgKqb18",
        "outputId": "bbc53016-af2b-48c3-d89a-c55c0103824e"
      },
      "outputs": [
        {
          "output_type": "stream",
          "name": "stdout",
          "text": [
            "Drive already mounted at /content/drive; to attempt to forcibly remount, call drive.mount(\"/content/drive\", force_remount=True).\n",
            "/content/drive/My Drive/Research/Dissertation\n"
          ]
        },
        {
          "output_type": "execute_result",
          "data": {
            "text/plain": [
              "673"
            ]
          },
          "metadata": {},
          "execution_count": 1
        }
      ],
      "source": [
        "# import the packages and read pickle file\n",
        "\n",
        "from google.colab import drive\n",
        "drive.mount(\"/content/drive\")\n",
        "%cd '/content/drive/My Drive/Research/Dissertation'\n",
        "from tqdm import tqdm\n",
        "import pickle\n",
        "with open(\"singleplayer_FPS_reviews_list_2\", \"rb\") as fp:\n",
        "  single_FPS_reviews = pickle.load(fp)\n",
        "\n",
        "with open(\"games_list_2\",\"rb\") as fp:\n",
        "  games_id_list=pickle.load(fp)\n",
        "\n",
        "len(games_id_list)\n",
        "\n"
      ]
    },
    {
      "cell_type": "code",
      "source": [
        "steam_purchase_list,playtime_at_review,written_during_early_access_list, num_of_reviews_list,game_id,steam_id_list,player_review_list,time_stamp_created_list,time_stamp_updated_list,recommendation_id_list,scores,votes_up_total,steam_purchase=[],[],[],[],[],[],[],[],[],[],[],[],[]\n",
        "for i in tqdm(range(len(games_id_list))):\n",
        "  game=games_id_list[i]\n",
        "  game_reviews=single_FPS_reviews[i]\n",
        "  for j in (range(len(game_reviews))):\n",
        "    # print(game_reviews[j])\n",
        "    steam_id=game_reviews[j][\"author\"][\"steamid\"]\n",
        "    player_review=game_reviews[j][\"review\"]\n",
        "    timestamp_created=game_reviews[j][\"timestamp_created\"]\n",
        "    timestamp_updated=game_reviews[j][\"timestamp_updated\"]\n",
        "    recommendation_id=str(game_reviews[j][\"recommendationid\"])\n",
        "    score=game_reviews[j][\"weighted_vote_score\"]\n",
        "    votes_up=game_reviews[j][\"votes_up\"]\n",
        "    steam_purchase=game_reviews[j][\"steam_purchase\"]\n",
        "    #free=game_reviews[j][\"received_for_free\"]\n",
        "    written_during_early_access=game_reviews[j][\"written_during_early_access\"]\n",
        "    try:\n",
        "      play_time_at_review=game_reviews[j][\"author\"][\"playtime_at_review\"]\n",
        "    except KeyError:\n",
        "      play_time_at_review=0\n",
        "    game_id.append(game)\n",
        "    steam_id_list.append(steam_id)\n",
        "    player_review_list.append(player_review)\n",
        "    time_stamp_created_list.append(timestamp_created)\n",
        "    time_stamp_updated_list.append(timestamp_updated)\n",
        "    recommendation_id_list.append(recommendation_id)\n",
        "    scores.append(score)\n",
        "    votes_up_total.append(votes_up)\n",
        "    steam_purchase_list.append(steam_purchase)\n",
        "    #free_list.append(free)\n",
        "    written_during_early_access_list.append(written_during_early_access)\n",
        "    playtime_at_review.append(play_time_at_review)\n",
        "    # num_of_reviews_list.append(num_of_reviews)\n",
        "import pandas as pd\n",
        "df = pd.DataFrame(list(zip(recommendation_id_list,game_id, scores,steam_id_list,player_review_list,time_stamp_created_list,time_stamp_updated_list,votes_up_total,steam_purchase_list,playtime_at_review,written_during_early_access_list)), columns =['recommendation_id','game_id','score', 'steam_id','review','timestamp_created','timestamp_updated','votes_up',\"steam_purchase\",\"playtime_at_review\",\"written_during_early_access\"])\n"
      ],
      "metadata": {
        "colab": {
          "base_uri": "https://localhost:8080/"
        },
        "id": "Pz4MehS0qfM5",
        "outputId": "17fea978-31e3-4354-fac2-70a5504bb0fb"
      },
      "execution_count": 2,
      "outputs": [
        {
          "output_type": "stream",
          "name": "stderr",
          "text": [
            "100%|██████████| 673/673 [00:08<00:00, 83.06it/s] \n"
          ]
        }
      ]
    },
    {
      "cell_type": "code",
      "source": [
        "count = df['game_id'].value_counts()"
      ],
      "metadata": {
        "id": "Fz2CWRvk3cBT"
      },
      "execution_count": 3,
      "outputs": []
    },
    {
      "cell_type": "code",
      "source": [
        "len(games_id_list)"
      ],
      "metadata": {
        "colab": {
          "base_uri": "https://localhost:8080/"
        },
        "id": "WuWO1xLA31Ii",
        "outputId": "4d738246-7cd2-46cb-b430-289ecb934b94"
      },
      "execution_count": 4,
      "outputs": [
        {
          "output_type": "execute_result",
          "data": {
            "text/plain": [
              "673"
            ]
          },
          "metadata": {},
          "execution_count": 4
        }
      ]
    },
    {
      "cell_type": "code",
      "source": [
        "df"
      ],
      "metadata": {
        "colab": {
          "base_uri": "https://localhost:8080/",
          "height": 805
        },
        "id": "ywV0FQF355H_",
        "outputId": "b47de246-02fb-4265-d115-5bce265e471e"
      },
      "execution_count": 5,
      "outputs": [
        {
          "output_type": "execute_result",
          "data": {
            "text/plain": [
              "        recommendation_id  game_id                 score           steam_id  \\\n",
              "0               117084240  1533420  0.934666335582733154  76561197990540569   \n",
              "1               117083497  1533420  0.897299528121948242  76561198043707357   \n",
              "2               117089901  1533420  0.867490172386169434  76561198203123848   \n",
              "3               117083452  1533420  0.812168419361114502  76561198097251074   \n",
              "4               117084445  1533420   0.75773167610168457  76561198157693142   \n",
              "...                   ...      ...                   ...                ...   \n",
              "1057146          43410185   831790  0.629594385623931885  76561197962452571   \n",
              "1057147          90220638   831790  0.528301894664764404  76561198353056552   \n",
              "1057148          78486750   831790  0.523809552192687988  76561198944893317   \n",
              "1057149          41646884   831790  0.470199733972549438  76561198084187460   \n",
              "1057150         113777063   831790                     0  76561198011554130   \n",
              "\n",
              "                                                    review  timestamp_created  \\\n",
              "0        if you like those crazy ass Japanese movies, M...         1655402060   \n",
              "1        Purchased a Machine Girl album. got a free gam...         1655401168   \n",
              "2        a gore-obsessed chick in a bunny mask called m...         1655409089   \n",
              "3        Stuck with a black screen after the intro. Int...         1655401101   \n",
              "4                                          machine girl <3         1655402308   \n",
              "...                                                    ...                ...   \n",
              "1057146  This is a Pac-Man clone.\\nYes, you've read tha...         1531085464   \n",
              "1057147  I love this game a lot more than I expected. I...         1618280336   \n",
              "1057148  Geeste (\"Ghosts\").\\n\\n-This is a very simple g...         1604179276   \n",
              "1057149  Fix the bug thats makes ghosts able to run awa...         1524503745   \n",
              "1057150  It's like Doom Guy and Ms.Pac-Man had a baby.....         1649832698   \n",
              "\n",
              "         timestamp_updated  votes_up  steam_purchase  playtime_at_review  \\\n",
              "0               1655402060       247            True                  90   \n",
              "1               1655401168       152            True                  77   \n",
              "2               1655409089        92            True                 132   \n",
              "3               1655401101        68            True                  12   \n",
              "4               1655402308        40            True                  59   \n",
              "...                    ...       ...             ...                 ...   \n",
              "1057146         1531085651        12            True                  14   \n",
              "1057147         1618349797         1            True                  94   \n",
              "1057148         1604179276         2            True                   8   \n",
              "1057149         1637042809        13            True                  82   \n",
              "1057150         1649832698         0            True                   8   \n",
              "\n",
              "         written_during_early_access  \n",
              "0                              False  \n",
              "1                              False  \n",
              "2                              False  \n",
              "3                              False  \n",
              "4                              False  \n",
              "...                              ...  \n",
              "1057146                        False  \n",
              "1057147                        False  \n",
              "1057148                        False  \n",
              "1057149                        False  \n",
              "1057150                        False  \n",
              "\n",
              "[1057151 rows x 11 columns]"
            ],
            "text/html": [
              "\n",
              "  <div id=\"df-8db7c45e-61e8-49b0-905a-9e6b2bbb507e\" class=\"colab-df-container\">\n",
              "    <div>\n",
              "<style scoped>\n",
              "    .dataframe tbody tr th:only-of-type {\n",
              "        vertical-align: middle;\n",
              "    }\n",
              "\n",
              "    .dataframe tbody tr th {\n",
              "        vertical-align: top;\n",
              "    }\n",
              "\n",
              "    .dataframe thead th {\n",
              "        text-align: right;\n",
              "    }\n",
              "</style>\n",
              "<table border=\"1\" class=\"dataframe\">\n",
              "  <thead>\n",
              "    <tr style=\"text-align: right;\">\n",
              "      <th></th>\n",
              "      <th>recommendation_id</th>\n",
              "      <th>game_id</th>\n",
              "      <th>score</th>\n",
              "      <th>steam_id</th>\n",
              "      <th>review</th>\n",
              "      <th>timestamp_created</th>\n",
              "      <th>timestamp_updated</th>\n",
              "      <th>votes_up</th>\n",
              "      <th>steam_purchase</th>\n",
              "      <th>playtime_at_review</th>\n",
              "      <th>written_during_early_access</th>\n",
              "    </tr>\n",
              "  </thead>\n",
              "  <tbody>\n",
              "    <tr>\n",
              "      <th>0</th>\n",
              "      <td>117084240</td>\n",
              "      <td>1533420</td>\n",
              "      <td>0.934666335582733154</td>\n",
              "      <td>76561197990540569</td>\n",
              "      <td>if you like those crazy ass Japanese movies, M...</td>\n",
              "      <td>1655402060</td>\n",
              "      <td>1655402060</td>\n",
              "      <td>247</td>\n",
              "      <td>True</td>\n",
              "      <td>90</td>\n",
              "      <td>False</td>\n",
              "    </tr>\n",
              "    <tr>\n",
              "      <th>1</th>\n",
              "      <td>117083497</td>\n",
              "      <td>1533420</td>\n",
              "      <td>0.897299528121948242</td>\n",
              "      <td>76561198043707357</td>\n",
              "      <td>Purchased a Machine Girl album. got a free gam...</td>\n",
              "      <td>1655401168</td>\n",
              "      <td>1655401168</td>\n",
              "      <td>152</td>\n",
              "      <td>True</td>\n",
              "      <td>77</td>\n",
              "      <td>False</td>\n",
              "    </tr>\n",
              "    <tr>\n",
              "      <th>2</th>\n",
              "      <td>117089901</td>\n",
              "      <td>1533420</td>\n",
              "      <td>0.867490172386169434</td>\n",
              "      <td>76561198203123848</td>\n",
              "      <td>a gore-obsessed chick in a bunny mask called m...</td>\n",
              "      <td>1655409089</td>\n",
              "      <td>1655409089</td>\n",
              "      <td>92</td>\n",
              "      <td>True</td>\n",
              "      <td>132</td>\n",
              "      <td>False</td>\n",
              "    </tr>\n",
              "    <tr>\n",
              "      <th>3</th>\n",
              "      <td>117083452</td>\n",
              "      <td>1533420</td>\n",
              "      <td>0.812168419361114502</td>\n",
              "      <td>76561198097251074</td>\n",
              "      <td>Stuck with a black screen after the intro. Int...</td>\n",
              "      <td>1655401101</td>\n",
              "      <td>1655401101</td>\n",
              "      <td>68</td>\n",
              "      <td>True</td>\n",
              "      <td>12</td>\n",
              "      <td>False</td>\n",
              "    </tr>\n",
              "    <tr>\n",
              "      <th>4</th>\n",
              "      <td>117084445</td>\n",
              "      <td>1533420</td>\n",
              "      <td>0.75773167610168457</td>\n",
              "      <td>76561198157693142</td>\n",
              "      <td>machine girl &lt;3</td>\n",
              "      <td>1655402308</td>\n",
              "      <td>1655402308</td>\n",
              "      <td>40</td>\n",
              "      <td>True</td>\n",
              "      <td>59</td>\n",
              "      <td>False</td>\n",
              "    </tr>\n",
              "    <tr>\n",
              "      <th>...</th>\n",
              "      <td>...</td>\n",
              "      <td>...</td>\n",
              "      <td>...</td>\n",
              "      <td>...</td>\n",
              "      <td>...</td>\n",
              "      <td>...</td>\n",
              "      <td>...</td>\n",
              "      <td>...</td>\n",
              "      <td>...</td>\n",
              "      <td>...</td>\n",
              "      <td>...</td>\n",
              "    </tr>\n",
              "    <tr>\n",
              "      <th>1057146</th>\n",
              "      <td>43410185</td>\n",
              "      <td>831790</td>\n",
              "      <td>0.629594385623931885</td>\n",
              "      <td>76561197962452571</td>\n",
              "      <td>This is a Pac-Man clone.\\nYes, you've read tha...</td>\n",
              "      <td>1531085464</td>\n",
              "      <td>1531085651</td>\n",
              "      <td>12</td>\n",
              "      <td>True</td>\n",
              "      <td>14</td>\n",
              "      <td>False</td>\n",
              "    </tr>\n",
              "    <tr>\n",
              "      <th>1057147</th>\n",
              "      <td>90220638</td>\n",
              "      <td>831790</td>\n",
              "      <td>0.528301894664764404</td>\n",
              "      <td>76561198353056552</td>\n",
              "      <td>I love this game a lot more than I expected. I...</td>\n",
              "      <td>1618280336</td>\n",
              "      <td>1618349797</td>\n",
              "      <td>1</td>\n",
              "      <td>True</td>\n",
              "      <td>94</td>\n",
              "      <td>False</td>\n",
              "    </tr>\n",
              "    <tr>\n",
              "      <th>1057148</th>\n",
              "      <td>78486750</td>\n",
              "      <td>831790</td>\n",
              "      <td>0.523809552192687988</td>\n",
              "      <td>76561198944893317</td>\n",
              "      <td>Geeste (\"Ghosts\").\\n\\n-This is a very simple g...</td>\n",
              "      <td>1604179276</td>\n",
              "      <td>1604179276</td>\n",
              "      <td>2</td>\n",
              "      <td>True</td>\n",
              "      <td>8</td>\n",
              "      <td>False</td>\n",
              "    </tr>\n",
              "    <tr>\n",
              "      <th>1057149</th>\n",
              "      <td>41646884</td>\n",
              "      <td>831790</td>\n",
              "      <td>0.470199733972549438</td>\n",
              "      <td>76561198084187460</td>\n",
              "      <td>Fix the bug thats makes ghosts able to run awa...</td>\n",
              "      <td>1524503745</td>\n",
              "      <td>1637042809</td>\n",
              "      <td>13</td>\n",
              "      <td>True</td>\n",
              "      <td>82</td>\n",
              "      <td>False</td>\n",
              "    </tr>\n",
              "    <tr>\n",
              "      <th>1057150</th>\n",
              "      <td>113777063</td>\n",
              "      <td>831790</td>\n",
              "      <td>0</td>\n",
              "      <td>76561198011554130</td>\n",
              "      <td>It's like Doom Guy and Ms.Pac-Man had a baby.....</td>\n",
              "      <td>1649832698</td>\n",
              "      <td>1649832698</td>\n",
              "      <td>0</td>\n",
              "      <td>True</td>\n",
              "      <td>8</td>\n",
              "      <td>False</td>\n",
              "    </tr>\n",
              "  </tbody>\n",
              "</table>\n",
              "<p>1057151 rows × 11 columns</p>\n",
              "</div>\n",
              "    <div class=\"colab-df-buttons\">\n",
              "\n",
              "  <div class=\"colab-df-container\">\n",
              "    <button class=\"colab-df-convert\" onclick=\"convertToInteractive('df-8db7c45e-61e8-49b0-905a-9e6b2bbb507e')\"\n",
              "            title=\"Convert this dataframe to an interactive table.\"\n",
              "            style=\"display:none;\">\n",
              "\n",
              "  <svg xmlns=\"http://www.w3.org/2000/svg\" height=\"24px\" viewBox=\"0 -960 960 960\">\n",
              "    <path d=\"M120-120v-720h720v720H120Zm60-500h600v-160H180v160Zm220 220h160v-160H400v160Zm0 220h160v-160H400v160ZM180-400h160v-160H180v160Zm440 0h160v-160H620v160ZM180-180h160v-160H180v160Zm440 0h160v-160H620v160Z\"/>\n",
              "  </svg>\n",
              "    </button>\n",
              "\n",
              "  <style>\n",
              "    .colab-df-container {\n",
              "      display:flex;\n",
              "      gap: 12px;\n",
              "    }\n",
              "\n",
              "    .colab-df-convert {\n",
              "      background-color: #E8F0FE;\n",
              "      border: none;\n",
              "      border-radius: 50%;\n",
              "      cursor: pointer;\n",
              "      display: none;\n",
              "      fill: #1967D2;\n",
              "      height: 32px;\n",
              "      padding: 0 0 0 0;\n",
              "      width: 32px;\n",
              "    }\n",
              "\n",
              "    .colab-df-convert:hover {\n",
              "      background-color: #E2EBFA;\n",
              "      box-shadow: 0px 1px 2px rgba(60, 64, 67, 0.3), 0px 1px 3px 1px rgba(60, 64, 67, 0.15);\n",
              "      fill: #174EA6;\n",
              "    }\n",
              "\n",
              "    .colab-df-buttons div {\n",
              "      margin-bottom: 4px;\n",
              "    }\n",
              "\n",
              "    [theme=dark] .colab-df-convert {\n",
              "      background-color: #3B4455;\n",
              "      fill: #D2E3FC;\n",
              "    }\n",
              "\n",
              "    [theme=dark] .colab-df-convert:hover {\n",
              "      background-color: #434B5C;\n",
              "      box-shadow: 0px 1px 3px 1px rgba(0, 0, 0, 0.15);\n",
              "      filter: drop-shadow(0px 1px 2px rgba(0, 0, 0, 0.3));\n",
              "      fill: #FFFFFF;\n",
              "    }\n",
              "  </style>\n",
              "\n",
              "    <script>\n",
              "      const buttonEl =\n",
              "        document.querySelector('#df-8db7c45e-61e8-49b0-905a-9e6b2bbb507e button.colab-df-convert');\n",
              "      buttonEl.style.display =\n",
              "        google.colab.kernel.accessAllowed ? 'block' : 'none';\n",
              "\n",
              "      async function convertToInteractive(key) {\n",
              "        const element = document.querySelector('#df-8db7c45e-61e8-49b0-905a-9e6b2bbb507e');\n",
              "        const dataTable =\n",
              "          await google.colab.kernel.invokeFunction('convertToInteractive',\n",
              "                                                    [key], {});\n",
              "        if (!dataTable) return;\n",
              "\n",
              "        const docLinkHtml = 'Like what you see? Visit the ' +\n",
              "          '<a target=\"_blank\" href=https://colab.research.google.com/notebooks/data_table.ipynb>data table notebook</a>'\n",
              "          + ' to learn more about interactive tables.';\n",
              "        element.innerHTML = '';\n",
              "        dataTable['output_type'] = 'display_data';\n",
              "        await google.colab.output.renderOutput(dataTable, element);\n",
              "        const docLink = document.createElement('div');\n",
              "        docLink.innerHTML = docLinkHtml;\n",
              "        element.appendChild(docLink);\n",
              "      }\n",
              "    </script>\n",
              "  </div>\n",
              "\n",
              "\n",
              "<div id=\"df-31d572cc-dc33-4d1d-808e-d0fda578ab23\">\n",
              "  <button class=\"colab-df-quickchart\" onclick=\"quickchart('df-31d572cc-dc33-4d1d-808e-d0fda578ab23')\"\n",
              "            title=\"Suggest charts.\"\n",
              "            style=\"display:none;\">\n",
              "\n",
              "<svg xmlns=\"http://www.w3.org/2000/svg\" height=\"24px\"viewBox=\"0 0 24 24\"\n",
              "     width=\"24px\">\n",
              "    <g>\n",
              "        <path d=\"M19 3H5c-1.1 0-2 .9-2 2v14c0 1.1.9 2 2 2h14c1.1 0 2-.9 2-2V5c0-1.1-.9-2-2-2zM9 17H7v-7h2v7zm4 0h-2V7h2v10zm4 0h-2v-4h2v4z\"/>\n",
              "    </g>\n",
              "</svg>\n",
              "  </button>\n",
              "\n",
              "<style>\n",
              "  .colab-df-quickchart {\n",
              "      --bg-color: #E8F0FE;\n",
              "      --fill-color: #1967D2;\n",
              "      --hover-bg-color: #E2EBFA;\n",
              "      --hover-fill-color: #174EA6;\n",
              "      --disabled-fill-color: #AAA;\n",
              "      --disabled-bg-color: #DDD;\n",
              "  }\n",
              "\n",
              "  [theme=dark] .colab-df-quickchart {\n",
              "      --bg-color: #3B4455;\n",
              "      --fill-color: #D2E3FC;\n",
              "      --hover-bg-color: #434B5C;\n",
              "      --hover-fill-color: #FFFFFF;\n",
              "      --disabled-bg-color: #3B4455;\n",
              "      --disabled-fill-color: #666;\n",
              "  }\n",
              "\n",
              "  .colab-df-quickchart {\n",
              "    background-color: var(--bg-color);\n",
              "    border: none;\n",
              "    border-radius: 50%;\n",
              "    cursor: pointer;\n",
              "    display: none;\n",
              "    fill: var(--fill-color);\n",
              "    height: 32px;\n",
              "    padding: 0;\n",
              "    width: 32px;\n",
              "  }\n",
              "\n",
              "  .colab-df-quickchart:hover {\n",
              "    background-color: var(--hover-bg-color);\n",
              "    box-shadow: 0 1px 2px rgba(60, 64, 67, 0.3), 0 1px 3px 1px rgba(60, 64, 67, 0.15);\n",
              "    fill: var(--button-hover-fill-color);\n",
              "  }\n",
              "\n",
              "  .colab-df-quickchart-complete:disabled,\n",
              "  .colab-df-quickchart-complete:disabled:hover {\n",
              "    background-color: var(--disabled-bg-color);\n",
              "    fill: var(--disabled-fill-color);\n",
              "    box-shadow: none;\n",
              "  }\n",
              "\n",
              "  .colab-df-spinner {\n",
              "    border: 2px solid var(--fill-color);\n",
              "    border-color: transparent;\n",
              "    border-bottom-color: var(--fill-color);\n",
              "    animation:\n",
              "      spin 1s steps(1) infinite;\n",
              "  }\n",
              "\n",
              "  @keyframes spin {\n",
              "    0% {\n",
              "      border-color: transparent;\n",
              "      border-bottom-color: var(--fill-color);\n",
              "      border-left-color: var(--fill-color);\n",
              "    }\n",
              "    20% {\n",
              "      border-color: transparent;\n",
              "      border-left-color: var(--fill-color);\n",
              "      border-top-color: var(--fill-color);\n",
              "    }\n",
              "    30% {\n",
              "      border-color: transparent;\n",
              "      border-left-color: var(--fill-color);\n",
              "      border-top-color: var(--fill-color);\n",
              "      border-right-color: var(--fill-color);\n",
              "    }\n",
              "    40% {\n",
              "      border-color: transparent;\n",
              "      border-right-color: var(--fill-color);\n",
              "      border-top-color: var(--fill-color);\n",
              "    }\n",
              "    60% {\n",
              "      border-color: transparent;\n",
              "      border-right-color: var(--fill-color);\n",
              "    }\n",
              "    80% {\n",
              "      border-color: transparent;\n",
              "      border-right-color: var(--fill-color);\n",
              "      border-bottom-color: var(--fill-color);\n",
              "    }\n",
              "    90% {\n",
              "      border-color: transparent;\n",
              "      border-bottom-color: var(--fill-color);\n",
              "    }\n",
              "  }\n",
              "</style>\n",
              "\n",
              "  <script>\n",
              "    async function quickchart(key) {\n",
              "      const quickchartButtonEl =\n",
              "        document.querySelector('#' + key + ' button');\n",
              "      quickchartButtonEl.disabled = true;  // To prevent multiple clicks.\n",
              "      quickchartButtonEl.classList.add('colab-df-spinner');\n",
              "      try {\n",
              "        const charts = await google.colab.kernel.invokeFunction(\n",
              "            'suggestCharts', [key], {});\n",
              "      } catch (error) {\n",
              "        console.error('Error during call to suggestCharts:', error);\n",
              "      }\n",
              "      quickchartButtonEl.classList.remove('colab-df-spinner');\n",
              "      quickchartButtonEl.classList.add('colab-df-quickchart-complete');\n",
              "    }\n",
              "    (() => {\n",
              "      let quickchartButtonEl =\n",
              "        document.querySelector('#df-31d572cc-dc33-4d1d-808e-d0fda578ab23 button');\n",
              "      quickchartButtonEl.style.display =\n",
              "        google.colab.kernel.accessAllowed ? 'block' : 'none';\n",
              "    })();\n",
              "  </script>\n",
              "</div>\n",
              "\n",
              "  <div id=\"id_cd349bfc-706d-4169-80b4-f26b238c7268\">\n",
              "    <style>\n",
              "      .colab-df-generate {\n",
              "        background-color: #E8F0FE;\n",
              "        border: none;\n",
              "        border-radius: 50%;\n",
              "        cursor: pointer;\n",
              "        display: none;\n",
              "        fill: #1967D2;\n",
              "        height: 32px;\n",
              "        padding: 0 0 0 0;\n",
              "        width: 32px;\n",
              "      }\n",
              "\n",
              "      .colab-df-generate:hover {\n",
              "        background-color: #E2EBFA;\n",
              "        box-shadow: 0px 1px 2px rgba(60, 64, 67, 0.3), 0px 1px 3px 1px rgba(60, 64, 67, 0.15);\n",
              "        fill: #174EA6;\n",
              "      }\n",
              "\n",
              "      [theme=dark] .colab-df-generate {\n",
              "        background-color: #3B4455;\n",
              "        fill: #D2E3FC;\n",
              "      }\n",
              "\n",
              "      [theme=dark] .colab-df-generate:hover {\n",
              "        background-color: #434B5C;\n",
              "        box-shadow: 0px 1px 3px 1px rgba(0, 0, 0, 0.15);\n",
              "        filter: drop-shadow(0px 1px 2px rgba(0, 0, 0, 0.3));\n",
              "        fill: #FFFFFF;\n",
              "      }\n",
              "    </style>\n",
              "    <button class=\"colab-df-generate\" onclick=\"generateWithVariable('df')\"\n",
              "            title=\"Generate code using this dataframe.\"\n",
              "            style=\"display:none;\">\n",
              "\n",
              "  <svg xmlns=\"http://www.w3.org/2000/svg\" height=\"24px\"viewBox=\"0 0 24 24\"\n",
              "       width=\"24px\">\n",
              "    <path d=\"M7,19H8.4L18.45,9,17,7.55,7,17.6ZM5,21V16.75L18.45,3.32a2,2,0,0,1,2.83,0l1.4,1.43a1.91,1.91,0,0,1,.58,1.4,1.91,1.91,0,0,1-.58,1.4L9.25,21ZM18.45,9,17,7.55Zm-12,3A5.31,5.31,0,0,0,4.9,8.1,5.31,5.31,0,0,0,1,6.5,5.31,5.31,0,0,0,4.9,4.9,5.31,5.31,0,0,0,6.5,1,5.31,5.31,0,0,0,8.1,4.9,5.31,5.31,0,0,0,12,6.5,5.46,5.46,0,0,0,6.5,12Z\"/>\n",
              "  </svg>\n",
              "    </button>\n",
              "    <script>\n",
              "      (() => {\n",
              "      const buttonEl =\n",
              "        document.querySelector('#id_cd349bfc-706d-4169-80b4-f26b238c7268 button.colab-df-generate');\n",
              "      buttonEl.style.display =\n",
              "        google.colab.kernel.accessAllowed ? 'block' : 'none';\n",
              "\n",
              "      buttonEl.onclick = () => {\n",
              "        google.colab.notebook.generateWithVariable('df');\n",
              "      }\n",
              "      })();\n",
              "    </script>\n",
              "  </div>\n",
              "\n",
              "    </div>\n",
              "  </div>\n"
            ]
          },
          "metadata": {},
          "execution_count": 5
        }
      ]
    },
    {
      "cell_type": "code",
      "source": [
        "count=pd.DataFrame(count)\n",
        "count_0=pd.DataFrame({\"game_id\":[0 for i in range(len(games_id_list)-len(count))]})\n",
        "count=pd.concat([count,count_0])\n",
        "count.mean()"
      ],
      "metadata": {
        "colab": {
          "base_uri": "https://localhost:8080/"
        },
        "id": "4H_ZKG_43f8p",
        "outputId": "2b08d0e9-ed00-4548-fdb4-93747fc3ee26"
      },
      "execution_count": 6,
      "outputs": [
        {
          "output_type": "execute_result",
          "data": {
            "text/plain": [
              "game_id    1570.803863\n",
              "dtype: float64"
            ]
          },
          "metadata": {},
          "execution_count": 6
        }
      ]
    },
    {
      "cell_type": "code",
      "source": [
        "count.std()"
      ],
      "metadata": {
        "colab": {
          "base_uri": "https://localhost:8080/"
        },
        "id": "pDFl-5EL5BMt",
        "outputId": "19c5fb17-3fb7-4cc4-e0f5-f09ff5535890"
      },
      "execution_count": 7,
      "outputs": [
        {
          "output_type": "execute_result",
          "data": {
            "text/plain": [
              "game_id    6339.796778\n",
              "dtype: float64"
            ]
          },
          "metadata": {},
          "execution_count": 7
        }
      ]
    },
    {
      "cell_type": "code",
      "source": [
        "count.median()"
      ],
      "metadata": {
        "colab": {
          "base_uri": "https://localhost:8080/"
        },
        "id": "z8bfXT2F6jdi",
        "outputId": "3ceffc09-7b01-4379-958e-c741c1df1278"
      },
      "execution_count": 8,
      "outputs": [
        {
          "output_type": "execute_result",
          "data": {
            "text/plain": [
              "game_id    198.0\n",
              "dtype: float64"
            ]
          },
          "metadata": {},
          "execution_count": 8
        }
      ]
    },
    {
      "cell_type": "markdown",
      "source": [
        "# Calculate statistics"
      ],
      "metadata": {
        "id": "xwK6degrSKJ_"
      }
    },
    {
      "cell_type": "markdown",
      "source": [
        "## Words per review"
      ],
      "metadata": {
        "id": "NtsKTm2cSOnL"
      }
    },
    {
      "cell_type": "code",
      "source": [
        "import pandas as pd\n",
        "\n",
        "# Assuming you have already loaded the DataFrame df\n",
        "\n",
        "df['review_tokens'] = df['review'].str.split()  # Splitting the text into words\n",
        "df['vocab_size'] = df['review_tokens'].apply(lambda x: len(set(x)))\n",
        "df['num_words'] = df['review_tokens'].apply(len)\n",
        "\n",
        "mean_vocab_size = df['vocab_size'].mean()\n",
        "median_vocab_size = df['vocab_size'].median()\n",
        "\n",
        "mean_num_words = df['num_words'].mean()\n",
        "median_num_words = df['num_words'].median()\n"
      ],
      "metadata": {
        "id": "qzkDfDvlCjws"
      },
      "execution_count": 9,
      "outputs": []
    },
    {
      "cell_type": "code",
      "source": [
        "mean_vocab_size, df['vocab_size'].std()"
      ],
      "metadata": {
        "colab": {
          "base_uri": "https://localhost:8080/"
        },
        "id": "A5wSGQ6aDtjv",
        "outputId": "4863ee5d-5200-4f34-fc20-71f68a0246b0"
      },
      "execution_count": 10,
      "outputs": [
        {
          "output_type": "execute_result",
          "data": {
            "text/plain": [
              "(41.519833968846456, 73.53779290069392)"
            ]
          },
          "metadata": {},
          "execution_count": 10
        }
      ]
    },
    {
      "cell_type": "code",
      "source": [
        "median_vocab_size"
      ],
      "metadata": {
        "colab": {
          "base_uri": "https://localhost:8080/"
        },
        "id": "5WK3Yp9FGDQL",
        "outputId": "5adf4aca-ba2c-451e-8352-0319b78095ac"
      },
      "execution_count": 11,
      "outputs": [
        {
          "output_type": "execute_result",
          "data": {
            "text/plain": [
              "15.0"
            ]
          },
          "metadata": {},
          "execution_count": 11
        }
      ]
    },
    {
      "cell_type": "code",
      "source": [
        "mean_num_words, df['num_words'].std()"
      ],
      "metadata": {
        "colab": {
          "base_uri": "https://localhost:8080/"
        },
        "id": "SnutJy8ZC3Od",
        "outputId": "0189453e-2d81-4f23-f582-33df85d577e4"
      },
      "execution_count": 12,
      "outputs": [
        {
          "output_type": "execute_result",
          "data": {
            "text/plain": [
              "(60.46793220646814, 134.86601528140685)"
            ]
          },
          "metadata": {},
          "execution_count": 12
        }
      ]
    },
    {
      "cell_type": "code",
      "source": [
        "median_num_words"
      ],
      "metadata": {
        "colab": {
          "base_uri": "https://localhost:8080/"
        },
        "id": "wpXUlEWEC4wh",
        "outputId": "3674ac7b-da52-4cb2-bc6f-dcc0e8d664d5"
      },
      "execution_count": 13,
      "outputs": [
        {
          "output_type": "execute_result",
          "data": {
            "text/plain": [
              "15.0"
            ]
          },
          "metadata": {},
          "execution_count": 13
        }
      ]
    },
    {
      "cell_type": "markdown",
      "source": [
        "## % Written during early access, % STEAM purchase"
      ],
      "metadata": {
        "id": "l2A5aFCISUaH"
      }
    },
    {
      "cell_type": "code",
      "source": [
        "df[\"written_during_early_access\"].value_counts()/len(df)"
      ],
      "metadata": {
        "colab": {
          "base_uri": "https://localhost:8080/"
        },
        "id": "uF3HYUaoDyMW",
        "outputId": "22ff88d1-174e-4d49-be8c-3e1beeaf1503"
      },
      "execution_count": 14,
      "outputs": [
        {
          "output_type": "execute_result",
          "data": {
            "text/plain": [
              "False    0.895772\n",
              "True     0.104228\n",
              "Name: written_during_early_access, dtype: float64"
            ]
          },
          "metadata": {},
          "execution_count": 14
        }
      ]
    },
    {
      "cell_type": "code",
      "source": [
        "df[\"steam_purchase\"].value_counts()/len(df)"
      ],
      "metadata": {
        "colab": {
          "base_uri": "https://localhost:8080/"
        },
        "id": "BZOsKfUHD8Gi",
        "outputId": "406f8739-1ad6-488c-d73a-a8c9dc701f18"
      },
      "execution_count": 15,
      "outputs": [
        {
          "output_type": "execute_result",
          "data": {
            "text/plain": [
              "True     0.756809\n",
              "False    0.243191\n",
              "Name: steam_purchase, dtype: float64"
            ]
          },
          "metadata": {},
          "execution_count": 15
        }
      ]
    },
    {
      "cell_type": "markdown",
      "source": [
        "## mean reviews per game"
      ],
      "metadata": {
        "id": "Xx7R5p4xSju3"
      }
    },
    {
      "cell_type": "code",
      "source": [
        "review_counts = df.groupby('game_id')['review'].count()\n",
        "average_reviews_per_game = review_counts.mean()\n"
      ],
      "metadata": {
        "id": "oseg0lTFEVtI"
      },
      "execution_count": 16,
      "outputs": []
    },
    {
      "cell_type": "code",
      "source": [
        "average_reviews_per_game"
      ],
      "metadata": {
        "colab": {
          "base_uri": "https://localhost:8080/"
        },
        "id": "KL3eH2dqFM8T",
        "outputId": "afc0de48-d03a-4708-88a2-2bd775ca659b"
      },
      "execution_count": 17,
      "outputs": [
        {
          "output_type": "execute_result",
          "data": {
            "text/plain": [
              "1733.0344262295082"
            ]
          },
          "metadata": {},
          "execution_count": 17
        }
      ]
    },
    {
      "cell_type": "code",
      "source": [
        "review_counts.std()"
      ],
      "metadata": {
        "colab": {
          "base_uri": "https://localhost:8080/"
        },
        "id": "nCnUwi4kF2Ij",
        "outputId": "360352d3-4ecf-4295-d1fe-f8fada9c5a1d"
      },
      "execution_count": 18,
      "outputs": [
        {
          "output_type": "execute_result",
          "data": {
            "text/plain": [
              "6638.471911566092"
            ]
          },
          "metadata": {},
          "execution_count": 18
        }
      ]
    },
    {
      "cell_type": "code",
      "source": [
        "review_counts.median()"
      ],
      "metadata": {
        "colab": {
          "base_uri": "https://localhost:8080/"
        },
        "id": "BnLCe4q8F5Ni",
        "outputId": "62f9c4c4-88ae-46d2-d352-b50073e76847"
      },
      "execution_count": 19,
      "outputs": [
        {
          "output_type": "execute_result",
          "data": {
            "text/plain": [
              "216.0"
            ]
          },
          "metadata": {},
          "execution_count": 19
        }
      ]
    },
    {
      "cell_type": "markdown",
      "source": [
        "## Playtime at review"
      ],
      "metadata": {
        "id": "Y3JsT0ppSn69"
      }
    },
    {
      "cell_type": "code",
      "source": [
        "(df[\"playtime_at_review\"].mean())/60"
      ],
      "metadata": {
        "colab": {
          "base_uri": "https://localhost:8080/"
        },
        "id": "FPxFz8CEJ0bL",
        "outputId": "4914df1c-6ba9-4109-dca7-b343b15ced99"
      },
      "execution_count": 20,
      "outputs": [
        {
          "output_type": "execute_result",
          "data": {
            "text/plain": [
              "80.14883745715292"
            ]
          },
          "metadata": {},
          "execution_count": 20
        }
      ]
    },
    {
      "cell_type": "code",
      "source": [
        "(df[\"playtime_at_review\"].median())/60"
      ],
      "metadata": {
        "colab": {
          "base_uri": "https://localhost:8080/"
        },
        "id": "ZFiXwpgjJ5DI",
        "outputId": "957d7813-3420-4889-e719-29ac7159d26b"
      },
      "execution_count": 21,
      "outputs": [
        {
          "output_type": "execute_result",
          "data": {
            "text/plain": [
              "14.2"
            ]
          },
          "metadata": {},
          "execution_count": 21
        }
      ]
    },
    {
      "cell_type": "code",
      "source": [
        "(df[\"playtime_at_review\"].std())/60"
      ],
      "metadata": {
        "colab": {
          "base_uri": "https://localhost:8080/"
        },
        "id": "VwEzpDsJJ6ct",
        "outputId": "3e907af5-24dd-4fd5-9741-5981d12ee799"
      },
      "execution_count": 22,
      "outputs": [
        {
          "output_type": "execute_result",
          "data": {
            "text/plain": [
              "297.71553961703654"
            ]
          },
          "metadata": {},
          "execution_count": 22
        }
      ]
    }
  ]
}