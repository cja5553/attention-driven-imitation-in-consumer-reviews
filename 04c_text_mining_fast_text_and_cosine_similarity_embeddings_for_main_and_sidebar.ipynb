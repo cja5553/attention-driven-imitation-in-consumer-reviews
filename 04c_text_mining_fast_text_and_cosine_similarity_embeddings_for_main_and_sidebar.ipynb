{
 "cells": [
  {
   "cell_type": "markdown",
   "metadata": {
    "id": "U3ERgZOrFxXF"
   },
   "source": [
    "## Preparing the files and data to implement the fast text embeddings"
   ]
  },
  {
   "cell_type": "code",
   "execution_count": 1,
   "metadata": {},
   "outputs": [
    {
     "data": {
      "text/plain": [
       "['builtins',\n",
       " 'builtins',\n",
       " ('pandas', '2.1.1'),\n",
       " ('numpy', '1.24.3'),\n",
       " 'fasttext',\n",
       " 'ast',\n",
       " 'types',\n",
       " ('json', '2.0.9')]"
      ]
     },
     "execution_count": 1,
     "metadata": {},
     "output_type": "execute_result"
    }
   ],
   "source": [
    "# # Uncomment these lines if fastText needs to be installed or cloned\n",
    "# !pip install fasttext-wheel\n",
    "\n",
    "import pandas as pd\n",
    "import numpy as np\n",
    "import fasttext\n",
    "from scipy.spatial.distance import cosine\n",
    "from tqdm import tqdm\n",
    "import ast\n",
    "import types\n",
    "import json\n",
    "from concurrent.futures import ProcessPoolExecutor\n",
    "\n",
    "# Download an English model of fastText from https://fasttext.cc/docs/en/crawl-vectors.html\n",
    "model_path = '../data/supplemental_data/cc.en.300.bin'  \n",
    "model = fasttext.load_model(model_path)\n",
    "\n",
    "def imports():\n",
    "    for name, val in globals().items():\n",
    "        if isinstance(val, types.ModuleType):\n",
    "            try:\n",
    "                yield val.__name__, val.__version__\n",
    "                pass\n",
    "            except:\n",
    "                yield val.__name__\n",
    "                pass\n",
    "            pass\n",
    "        pass\n",
    "    pass\n",
    "\n",
    "list(imports())\n"
   ]
  },
  {
   "cell_type": "code",
   "execution_count": 2,
   "metadata": {},
   "outputs": [],
   "source": [
    "# loading files\n",
    "data_location_wrangling = '../data/interim_data/03_data_wrangling/'\n",
    "data_location_text_preprocessed = '../data/interim_data/04_text_mining/preprocessed/'\n",
    "\n",
    "reviews = pd.read_csv(f\"{data_location_text_preprocessed}reviews_lemmatized.csv.gz\", compression='gzip',low_memory=False)\n",
    "df=pd.read_csv(f'{data_location_wrangling}reviews_with_main_sidebar_and_control.csv.gz', compression='gzip',low_memory=False)"
   ]
  },
  {
   "cell_type": "code",
   "execution_count": 3,
   "metadata": {},
   "outputs": [
    {
     "name": "stderr",
     "output_type": "stream",
     "text": [
      "100%|█████████████████████████████████████████████████████████████████████| 3264943/3264943 [01:04<00:00, 50664.34it/s]\n",
      "100%|█████████████████████████████████████████████████████████████████████| 3264943/3264943 [01:06<00:00, 49095.57it/s]\n",
      "100%|█████████████████████████████████████████████████████████████████████| 3264943/3264943 [01:03<00:00, 51421.29it/s]\n"
     ]
    }
   ],
   "source": [
    "# Making sure the data is in its proper data type (for safe-measure)\n",
    "if type(df[\"order_of_main_bar_reviews\"][0]) != list:\n",
    "    df[\"order_of_main_bar_reviews\"] = [[str(item) for item in ast.literal_eval(lst)] for lst in tqdm(df[\"order_of_main_bar_reviews\"])]\n",
    "    df[\"sidebar_reviews_list\"] = [[str(item) for item in ast.literal_eval(lst)] for lst in tqdm(df[\"sidebar_order_reviews\"])]\n",
    "    df[\"control_ids_list\"] = [[str(item) for item in ast.literal_eval(lst)] for lst in tqdm(df[\"control_ids_list\"])]\n",
    "else:\n",
    "    # Ensure each element in each list is a string\n",
    "    df[\"order_of_main_bar_reviews\"] = [[str(item) for item in lst] for lst in tqdm(df[\"order_of_main_bar_reviews\"])]\n",
    "    df[\"sidebar_reviews_list\"] = [[str(item) for item in lst] for lst in tqdm(df[\"sidebar_order_reviews\"])]\n",
    "    df[\"control_ids_list\"] = [[str(item) for item in lst] for lst in tqdm(df[\"control_ids_list\"])]\n",
    "\n",
    "df['recommendation_id'] = df['recommendation_id'].astype(str)\n",
    "df['game_id'] = df['game_id'].astype(str)\n",
    "df['timestamp_created'] = df['timestamp_created'].astype(int)\n",
    "\n",
    "reviews['recommendation_id'] = reviews['recommendation_id'].astype(str)\n",
    "reviews['review'] = reviews['review'].fillna('')\n",
    "reviews['review'] = reviews['review'].astype(str)"
   ]
  },
  {
   "cell_type": "code",
   "execution_count": 4,
   "metadata": {
    "colab": {
     "base_uri": "https://localhost:8080/"
    },
    "id": "l-LuIqrJCjCT",
    "outputId": "3124f4e6-82e5-4e34-9754-687becbb4c41"
   },
   "outputs": [
    {
     "name": "stderr",
     "output_type": "stream",
     "text": [
      "100%|████████████████████████████████████████████████████████████████████| 3264943/3264943 [00:08<00:00, 382738.63it/s]\n",
      "100%|████████████████████████████████████████████████████████████████████| 3264943/3264943 [00:06<00:00, 508959.10it/s]\n"
     ]
    }
   ],
   "source": [
    "def convert_to_string(list_of_lists):\n",
    "    \"\"\"\n",
    "    Converts elements of each sublist in the given list of lists to strings.\n",
    "\n",
    "    Args:\n",
    "    list_of_lists: A list of lists to be converted.\n",
    "\n",
    "    Returns:\n",
    "    A new list of lists with all elements converted to strings.\n",
    "    \"\"\"\n",
    "    new_list = []\n",
    "    for sublist in tqdm(list_of_lists):\n",
    "        new_list.append([str(item) for item in sublist])\n",
    "    return new_list\n",
    "\n",
    "# Convert elements of 'main_bar_review_order_list' and 'sidebar_review_order_list' to strings\n",
    "main_bar_review_order_list = convert_to_string(list(df[\"order_of_main_bar_reviews\"]))\n",
    "sidebar_review_order_list = convert_to_string(list(df[\"sidebar_reviews_list\"]))\n"
   ]
  },
  {
   "cell_type": "markdown",
   "metadata": {
    "id": "xy8xNqh0Fs7X"
   },
   "source": [
    "## running the fast-text word embeddings and cosine-similarity matrix\n"
   ]
  },
  {
   "cell_type": "code",
   "execution_count": 10,
   "metadata": {
    "colab": {
     "base_uri": "https://localhost:8080/"
    },
    "id": "D5HU13f-MI_w",
    "outputId": "d8029fca-653a-44e8-d4dc-155ee15bd823"
   },
   "outputs": [],
   "source": [
    "def get_vector(sentence):\n",
    "    \"\"\"\n",
    "    Returns the fastText vector for a given sentence.\n",
    "\n",
    "    Args:\n",
    "    sentence: A string representing the sentence.\n",
    "\n",
    "    Returns:\n",
    "    A vector representing the sentence.\n",
    "    \"\"\"\n",
    "    return model.get_sentence_vector(str(sentence))\n",
    "\n",
    "\n",
    "\n",
    "def get_vector_dict(reviews):\n",
    "    vector = {}\n",
    "    for _, row in reviews.iterrows():\n",
    "        review_id = str(row[\"recommendation_id\"])\n",
    "        fasttext_vector = get_vector(row[\"review\"])\n",
    "        vector[review_id] = fasttext_vector\n",
    "    return vector\n",
    "\n",
    "\n",
    "def cosine_similarity(embedding_1, embedding_2):\n",
    "    \"\"\"\n",
    "    Calculates the cosine similarity between two embeddings.\n",
    "\n",
    "    Args:\n",
    "    embedding_1: The first embedding vector.\n",
    "    embedding_2: The second embedding vector.\n",
    "\n",
    "    Returns:\n",
    "    The cosine similarity score.\n",
    "    \"\"\"\n",
    "    return 1 - cosine(embedding_1, embedding_2)\n",
    "\n",
    "\n",
    "def similarity_matrix(review_id, list_of_compared_reviews, comments_vector):\n",
    "    review_vector = comments_vector[review_id]\n",
    "    return [cosine_similarity(review_vector, comments_vector[str(order_id)]) \n",
    "            for order_id in list_of_compared_reviews]\n",
    "\n",
    "\n",
    "\n",
    "def list_of_matrix(df, review_type, comments_vector):\n",
    "    matrix_list = []\n",
    "    for _, row in tqdm(df.iterrows()):\n",
    "        review_id = str(row[\"recommendation_id\"])\n",
    "        list_of_compared_reviews = row[review_type]\n",
    "        matrices = similarity_matrix(review_id, list_of_compared_reviews, comments_vector)\n",
    "        matrix_list.append(matrices)\n",
    "    return matrix_list\n",
    "\n",
    "\n",
    "\n",
    "vector_dict = get_vector_dict(reviews)"
   ]
  },
  {
   "cell_type": "code",
   "execution_count": null,
   "metadata": {},
   "outputs": [
    {
     "name": "stderr",
     "output_type": "stream",
     "text": [
      "3264943it [14:54, 3651.45it/s]\n",
      "1it [00:01,  1.06s/it]C:\\Users\\charl\\anaconda3\\Lib\\site-packages\\scipy\\spatial\\distance.py:636: RuntimeWarning: invalid value encountered in scalar divide\n",
      "  dist = 1.0 - uv / np.sqrt(uu * vv)\n",
      "3264943it [14:27, 3763.77it/s]\n",
      "1it [00:01,  1.15s/it]C:\\Users\\charl\\anaconda3\\Lib\\site-packages\\scipy\\spatial\\distance.py:636: RuntimeWarning: invalid value encountered in scalar divide\n",
      "  dist = 1.0 - uv / np.sqrt(uu * vv)\n",
      "3241733it [14:15, 3508.96it/s]"
     ]
    }
   ],
   "source": [
    "df[\"main_bar_list_of_similarities\"] = list_of_matrix(df,\"order_of_main_bar_reviews\", vector_dict)\n",
    "df[\"sidebar_list_of_similarities\"] = list_of_matrix(df,\"sidebar_reviews_list\", vector_dict)\n",
    "df[\"control_list_of_similarities\"] = list_of_matrix(df,\"control_ids_list\", vector_dict)"
   ]
  },
  {
   "cell_type": "code",
   "execution_count": null,
   "metadata": {},
   "outputs": [],
   "source": [
    "# def get_vector_dict(reviews):\n",
    "#     \"\"\"\n",
    "#     Creates a dictionary of fastText vectors for each review.\n",
    "\n",
    "#     Args:\n",
    "#     reviews: DataFrame containing 'recommendation_id' and 'review'.\n",
    "\n",
    "#     Returns:\n",
    "#     A dictionary with review IDs as keys and fastText vectors as values.\n",
    "#     \"\"\"\n",
    "#     vector = {}\n",
    "#     for i in tqdm(range(len(reviews))):\n",
    "#         review_id = str(reviews[\"recommendation_id\"][i])\n",
    "#         if review_id not in list(vector.keys()):\n",
    "#             fasttext_vector = get_vector(reviews[\"review\"][i])\n",
    "#             vector[review_id] = fasttext_vector\n",
    "#         else:\n",
    "#             continue\n",
    "#     return vector\n",
    "\n",
    "\n",
    "# def similarity_matrix(review_id,list_of_compared_reviews, comments_vector):\n",
    "#     \"\"\"\n",
    "#     Generates a similarity matrix for a list of reviews.\n",
    "\n",
    "#     Args:\n",
    "#     list_of_compared_reviews: A list of review IDs.\n",
    "#     comments_vector: A dictionary of review vectors.\n",
    "\n",
    "#     Returns:\n",
    "#     A list of similarity scores.\n",
    "#     \"\"\"\n",
    "#     review_vector = comments_vector[review_id]\n",
    "#     matrix = []\n",
    "#     for order_id in list_of_compared_reviews:\n",
    "#         order_vector = comments_vector[str(order_id)]\n",
    "#         similarity = cosine_similarity(review_vector, order_vector)\n",
    "#         matrix.append(similarity)\n",
    "#     return matrix\n",
    "\n",
    "\n",
    "# def list_of_matrix(df, review_type ,comments_vector):\n",
    "#     \"\"\"\n",
    "#     Compiles similarity matrices for all reviews in the list.\n",
    "\n",
    "#     Args:\n",
    "#     review_order_list: A list of review order lists.\n",
    "#     comments_vector: A dictionary of review vectors.\n",
    "\n",
    "#     Returns:\n",
    "#     A list of similarity matrices.\n",
    "#     \"\"\"\n",
    "#     matrix_list=[]\n",
    "#     list_of_review_ids=list(df[\"recommendation_id\"])\n",
    "#     for i in tqdm(range(len(list_of_review_ids))):\n",
    "#         review_id=str(list_of_review_ids[i])\n",
    "#         list_of_compared_reviews=list(list(df[review_type])[i])\n",
    "#         matrices = similarity_matrix(review_id,list_of_compared_reviews, comments_vector)\n",
    "#         matrix_list.append(matrices)\n",
    "#     return matrix_list"
   ]
  },
  {
   "cell_type": "markdown",
   "metadata": {},
   "source": [
    "## saving the data. "
   ]
  },
  {
   "cell_type": "code",
   "execution_count": null,
   "metadata": {},
   "outputs": [],
   "source": [
    "data_location=\"../data/interim_data/04_text_mining/postprocessed/\"\n",
    "vector_dict = {k: v.tolist() for k, v in vector_dict.items()}\n",
    "# saving the fastText embeddings for each review in case code needs to be re-analyzed. \n",
    "with open(data_location + 'review_embeddings.txt', 'w') as file:\n",
    "    json.dump(vector_dict, file)\n",
    "csv_file_path = f'{data_location}data_with_similarities.csv.gz'\n",
    "df.to_csv(csv_file_path, index=False, compression='gzip')"
   ]
  },
  {
   "cell_type": "code",
   "execution_count": null,
   "metadata": {},
   "outputs": [],
   "source": []
  }
 ],
 "metadata": {
  "colab": {
   "collapsed_sections": [],
   "machine_shape": "hm",
   "name": "fast_text_and_cosine_similarity.ipynb",
   "provenance": []
  },
  "gpuClass": "standard",
  "kernelspec": {
   "display_name": "Python 3 (ipykernel)",
   "language": "python",
   "name": "python3"
  },
  "language_info": {
   "codemirror_mode": {
    "name": "ipython",
    "version": 3
   },
   "file_extension": ".py",
   "mimetype": "text/x-python",
   "name": "python",
   "nbconvert_exporter": "python",
   "pygments_lexer": "ipython3",
   "version": "3.11.5"
  }
 },
 "nbformat": 4,
 "nbformat_minor": 1
}
