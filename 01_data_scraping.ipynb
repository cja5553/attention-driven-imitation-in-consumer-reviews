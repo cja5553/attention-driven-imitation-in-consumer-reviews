{
 "cells": [
  {
   "cell_type": "code",
   "execution_count": 1,
   "metadata": {
    "ExecuteTime": {
     "end_time": "2024-01-27T16:21:47.784299Z",
     "start_time": "2024-01-27T16:21:47.776489Z"
    },
    "execution": {
     "iopub.status.idle": "2024-02-02T17:07:44.700749Z",
     "shell.execute_reply": "2024-02-02T17:07:44.700542Z",
     "shell.execute_reply.started": "2024-02-02T17:07:44.298157Z"
    }
   },
   "outputs": [
    {
     "data": {
      "text/plain": [
       "['builtins',\n",
       " 'builtins',\n",
       " ('numpy', '1.26.3'),\n",
       " ('requests', '2.31.0'),\n",
       " ('tqdm', '4.66.1'),\n",
       " ('platform', '1.0.8'),\n",
       " 'types',\n",
       " ('bs4', '4.12.2'),\n",
       " 'os',\n",
       " ('json', '2.0.9'),\n",
       " 'time',\n",
       " ('pandas', '2.1.4'),\n",
       " 'zipfile',\n",
       " 'io']"
      ]
     },
     "execution_count": 1,
     "metadata": {},
     "output_type": "execute_result"
    }
   ],
   "source": [
    "from bs4 import BeautifulSoup\n",
    "import numpy as np\n",
    "import requests\n",
    "import tqdm\n",
    "import platform\n",
    "import types\n",
    "import bs4\n",
    "import os\n",
    "import json\n",
    "import time\n",
    "import pandas as pd\n",
    "import zipfile\n",
    "import io\n",
    "\n",
    "def imports():\n",
    "    for name, val in globals().items():\n",
    "        if isinstance(val, types.ModuleType):\n",
    "            try:\n",
    "                yield val.__name__, val.__version__\n",
    "                pass\n",
    "            except:\n",
    "                yield val.__name__\n",
    "                pass\n",
    "            pass\n",
    "        pass\n",
    "    pass\n",
    "\n",
    "list(imports())"
   ]
  },
  {
   "cell_type": "code",
   "execution_count": 2,
   "metadata": {
    "ExecuteTime": {
     "end_time": "2024-01-27T16:21:47.790883Z",
     "start_time": "2024-01-27T16:21:47.787438Z"
    },
    "execution": {
     "iopub.execute_input": "2024-02-02T17:07:44.701765Z",
     "iopub.status.busy": "2024-02-02T17:07:44.701654Z",
     "iopub.status.idle": "2024-02-02T17:07:44.703517Z",
     "shell.execute_reply": "2024-02-02T17:07:44.703305Z",
     "shell.execute_reply.started": "2024-02-02T17:07:44.701758Z"
    }
   },
   "outputs": [],
   "source": [
    "def append_text(file, content):\n",
    "    with open(file, 'a') as f: f.write(content); return\n",
    "def replace_text(file, content):\n",
    "    with open(file, 'w') as f: f.write(content); return"
   ]
  },
  {
   "cell_type": "code",
   "execution_count": 3,
   "metadata": {
    "ExecuteTime": {
     "end_time": "2024-01-27T16:21:47.795827Z",
     "start_time": "2024-01-27T16:21:47.793236Z"
    },
    "execution": {
     "iopub.execute_input": "2024-02-02T17:07:44.703825Z",
     "iopub.status.busy": "2024-02-02T17:07:44.703766Z",
     "iopub.status.idle": "2024-02-02T17:07:44.705225Z",
     "shell.execute_reply": "2024-02-02T17:07:44.705027Z",
     "shell.execute_reply.started": "2024-02-02T17:07:44.703819Z"
    }
   },
   "outputs": [],
   "source": [
    "data_location = '../data/raw_data/'"
   ]
  },
  {
   "cell_type": "code",
   "execution_count": 4,
   "metadata": {
    "ExecuteTime": {
     "end_time": "2024-01-27T16:21:47.803949Z",
     "start_time": "2024-01-27T16:21:47.798943Z"
    },
    "execution": {
     "iopub.execute_input": "2024-02-02T17:07:44.705631Z",
     "iopub.status.busy": "2024-02-02T17:07:44.705550Z",
     "iopub.status.idle": "2024-02-02T17:07:44.707864Z",
     "shell.execute_reply": "2024-02-02T17:07:44.707673Z",
     "shell.execute_reply.started": "2024-02-02T17:07:44.705625Z"
    }
   },
   "outputs": [],
   "source": [
    "# code based on https://andrew-muller.medium.com/scraping-steam-user-reviews-9a43f9e38c92\n",
    "def get_n_appids(tag_no, n=4000): # according to steam there are about ~3600 FPS games so we set n=4000 here \n",
    "    appids = []\n",
    "    url = f'https://store.steampowered.com/search/?category1=998&tags={tag_no}&page='\n",
    "    games_added_to_list=1\n",
    "    while games_added_to_list!=0:\n",
    "        page,games_added_to_list = 0,0\n",
    "        while page*25 < n:\n",
    "            page += 1\n",
    "            response = requests.get(url=url+str(page), headers={'User-Agent': 'Mozilla/5.0'})\n",
    "            soup = BeautifulSoup(response.text, 'html.parser')\n",
    "            for row in soup.find_all(class_='search_result_row'):\n",
    "                if row['data-ds-appid'] not in appids:\n",
    "                    appids.append(row['data-ds-appid'])\n",
    "                    games_added_to_list+=1\n",
    "                else:\n",
    "                    continue\n",
    "            time.sleep(np.random.uniform()/2)\n",
    "            pass\n",
    "    return appids[:n]"
   ]
  },
  {
   "cell_type": "code",
   "execution_count": 5,
   "metadata": {
    "ExecuteTime": {
     "end_time": "2024-01-27T16:21:47.811334Z",
     "start_time": "2024-01-27T16:21:47.806330Z"
    },
    "execution": {
     "iopub.execute_input": "2024-02-02T17:07:44.708244Z",
     "iopub.status.busy": "2024-02-02T17:07:44.708185Z",
     "iopub.status.idle": "2024-02-02T17:07:44.710724Z",
     "shell.execute_reply": "2024-02-02T17:07:44.710513Z",
     "shell.execute_reply.started": "2024-02-02T17:07:44.708238Z"
    }
   },
   "outputs": [
    {
     "name": "stdout",
     "output_type": "stream",
     "text": [
      "3676 unique game IDs have been extracted.\n"
     ]
    }
   ],
   "source": [
    "game_id_filepath = data_location + 'games_list.txt'\n",
    "if not os.path.isfile(game_id_filepath):\n",
    "    single_FPS_appids = np.unique(get_n_appids(tag_no=\"1663%2C4182\"))\n",
    "    append_text(file=game_id_filepath, content='\\n'.join(single_FPS_appids))\n",
    "    single_FPS_appids = np.array(single_FPS_appids)\n",
    "    pass\n",
    "else:\n",
    "    with open(game_id_filepath, 'r') as f:\n",
    "        single_FPS_appids = f.read().splitlines()\n",
    "        pass\n",
    "    pass\n",
    "print(len(single_FPS_appids), \"unique game IDs have been extracted.\")"
   ]
  },
  {
   "cell_type": "code",
   "execution_count": 6,
   "metadata": {
    "ExecuteTime": {
     "end_time": "2024-01-27T16:21:47.822469Z",
     "start_time": "2024-01-27T16:21:47.813401Z"
    },
    "colab": {
     "base_uri": "https://localhost:8080/"
    },
    "execution": {
     "iopub.execute_input": "2024-02-02T17:07:44.711087Z",
     "iopub.status.busy": "2024-02-02T17:07:44.711027Z",
     "iopub.status.idle": "2024-02-02T17:07:44.714406Z",
     "shell.execute_reply": "2024-02-02T17:07:44.714229Z",
     "shell.execute_reply.started": "2024-02-02T17:07:44.711081Z"
    },
    "id": "pvIXyHqBsIc9",
    "outputId": "11cbc2a9-6155-424e-d69b-4d1ae80c01ea"
   },
   "outputs": [],
   "source": [
    "def get_one_review(appid, params={'json':1}):\n",
    "    url = 'https://store.steampowered.com/appreviews/'\n",
    "    response = requests.get(url=url+appid, params=params, headers={'User-Agent': 'Mozilla/5.0'})\n",
    "    return response.json()\n",
    "\n",
    "def get_all_reviews(appid, failed_file_location):\n",
    "    review_count=int(((get_one_review(str(appid)))['query_summary'])['total_reviews'])\n",
    "    reviews = []\n",
    "    cursor = '*'\n",
    "    params = {\n",
    "            'json' : 1,\n",
    "            'filter' : 'all',\n",
    "            'language' : 'english',\n",
    "            'day_range' : 9223372036854775807,\n",
    "            'review_type' : 'all',\n",
    "            'purchase_type' : 'all'\n",
    "            }\n",
    "    while review_count > 0:\n",
    "        params['cursor'] = cursor.encode()\n",
    "        params['num_per_page'] = min(100, review_count)\n",
    "        review_count -= 100\n",
    "        response = get_one_review(appid, params)\n",
    "        cursor = response['cursor']\n",
    "        reviews += response['reviews']\n",
    "        if len(response['reviews']) < 100:\n",
    "            break\n",
    "            pass\n",
    "        time.sleep(np.random.uniform()/2)\n",
    "        pass\n",
    "    if len(reviews)==0:\n",
    "        append_text(file=failed_file_location, content=appid + '\\n')\n",
    "        pass\n",
    "    return reviews\n",
    "\n",
    "def scrape_reviews(game_IDs_to_scrape, failed_file_location):\n",
    "    for i in tqdm.tqdm(game_IDs_to_scrape, ncols=80):\n",
    "        appid=str(i)\n",
    "        reviews=get_all_reviews(appid, failed_file_location)\n",
    "        reviews_flattened = [reviews[iii]|reviews[iii].pop('author', None)|{'game_id' : appid} for iii in range(len(reviews))]\n",
    "        append_text(file=raw_review_location, content=json.dumps(reviews_flattened) + '\\n')\n",
    "        append_text(file=scraped_games_location, content=appid + '\\n')\n",
    "        pass\n",
    "    pass"
   ]
  },
  {
   "cell_type": "code",
   "execution_count": 7,
   "metadata": {
    "ExecuteTime": {
     "end_time": "2024-01-27T16:21:47.827849Z",
     "start_time": "2024-01-27T16:21:47.824389Z"
    },
    "colab": {
     "base_uri": "https://localhost:8080/"
    },
    "execution": {
     "iopub.execute_input": "2024-02-02T17:07:44.715393Z",
     "iopub.status.busy": "2024-02-02T17:07:44.715326Z",
     "iopub.status.idle": "2024-02-02T17:07:44.716766Z",
     "shell.execute_reply": "2024-02-02T17:07:44.716567Z",
     "shell.execute_reply.started": "2024-02-02T17:07:44.715387Z"
    },
    "id": "cHlZDpKNzPwx",
    "outputId": "b3283978-871f-4999-a649-9088eb832bb8"
   },
   "outputs": [],
   "source": [
    "scraped_games_location = data_location + 'games_list_scraped.txt'\n",
    "location_games_to_rescrape = data_location + 'games_list_to_rescrape.txt'\n",
    "raw_review_location = data_location + 'reviews.txt'"
   ]
  },
  {
   "cell_type": "code",
   "execution_count": 8,
   "metadata": {
    "ExecuteTime": {
     "end_time": "2024-01-27T18:15:40.786032Z",
     "start_time": "2024-01-27T18:15:40.772145Z"
    },
    "colab": {
     "base_uri": "https://localhost:8080/"
    },
    "execution": {
     "iopub.execute_input": "2024-02-02T17:07:44.717237Z",
     "iopub.status.busy": "2024-02-02T17:07:44.717176Z",
     "iopub.status.idle": "2024-02-02T17:07:44.723480Z",
     "shell.execute_reply": "2024-02-02T17:07:44.723215Z",
     "shell.execute_reply.started": "2024-02-02T17:07:44.717230Z"
    },
    "id": "cHlZDpKNzPwx",
    "outputId": "b3283978-871f-4999-a649-9088eb832bb8"
   },
   "outputs": [],
   "source": [
    "try:\n",
    "    scraped_games = np.loadtxt(scraped_games_location, dtype=str)\n",
    "    pass\n",
    "except:\n",
    "    scraped_games = []\n",
    "    pass\n",
    "game_IDs_to_scrape = np.setdiff1d(single_FPS_appids, scraped_games)"
   ]
  },
  {
   "cell_type": "code",
   "execution_count": 9,
   "metadata": {
    "ExecuteTime": {
     "end_time": "2024-01-27T16:27:12.953281Z",
     "start_time": "2024-01-27T16:21:47.830040Z"
    },
    "colab": {
     "base_uri": "https://localhost:8080/"
    },
    "execution": {
     "iopub.execute_input": "2024-02-02T17:07:44.723926Z",
     "iopub.status.busy": "2024-02-02T17:07:44.723859Z",
     "iopub.status.idle": "2024-02-02T17:07:44.740446Z",
     "shell.execute_reply": "2024-02-02T17:07:44.740092Z",
     "shell.execute_reply.started": "2024-02-02T17:07:44.723919Z"
    },
    "id": "cHlZDpKNzPwx",
    "outputId": "b3283978-871f-4999-a649-9088eb832bb8"
   },
   "outputs": [
    {
     "name": "stderr",
     "output_type": "stream",
     "text": [
      "0it [00:00, ?it/s]\n"
     ]
    }
   ],
   "source": [
    "scrape_reviews(game_IDs_to_scrape, failed_file_location=location_games_to_rescrape)"
   ]
  },
  {
   "cell_type": "raw",
   "metadata": {
    "ExecuteTime": {
     "end_time": "2024-01-27T18:14:31.018314Z",
     "start_time": "2024-01-27T18:14:30.989835Z"
    }
   },
   "source": [
    "# Rescrape games that yielded 0 reviews\n",
    "# Cell above needs to be run afterward\n",
    "try:\n",
    "    scraped_games = np.loadtxt(scraped_games_location, dtype=str)\n",
    "    scraped_games = np.unique(scraped_games)\n",
    "    pass\n",
    "except:\n",
    "    scraped_games = []\n",
    "    pass\n",
    "try:\n",
    "    games_to_rescrape = np.loadtxt(location_games_to_rescrape, dtype=str)\n",
    "    pass\n",
    "except:\n",
    "    games_to_rescrape = []\n",
    "    pass\n",
    "scraped_games = [i for i in scraped_games if i not in games_to_rescrape]\n",
    "replace_text(scraped_games_location, '\\n'.join(scraped_games))\n",
    "len(scraped_games)"
   ]
  },
  {
   "cell_type": "code",
   "execution_count": 10,
   "metadata": {
    "execution": {
     "iopub.execute_input": "2024-02-02T17:07:44.741109Z",
     "iopub.status.busy": "2024-02-02T17:07:44.741006Z",
     "iopub.status.idle": "2024-02-02T17:08:05.672621Z",
     "shell.execute_reply": "2024-02-02T17:08:05.671970Z",
     "shell.execute_reply.started": "2024-02-02T17:07:44.741099Z"
    }
   },
   "outputs": [],
   "source": [
    "raw_review_location = data_location + 'reviews.txt.zip'\n",
    "with zipfile.ZipFile(raw_review_location) as zf:\n",
    "    with io.TextIOWrapper(zf.open('reviews.txt'), encoding='utf-8') as f:\n",
    "        all_reviews_raw = f.readlines()\n",
    "        pass\n",
    "    pass\n",
    "all_reviews = [json.loads(all_reviews_raw[xxx]) for xxx in range(len(all_reviews_raw))]"
   ]
  },
  {
   "cell_type": "code",
   "execution_count": 11,
   "metadata": {
    "execution": {
     "iopub.execute_input": "2024-02-02T17:08:05.673493Z",
     "iopub.status.busy": "2024-02-02T17:08:05.673375Z",
     "iopub.status.idle": "2024-02-02T17:09:20.741554Z",
     "shell.execute_reply": "2024-02-02T17:09:20.740911Z",
     "shell.execute_reply.started": "2024-02-02T17:08:05.673479Z"
    }
   },
   "outputs": [
    {
     "name": "stderr",
     "output_type": "stream",
     "text": [
      "100%|█████████████████████████████████████████████████████████| 6498/6498 [00:03<00:00, 1770.98it/s]\n"
     ]
    }
   ],
   "source": [
    "# saving the game in CSV\n",
    "game_id,game_reviews, player_review_list = [], [], []\n",
    "time_stamp_created_list, time_stamp_updated_list = [], []\n",
    "recommendation_id_list, scores, votes_up_total = [], [], []\n",
    "voted_up_all=[]\n",
    "for i in tqdm.tqdm(range(len(all_reviews)), ncols=100):\n",
    "    game_reviews = all_reviews[i]\n",
    "    if len(game_reviews) > 0:\n",
    "        for j in range(len(game_reviews)):\n",
    "            review = game_reviews[j]\n",
    "            player_review = review[\"review\"]\n",
    "            timestamp_created = review[\"timestamp_created\"]\n",
    "            timestamp_updated = review[\"timestamp_updated\"]\n",
    "            recommendation_id = review[\"recommendationid\"]\n",
    "            score = review[\"weighted_vote_score\"]\n",
    "            votes_up = review[\"votes_up\"]\n",
    "            voted_up=review[\"voted_up\"]\n",
    "            game = review['game_id']\n",
    "            game_id.append(game)\n",
    "            player_review_list.append(player_review)\n",
    "            time_stamp_created_list.append(timestamp_created)\n",
    "            time_stamp_updated_list.append(timestamp_updated)\n",
    "            recommendation_id_list.append(recommendation_id)\n",
    "            scores.append(score)\n",
    "            votes_up_total.append(votes_up)\n",
    "            voted_up_all.append(voted_up)\n",
    "            pass\n",
    "        pass\n",
    "    pass\n",
    "\n",
    "df = pd.DataFrame(\n",
    "    list(zip(recommendation_id_list, game_id, scores,\n",
    "             player_review_list, time_stamp_created_list,\n",
    "             time_stamp_updated_list, votes_up_total,voted_up_all)),\n",
    "    columns=['recommendation_id', 'game_id', 'score',\n",
    "             'review', 'timestamp_created', 'timestamp_updated', 'votes_up','voted_up']\n",
    ")\n",
    "df.to_csv(f\"{data_location}FPS_reviews.csv.zip\", index=False)"
   ]
  }
 ],
 "metadata": {
  "colab": {
   "collapsed_sections": [],
   "machine_shape": "hm",
   "name": "data_scrapping.ipynb",
   "provenance": []
  },
  "gpuClass": "standard",
  "kernelspec": {
   "display_name": "Python 3 (ipykernel)",
   "language": "python",
   "name": "python3"
  },
  "language_info": {
   "codemirror_mode": {
    "name": "ipython",
    "version": 3
   },
   "file_extension": ".py",
   "mimetype": "text/x-python",
   "name": "python",
   "nbconvert_exporter": "python",
   "pygments_lexer": "ipython3",
   "version": "3.11.7"
  }
 },
 "nbformat": 4,
 "nbformat_minor": 4
}
