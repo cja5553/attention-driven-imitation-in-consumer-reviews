{
 "cells": [
  {
   "cell_type": "markdown",
   "metadata": {
    "id": "PU1An0JMxVP7"
   },
   "source": [
    "These codes attempt to re-simulate the main-bar reviews that the reviewer would have seen whilst writing his/her own review. Please refer to the manuscript to understand how the hypothesized reversed-engineer algorithm works. "
   ]
  },
  {
   "cell_type": "markdown",
   "metadata": {},
   "source": [
    "## Importing packages and reading data"
   ]
  },
  {
   "cell_type": "code",
   "execution_count": 1,
   "metadata": {
    "execution": {
     "iopub.execute_input": "2024-02-05T13:15:21.043833Z",
     "iopub.status.busy": "2024-02-05T13:15:21.043519Z",
     "iopub.status.idle": "2024-02-05T13:15:21.059276Z",
     "shell.execute_reply": "2024-02-05T13:15:21.058291Z",
     "shell.execute_reply.started": "2024-02-05T13:15:21.043814Z"
    }
   },
   "outputs": [
    {
     "data": {
      "text/plain": [
       "['builtins',\n",
       " 'builtins',\n",
       " 'pickle',\n",
       " 'time',\n",
       " 'math',\n",
       " 'ast',\n",
       " ('numpy', '1.24.3'),\n",
       " ('pandas', '2.1.1'),\n",
       " 'types']"
      ]
     },
     "execution_count": 1,
     "metadata": {},
     "output_type": "execute_result"
    }
   ],
   "source": [
    "from tqdm import tqdm\n",
    "import pickle\n",
    "from datetime import datetime, timedelta\n",
    "import time\n",
    "import math\n",
    "import ast\n",
    "import numpy as np\n",
    "import pandas as pd\n",
    "import types\n",
    "from joblib import Parallel, delayed\n",
    "\n",
    "def imports():\n",
    "    for name, val in globals().items():\n",
    "        if isinstance(val, types.ModuleType):\n",
    "            try:\n",
    "                yield val.__name__, val.__version__\n",
    "                pass\n",
    "            except:\n",
    "                yield val.__name__\n",
    "                pass\n",
    "            pass\n",
    "        pass\n",
    "    pass\n",
    "\n",
    "list(imports())"
   ]
  },
  {
   "cell_type": "code",
   "execution_count": 2,
   "metadata": {
    "execution": {
     "iopub.execute_input": "2024-02-05T13:15:21.061589Z",
     "iopub.status.busy": "2024-02-05T13:15:21.061244Z",
     "iopub.status.idle": "2024-02-05T13:15:33.948407Z",
     "shell.execute_reply": "2024-02-05T13:15:33.947913Z",
     "shell.execute_reply.started": "2024-02-05T13:15:21.061566Z"
    }
   },
   "outputs": [],
   "source": [
    "df=pd.read_csv(\"../data/raw_data/FPS_reviews.csv.zip\", low_memory=False)\n",
    "\n",
    "# Convert columns to their supposed data types (for safe measure)\n",
    "df['recommendation_id'] = df['recommendation_id'].astype(str)\n",
    "df['game_id'] = df['game_id'].astype(str)\n",
    "df['review'] = df['review'].astype(str)\n",
    "df['score'] = df['score'].astype(float)\n",
    "df['timestamp_created'] = df['timestamp_created'].astype(int)\n",
    "df['timestamp_updated'] = df['timestamp_updated'].astype(int)\n",
    "df['votes_up'] = df['votes_up'].astype(int)\n",
    "df['voted_up'] = df['voted_up'].astype(int)"
   ]
  },
  {
   "cell_type": "markdown",
   "metadata": {
    "id": "KCB-Iqtp1146"
   },
   "source": [
    "# organizing data per game"
   ]
  },
  {
   "cell_type": "code",
   "execution_count": 3,
   "metadata": {
    "execution": {
     "iopub.execute_input": "2024-02-05T13:15:33.949137Z",
     "iopub.status.busy": "2024-02-05T13:15:33.949060Z",
     "iopub.status.idle": "2024-02-05T13:15:35.320465Z",
     "shell.execute_reply": "2024-02-05T13:15:35.320226Z",
     "shell.execute_reply.started": "2024-02-05T13:15:33.949128Z"
    }
   },
   "outputs": [
    {
     "name": "stdout",
     "output_type": "stream",
     "text": [
      "Removing games with <30 reviews (10 for mainbar, 10 for sidebar, 10 for control).\n",
      "Before removing games with fewer than 30 reviews, there were 3637833 reviews from 2304 games\n",
      "After  removing games with fewer than 30 reviews, there were 3629007 reviews from 1093 games\n"
     ]
    }
   ],
   "source": [
    "print(f\"Removing games with <30 reviews (10 for mainbar, 10 for sidebar, 10 for control).\")\n",
    "game_length=len(set(list(df[\"game_id\"])))\n",
    "print(f\"Before removing games with fewer than 30 reviews, there were {len(df)} reviews from {game_length} games\")\n",
    "df = df.groupby('game_id').filter(lambda x: len(x) >= 30)\n",
    "df['index'] = [i for i in range(len(df))]\n",
    "df = df.set_index('index')\n",
    "game_length=len(set(list(df[\"game_id\"])))\n",
    "print(f\"After  removing games with fewer than 30 reviews, there were {len(df)} reviews from {game_length} games\")"
   ]
  },
  {
   "cell_type": "code",
   "execution_count": 4,
   "metadata": {},
   "outputs": [
    {
     "name": "stdout",
     "output_type": "stream",
     "text": [
      "After removing duplicates, there were 3621927 reviews from 1093 games\n"
     ]
    }
   ],
   "source": [
    "df = (df.drop_duplicates(subset=['recommendation_id', 'game_id'], keep='first')).reset_index(drop=True)\n",
    "game_length=len(set(list(df[\"game_id\"])))\n",
    "print(f\"After removing duplicates, there were {len(df)} reviews from {game_length} games\")"
   ]
  },
  {
   "cell_type": "code",
   "execution_count": 5,
   "metadata": {},
   "outputs": [],
   "source": [
    "df.to_csv(\"../data/raw_data/data_filtered.csv.gz\",compression=\"gzip\",index=False)"
   ]
  },
  {
   "cell_type": "markdown",
   "metadata": {
    "id": "lW7nUGw-keVI"
   },
   "source": [
    "## Implementing our hypothesized main-bar algorithm and performing our re-simulation. \n",
    "\n"
   ]
  },
  {
   "cell_type": "code",
   "execution_count": 5,
   "metadata": {
    "execution": {
     "iopub.execute_input": "2024-02-05T13:15:35.321428Z",
     "iopub.status.busy": "2024-02-05T13:15:35.321357Z",
     "iopub.status.idle": "2024-02-05T13:15:35.327384Z",
     "shell.execute_reply": "2024-02-05T13:15:35.327162Z",
     "shell.execute_reply.started": "2024-02-05T13:15:35.321421Z"
    },
    "id": "u_IFm6c__s1D"
   },
   "outputs": [],
   "source": [
    "def sort_and_rearrange(temp_df):\n",
    "    temp_df = temp_df.copy()\n",
    "    temp_df[\"score\"] = (temp_df[\"score\"]).astype(float)\n",
    "    temp_df = (temp_df.sort_values(\"score\", ascending=False)).reset_index(drop=True)\n",
    "    return temp_df\n",
    "\n",
    "def get_x_days_ago(end_int, days):\n",
    "    end = datetime.fromtimestamp(end_int)\n",
    "    start = end - timedelta(days=days)\n",
    "    start_int = int(time.mktime(start.timetuple()))\n",
    "    return start_int\n",
    "\n",
    "def get_x_days_ago_reviews(days, df, end_int):\n",
    "    start = get_x_days_ago(int(end_int), days)\n",
    "    df=df.copy()\n",
    "    df['timestamp_created'] = (df['timestamp_created']).astype(int)\n",
    "    temp_dates = df[df['timestamp_created'].between(start, end_int - 1)]\n",
    "    return temp_dates\n",
    "\n",
    "def condition_against(temp1, temp2, difference):\n",
    "    if len(temp1) == 10:\n",
    "        temp = temp1\n",
    "    elif difference == 10:\n",
    "        temp = temp2[:len(temp2)]\n",
    "    elif len(temp2) == 0:\n",
    "        temp = temp1\n",
    "    else:\n",
    "        temp = temp1\n",
    "        for i in range(difference):\n",
    "            if i >= len(list(temp2[\"score\"])):\n",
    "                continue\n",
    "            if float(list(temp2[\"score\"])[i]) > float(list(temp1[\"score\"])[0]):\n",
    "                to_be_added = temp2[i:i + 1]\n",
    "                temp = pd.concat([temp, to_be_added])\n",
    "    return temp\n",
    "\n",
    "def temp_conditional_return_1(time_created, day_range1, day_range_ultimate, df):\n",
    "    day_range1_reviews = get_x_days_ago_reviews(day_range1, df, time_created)\n",
    "    day_range1_date = get_x_days_ago(time_created, day_range1)\n",
    "    days_diff = day_range_ultimate - day_range1\n",
    "    in_between_days_reviews = get_x_days_ago_reviews(days_diff, df, day_range1_date)\n",
    "    difference = 10 - len(day_range1_reviews)\n",
    "    temp1 = sort_and_rearrange(day_range1_reviews)\n",
    "    temp2 = sort_and_rearrange(in_between_days_reviews)\n",
    "    temp = condition_against(temp1, temp2, difference)\n",
    "    return temp\n",
    "\n",
    "def temp_conditional_return_2(time_created, day_range1, day_range2, day_range_ultimate, df):\n",
    "    day_range1_reviews = get_x_days_ago_reviews(day_range1, df, time_created)\n",
    "    day_range1_date = get_x_days_ago(time_created, day_range1)\n",
    "    days_diff_1 = day_range2 - day_range1\n",
    "    day_range2_reviews = get_x_days_ago_reviews(days_diff_1, df, day_range1_date)\n",
    "    day_range2_date = get_x_days_ago(time_created, day_range2)\n",
    "    difference = 10 - len(day_range1_reviews)\n",
    "    temp1 = sort_and_rearrange(day_range1_reviews)\n",
    "    temp2 = sort_and_rearrange(day_range2_reviews)\n",
    "    temp = condition_against(temp1, temp2, difference)\n",
    "    difference_2 = 10 - len(temp)\n",
    "    days_diff_2 = day_range_ultimate - day_range2\n",
    "    day_range3_reviews = get_x_days_ago_reviews(days_diff_2, df, day_range2_date)\n",
    "    temp3 = sort_and_rearrange(day_range3_reviews)\n",
    "    temp = condition_against(temp, temp3, difference_2)\n",
    "    return temp\n",
    "\n",
    "def temp_conditional_return_3(time_created, day_range1, day_range2, day_range_3, start_date, df):\n",
    "    day_range1_reviews = get_x_days_ago_reviews(day_range1, df, time_created)\n",
    "    day_range1_date = get_x_days_ago(time_created, day_range1)\n",
    "    days_diff_1 = day_range2 - day_range1\n",
    "    day_range2_reviews = get_x_days_ago_reviews(days_diff_1, df, day_range1_date)\n",
    "    day_range2_date = get_x_days_ago(time_created, day_range2)\n",
    "    difference = 10 - len(day_range1_reviews)\n",
    "    temp1 = sort_and_rearrange(day_range1_reviews)\n",
    "    temp2 = sort_and_rearrange(day_range2_reviews)\n",
    "    temp = condition_against(temp1, temp2, difference)\n",
    "    difference_2 = 10 - len(temp)\n",
    "    days_diff_2 = day_range_3 - day_range2\n",
    "    day_range3_reviews = get_x_days_ago_reviews(days_diff_2, df, day_range2_date)\n",
    "    temp3 = sort_and_rearrange(day_range3_reviews)\n",
    "    temp = condition_against(temp, temp3, difference_2)\n",
    "    day_range3_date = get_x_days_ago(time_created, day_range_3)\n",
    "    day_range_4 = int((time_created - start_date) / 86400)\n",
    "    difference_3 = 10 - len(temp)\n",
    "    days_diff_3 = day_range_4 - day_range_3\n",
    "    day_range4_reviews = get_x_days_ago_reviews(days_diff_3, df, day_range3_date)\n",
    "    temp4 = sort_and_rearrange(day_range4_reviews)\n",
    "    temp = condition_against(temp, temp4, difference_3)\n",
    "    return temp"
   ]
  },
  {
   "cell_type": "code",
   "execution_count": 49,
   "metadata": {
    "execution": {
     "iopub.execute_input": "2024-02-05T13:15:35.327766Z",
     "iopub.status.busy": "2024-02-05T13:15:35.327709Z",
     "iopub.status.idle": "2024-02-05T13:15:35.330801Z",
     "shell.execute_reply": "2024-02-05T13:15:35.330610Z",
     "shell.execute_reply.started": "2024-02-05T13:15:35.327761Z"
    },
    "id": "twsIKP_ikdbx"
   },
   "outputs": [],
   "source": [
    "def get_list_of_main_bar_reviews_old(df):\n",
    "    order_of_visibility, order_of_scores, order_of_times = [], [], []\n",
    "    for i in tqdm(range(len(df))):\n",
    "        game_id = str(df[\"game_id\"][i])\n",
    "        time_created = int(df[\"timestamp_created\"][i])\n",
    "        temp = df[(df['game_id'] == game_id) & (df['votes_up'] != 0)]\n",
    "        temp_dates = get_x_days_ago_reviews(30, temp, time_created)\n",
    "        if len(temp) == 0 or len(temp_dates) >= 10:\n",
    "            temp = temp_dates\n",
    "        else:\n",
    "            temp_90_dates = temp_conditional_return_1(time_created, 30, 90, temp)\n",
    "            if len(temp_90_dates) >= 10:\n",
    "                temp = temp_90_dates\n",
    "            else:\n",
    "                temp_180_dates = temp_conditional_return_2(time_created, 30, 90, 180, temp)\n",
    "                if len(temp_180_dates) >= 10:\n",
    "                    temp = temp_180_dates\n",
    "                else:\n",
    "                    start_date = int(temp['timestamp_created'].min())\n",
    "                    temp = temp_conditional_return_3(time_created, 30, 90, 180, start_date, temp)\n",
    "\n",
    "        temp[\"score\"] = pd.to_numeric(temp[\"score\"])\n",
    "        temp = (temp.sort_values(\"score\", ascending=False)).reset_index(drop=True)\n",
    "\n",
    "        n = min(len(temp), 10)\n",
    "        list_of_main_bar_reviews = list(temp[\"recommendation_id\"][:n])\n",
    "        list_of_scores = list(temp[\"score\"][:n])\n",
    "        list_of_times = list(temp[\"timestamp_created\"][:n])\n",
    "        order_of_visibility.append(list_of_main_bar_reviews)\n",
    "        order_of_scores.append(list_of_scores)\n",
    "        order_of_times.append(list_of_times)\n",
    "\n",
    "    return order_of_visibility, order_of_scores, order_of_times"
   ]
  },
  {
   "cell_type": "code",
   "execution_count": 7,
   "metadata": {},
   "outputs": [],
   "source": [
    "def get_list_of_main_bar_reviews(df):\n",
    "    ordered_array = np.zeros(shape=(len(df), 10, 3), dtype=float)\n",
    "    ordered_array[:] = np.nan\n",
    "    i = np.where(np.isnan(ordered_array[:, 0, 0]))[0][0]\n",
    "    for i in tqdm(range(i, len(df)), ncols=100):\n",
    "        game_id = str(df[\"game_id\"][i])\n",
    "        time_created = int(df[\"timestamp_created\"][i])\n",
    "        temp = df[(df['game_id'] == game_id) & (df['votes_up'] != 0)]\n",
    "        temp_dates = get_x_days_ago_reviews(30, temp, time_created)\n",
    "        if len(temp) == 0 or len(temp_dates) >= 10:\n",
    "            temp = temp_dates\n",
    "            pass\n",
    "        else:\n",
    "            temp_90_dates = temp_conditional_return_1(time_created, 30, 90, temp)\n",
    "            if len(temp_90_dates) >= 10:\n",
    "                temp = temp_90_dates\n",
    "                pass\n",
    "            else:\n",
    "                temp_180_dates = temp_conditional_return_2(time_created, 30, 90, 180, temp)\n",
    "                if len(temp_180_dates) >= 10:\n",
    "                    temp = temp_180_dates\n",
    "                    pass\n",
    "                else:\n",
    "                    start_date = int(temp['timestamp_created'].min())\n",
    "                    temp = temp_conditional_return_3(time_created, 30, 90, 180, start_date, temp)\n",
    "                    pass\n",
    "                pass\n",
    "            pass\n",
    "        temp[\"score\"] = pd.to_numeric(temp[\"score\"])\n",
    "        temp = (temp.sort_values(\"score\", ascending=False))\n",
    "        n = min(len(temp), 10)\n",
    "        ordered_array[i, :n] = temp[[\"recommendation_id\", \"score\", \"timestamp_created\"]][:n]\n",
    "        pass\n",
    "    return ordered_array"
   ]
  },
  {
   "cell_type": "code",
   "execution_count": 8,
   "metadata": {},
   "outputs": [],
   "source": [
    "def get_list_of_main_bar_reviews(df):\n",
    "    ordered_array = np.zeros(shape=(len(df), 10, 5), dtype=float)\n",
    "    ordered_array[:] = np.nan\n",
    "    for i in tqdm(range(len(df.index))):\n",
    "        game_id = str(df.loc[df.index[i], \"game_id\"])\n",
    "        time_created = int(df.loc[df.index[i], \"timestamp_created\"])\n",
    "        temp = df[(df['game_id'] == game_id) & (df['votes_up'] != 0)]\n",
    "        temp_dates = get_x_days_ago_reviews(30, temp, time_created)\n",
    "        if len(temp) == 0 or len(temp_dates) >= 10:\n",
    "            temp = temp_dates\n",
    "            pass\n",
    "        else:\n",
    "            temp_90_dates = temp_conditional_return_1(time_created, 30, 90, temp)\n",
    "            if len(temp_90_dates) >= 10:\n",
    "                temp = temp_90_dates\n",
    "                pass\n",
    "            else:\n",
    "                temp_180_dates = temp_conditional_return_2(time_created, 30, 90, 180, temp)\n",
    "                if len(temp_180_dates) >= 10:\n",
    "                    temp = temp_180_dates\n",
    "                    pass\n",
    "                else:\n",
    "                    start_date = int(temp['timestamp_created'].min())\n",
    "                    temp = temp_conditional_return_3(time_created, 30, 90, 180, start_date, temp)\n",
    "                    pass\n",
    "                pass\n",
    "            pass\n",
    "        temp[\"score\"] = pd.to_numeric(temp[\"score\"])\n",
    "        temp = (temp.sort_values(\"score\", ascending=False))\n",
    "        n = min(len(temp), 10)\n",
    "        ordered_array[i, :n, :3] = temp[[\"recommendation_id\", \"score\", \"timestamp_created\"]][:n]\n",
    "        ordered_array[i, :, 3] = np.arange(10)+1\n",
    "        ordered_array[i, :, 4] = df.index[i]\n",
    "        pass\n",
    "    return ordered_array"
   ]
  },
  {
   "cell_type": "code",
   "execution_count": 9,
   "metadata": {},
   "outputs": [
    {
     "name": "stderr",
     "output_type": "stream",
     "text": [
      "100%|██████████████████████████████████████████████████████████████████████████████| 1093/1093 [17:04<00:00,  1.07it/s]\n"
     ]
    }
   ],
   "source": [
    "grouped_df = df.groupby(['game_id'])\n",
    "split_df = [grouped_df.get_group(x) for x in grouped_df.groups]\n",
    "try:\n",
    "    ordered_array = np.load('../data/temp_reconstruction.npy')\n",
    "    pass\n",
    "except:\n",
    "    ordered_array_split = Parallel(n_jobs=20)(delayed(get_list_of_main_bar_reviews)(split_df[xxx]) for xxx in tqdm(range(len(split_df))))\n",
    "    ordered_array = np.vstack(ordered_array_split)\n",
    "    np.save('../data/temp_reconstruction.npy', ordered_array)\n",
    "    pass"
   ]
  },
  {
   "cell_type": "code",
   "execution_count": 13,
   "metadata": {},
   "outputs": [
    {
     "data": {
      "text/plain": [
       "10    1.0\n",
       "Name: proportion, dtype: float64"
      ]
     },
     "execution_count": 13,
     "metadata": {},
     "output_type": "execute_result"
    }
   ],
   "source": [
    "temp_tester_array = ordered_array[~np.any(np.isnan(ordered_array[:, -1, :3]), axis=1)]\n",
    "unique_reviews_main_bar = [len(np.unique(temp_tester_array[xxx, :, 0])) for xxx in range(temp_tester_array.shape[0])]\n",
    "unique_reviews_main_bar = np.array(unique_reviews_main_bar)\n",
    "pd.Series(unique_reviews_main_bar).value_counts(normalize=True).round(3)"
   ]
  },
  {
   "cell_type": "code",
   "execution_count": 52,
   "metadata": {},
   "outputs": [
    {
     "data": {
      "text/plain": [
       "Index([   0,    1,    2,    3,    4,    5,    6,    7,    8,    9,\n",
       "       ...\n",
       "       7091, 7092, 7093, 7094, 7095, 7096, 7097, 7098, 7099, 7100],\n",
       "      dtype='int64', length=1011)"
      ]
     },
     "execution_count": 52,
     "metadata": {},
     "output_type": "execute_result"
    }
   ],
   "source": [
    "## DOESNT WORK\n",
    "verification_df = df[df['game_id'] == '1000410'].copy()\n",
    "verification_df[\"game_id\"].index # index messed up, function dependent on index\n",
    "#verification_df[\"order_of_main_bar_reviews\"], verification_df[\"order_of_scores\"], verification_df[\"order_of_times\"] = get_list_of_main_bar_reviews_old(verification_df)"
   ]
  },
  {
   "cell_type": "code",
   "execution_count": 50,
   "metadata": {
    "scrolled": true
   },
   "outputs": [
    {
     "name": "stderr",
     "output_type": "stream",
     "text": [
      "100%|█████████████████████████████████████████████████████████████████████████████| 1011/1011 [00:02<00:00, 457.34it/s]\n"
     ]
    }
   ],
   "source": [
    "## Works now\n",
    "verification_df = df[df['game_id'] == '1000410'].copy()\n",
    "verification_df=verification_df.reset_index(drop=True)\n",
    "verification_df[\"order_of_main_bar_reviews\"], verification_df[\"order_of_scores\"], verification_df[\"order_of_times\"] = get_list_of_main_bar_reviews_old(verification_df)"
   ]
  },
  {
   "cell_type": "code",
   "execution_count": 98,
   "metadata": {},
   "outputs": [
    {
     "name": "stderr",
     "output_type": "stream",
     "text": [
      "100%|███████████████████████████████████████████████████████████| 1911/1911 [01:41<00:00, 18.77it/s]\n"
     ]
    }
   ],
   "source": [
    "for xyz in tqdm(verification_df.index, ncols=100):\n",
    "    new_array = ordered_array[ordered_array[:, :, -1] == xyz][:, 0]\n",
    "    new_array = new_array[~np.isnan(new_array)].astype(int).astype(str)\n",
    "    old_array = np.array(verification_df.loc[xyz, 'order_of_main_bar_reviews'])\n",
    "    if not (np.all(old_array == new_array)):\n",
    "        print('Problem with {}'.format(xyz))\n",
    "        pass\n",
    "    pass"
   ]
  },
  {
   "cell_type": "code",
   "execution_count": 122,
   "metadata": {},
   "outputs": [
    {
     "name": "stderr",
     "output_type": "stream",
     "text": [
      "100%|███████████████████████████████████████████████████████████| 1911/1911 [01:40<00:00, 18.93it/s]\n"
     ]
    }
   ],
   "source": [
    "for xyz in tqdm(verification_df.index, ncols=100):\n",
    "    new_array = ordered_array[ordered_array[:, :, -1] == xyz][:, 1]\n",
    "    new_array = new_array[~np.isnan(new_array)]\n",
    "    old_array = np.array(verification_df.loc[xyz, 'order_of_scores'])\n",
    "    if len(old_array) > 0:\n",
    "        if max(abs(new_array - old_array)) > .001:\n",
    "            print('Problem with {}'.format(xyz))\n",
    "            pass\n",
    "        pass\n",
    "    pass"
   ]
  },
  {
   "cell_type": "code",
   "execution_count": 128,
   "metadata": {},
   "outputs": [
    {
     "name": "stderr",
     "output_type": "stream",
     "text": [
      "100%|███████████████████████████████████████████████████████████| 1911/1911 [01:40<00:00, 18.94it/s]\n"
     ]
    }
   ],
   "source": [
    "for xyz in tqdm(verification_df.index, ncols=100):\n",
    "    new_array = ordered_array[ordered_array[:, :, -1] == xyz][:, 2]\n",
    "    new_array = new_array[~np.isnan(new_array)].astype(int)\n",
    "    old_array = np.array(verification_df.loc[xyz, 'order_of_times'])\n",
    "    if not (np.all(old_array == new_array)):\n",
    "        print('Problem with {}'.format(xyz))\n",
    "        pass\n",
    "    pass"
   ]
  },
  {
   "cell_type": "code",
   "execution_count": 152,
   "metadata": {},
   "outputs": [
    {
     "name": "stderr",
     "output_type": "stream",
     "text": [
      "100%|████████████████████████████████████████████████████████████| 312/312 [00:01<00:00, 245.62it/s]\n"
     ]
    }
   ],
   "source": [
    "verification_df = df[df['game_id'] == '559620'].copy().reset_index(drop=True)\n",
    "verification_df[\"order_of_main_bar_reviews\"], verification_df[\"order_of_scores\"], verification_df[\"order_of_times\"] = get_list_of_main_bar_reviews_old(verification_df)\n",
    "verification_df.index = df[df['game_id'] == '559620'].index"
   ]
  },
  {
   "cell_type": "code",
   "execution_count": 153,
   "metadata": {},
   "outputs": [
    {
     "name": "stderr",
     "output_type": "stream",
     "text": [
      "100%|█████████████████████████████████████████████████████████████| 312/312 [00:16<00:00, 18.36it/s]\n"
     ]
    }
   ],
   "source": [
    "for xyz in tqdm(verification_df.index, ncols=100):\n",
    "    new_array = ordered_array[ordered_array[:, :, -1] == xyz][:, 0]\n",
    "    new_array = new_array[~np.isnan(new_array)].astype(int).astype(str)\n",
    "    old_array = np.array(verification_df.loc[xyz, 'order_of_main_bar_reviews'])\n",
    "    if not (np.all(old_array == new_array)):\n",
    "        print('Problem with {}'.format(xyz))\n",
    "        pass\n",
    "    pass"
   ]
  },
  {
   "cell_type": "code",
   "execution_count": 154,
   "metadata": {},
   "outputs": [
    {
     "name": "stderr",
     "output_type": "stream",
     "text": [
      "100%|█████████████████████████████████████████████████████████████| 312/312 [00:16<00:00, 19.17it/s]\n"
     ]
    }
   ],
   "source": [
    "for xyz in tqdm(verification_df.index, ncols=100):\n",
    "    new_array = ordered_array[ordered_array[:, :, -1] == xyz][:, 1]\n",
    "    new_array = new_array[~np.isnan(new_array)]\n",
    "    old_array = np.array(verification_df.loc[xyz, 'order_of_scores'])\n",
    "    if len(old_array) > 0:\n",
    "        if max(abs(new_array - old_array)) > .001:\n",
    "            print('Problem with {}'.format(xyz))\n",
    "            pass\n",
    "        pass\n",
    "    pass"
   ]
  },
  {
   "cell_type": "code",
   "execution_count": 155,
   "metadata": {},
   "outputs": [
    {
     "name": "stderr",
     "output_type": "stream",
     "text": [
      "100%|█████████████████████████████████████████████████████████████| 312/312 [00:16<00:00, 19.16it/s]\n"
     ]
    }
   ],
   "source": [
    "for xyz in tqdm(verification_df.index, ncols=100):\n",
    "    new_array = ordered_array[ordered_array[:, :, -1] == xyz][:, 2]\n",
    "    new_array = new_array[~np.isnan(new_array)].astype(int)\n",
    "    old_array = np.array(verification_df.loc[xyz, 'order_of_times'])\n",
    "    if not (np.all(old_array == new_array)):\n",
    "        print('Problem with {}'.format(xyz))\n",
    "        pass\n",
    "    pass"
   ]
  },
  {
   "cell_type": "code",
   "execution_count": 9,
   "metadata": {},
   "outputs": [],
   "source": [
    "#df[\"order_of_main_bar_reviews\"], df[\"order_of_scores\"], df[\"order_of_times\"] = [np.nan]*3"
   ]
  },
  {
   "cell_type": "code",
   "execution_count": 10,
   "metadata": {},
   "outputs": [],
   "source": [
    "#df.loc[df['game_id'] == x, [\"order_of_main_bar_reviews\", \"order_of_scores\", \"order_of_times\"]]"
   ]
  },
  {
   "cell_type": "code",
   "execution_count": 11,
   "metadata": {
    "execution": {
     "iopub.execute_input": "2024-02-02T17:21:46.867709Z",
     "iopub.status.busy": "2024-02-02T17:21:46.867647Z"
    },
    "id": "IfhNjW5t9nw1"
   },
   "outputs": [],
   "source": [
    "#df[\"order_of_main_bar_reviews\"], df[\"order_of_scores\"], df[\"order_of_times\"]"
   ]
  },
  {
   "cell_type": "markdown",
   "metadata": {},
   "source": [
    "## Organizing our data"
   ]
  },
  {
   "cell_type": "raw",
   "metadata": {
    "id": "g0sz0TrhdkcI"
   },
   "source": [
    "reviews = pd.DataFrame({'recommendation_id': df[\"recommendation_id\"]})\n",
    "reviews[\"review\"] = df[\"review\"]"
   ]
  },
  {
   "cell_type": "raw",
   "metadata": {
    "colab": {
     "base_uri": "https://localhost:8080/"
    },
    "id": "UM5PhnTnVaXm",
    "outputId": "4051a0af-0c7d-4b23-df42-bebd7bc311a6"
   },
   "source": [
    "# Removing re-simulations with less than 10 main-bar reviews for consistency in analysis which will be used later.\n",
    "game_length=len(set(list(df[\"game_id\"])))\n",
    "print(f\"Before removing reviews with <10 default sorted reviews, we have a total of {len(df)} reviews across {game_length} games\")\n",
    "index_of_less_than_10 = []\n",
    "for i in tqdm(range(len(df))):\n",
    "    if len((df[\"order_of_main_bar_reviews\"][i])) < 10:\n",
    "        index_of_less_than_10.append(i)\n",
    "\n",
    "# df1 = df1.drop(index_of_less_than_10)\n",
    "df=(df.drop(index_of_less_than_10)).reset_index(drop=True)\n",
    "game_length=len(set(list(df[\"game_id\"])))\n",
    "print(f\"After removing reviews with <10 default sorted reviews, we have a total of {len(df)} reviews across {game_length} games\")"
   ]
  },
  {
   "cell_type": "markdown",
   "metadata": {},
   "source": [
    "## Saving our data"
   ]
  },
  {
   "cell_type": "raw",
   "metadata": {
    "id": "po9xnoK0VMZv"
   },
   "source": [
    "df.to_csv(f'../data/interim_data/03_data_wrangling/reviews_with_main_bar_reviews.csv.zip', index=False)"
   ]
  }
 ],
 "metadata": {
  "colab": {
   "collapsed_sections": [],
   "machine_shape": "hm",
   "name": "data organization default-order of comments.ipynb",
   "provenance": []
  },
  "gpuClass": "standard",
  "kernelspec": {
   "display_name": "Python 3 (ipykernel)",
   "language": "python",
   "name": "python3"
  },
  "language_info": {
   "codemirror_mode": {
    "name": "ipython",
    "version": 3
   },
   "file_extension": ".py",
   "mimetype": "text/x-python",
   "name": "python",
   "nbconvert_exporter": "python",
   "pygments_lexer": "ipython3",
   "version": "3.11.5"
  }
 },
 "nbformat": 4,
 "nbformat_minor": 4
}
