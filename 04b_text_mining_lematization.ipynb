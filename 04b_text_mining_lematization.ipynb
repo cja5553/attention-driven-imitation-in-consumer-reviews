{
 "cells": [
  {
   "cell_type": "code",
   "execution_count": 1,
   "metadata": {
    "colab": {
     "base_uri": "https://localhost:8080/"
    },
    "id": "tDR4zHCf84ih",
    "outputId": "8ebba097-8d06-4cd0-eb4c-b975fa39ec5e"
   },
   "outputs": [
    {
     "name": "stderr",
     "output_type": "stream",
     "text": [
      "[nltk_data] Downloading package omw-1.4 to\n",
      "[nltk_data]     C:\\Users\\charl\\AppData\\Roaming\\nltk_data...\n",
      "[nltk_data]   Package omw-1.4 is already up-to-date!\n",
      "[nltk_data] Downloading package wordnet to\n",
      "[nltk_data]     C:\\Users\\charl\\AppData\\Roaming\\nltk_data...\n",
      "[nltk_data]   Package wordnet is already up-to-date!\n",
      "[nltk_data] Downloading package punkt to\n",
      "[nltk_data]     C:\\Users\\charl\\AppData\\Roaming\\nltk_data...\n",
      "[nltk_data]   Package punkt is already up-to-date!\n",
      "[nltk_data] Downloading package averaged_perceptron_tagger to\n",
      "[nltk_data]     C:\\Users\\charl\\AppData\\Roaming\\nltk_data...\n",
      "[nltk_data]   Package averaged_perceptron_tagger is already up-to-\n",
      "[nltk_data]       date!\n"
     ]
    }
   ],
   "source": [
    "import pandas as pd\n",
    "import nltk\n",
    "from nltk.stem import WordNetLemmatizer\n",
    "from nltk.corpus import wordnet\n",
    "from nltk.tokenize import word_tokenize\n",
    "from tqdm import tqdm\n",
    "import types\n",
    "from joblib import Parallel, delayed\n",
    "from concurrent.futures import ThreadPoolExecutor\n",
    "\n",
    "nltk.download('omw-1.4')\n",
    "nltk.download('wordnet')\n",
    "nltk.download('punkt')\n",
    "nltk.download('averaged_perceptron_tagger')\n",
    "from nltk.corpus import wordnet as wn\n",
    "wn.ensure_loaded()\n",
    "def imports():\n",
    "    for name, val in globals().items():\n",
    "        if isinstance(val, types.ModuleType):\n",
    "            try:\n",
    "                yield val.__name__, val.__version__\n",
    "                pass\n",
    "            except:\n",
    "                yield val.__name__\n",
    "                pass\n",
    "            pass\n",
    "        pass\n",
    "    pass\n",
    "\n",
    "list(imports())\n",
    "\n",
    "# Load the preprocessed reviews\n",
    "file_location='../data/interim_data/04_text_mining/preprocessed/'\n",
    "FPS_reviews = pd.read_csv(f'{file_location}reviews_preprocessed.csv.gz', compression=\"gzip\",low_memory=False)"
   ]
  },
  {
   "cell_type": "code",
   "execution_count": 2,
   "metadata": {},
   "outputs": [
    {
     "name": "stderr",
     "output_type": "stream",
     "text": [
      "Lemmatizing reviews: 100%|████████████████████████████████████████████████| 3621927/3621927 [3:55:09<00:00, 256.70it/s]\n"
     ]
    }
   ],
   "source": [
    "def get_wordnet_pos(word):\n",
    "    tag = nltk.pos_tag([word])[0][1][0].upper()\n",
    "    tag_dict = {\n",
    "        \"J\": wordnet.ADJ,\n",
    "        \"N\": wordnet.NOUN,\n",
    "        \"V\": wordnet.VERB,\n",
    "        \"R\": wordnet.ADV\n",
    "    }\n",
    "    return tag_dict.get(tag, wordnet.NOUN)\n",
    "\n",
    "def lemmatize_review(review):\n",
    "    lemmatizer = WordNetLemmatizer()\n",
    "    tokens = word_tokenize(str(review))\n",
    "    lemmatized_tokens = [lemmatizer.lemmatize(word, get_wordnet_pos(word)) for word in tokens]\n",
    "    lemmatized_output = ' '.join(lemmatized_tokens)\n",
    "    return lemmatized_output\n",
    "\n",
    "def parallel_lemmatize_reviews(reviews, num_workers):\n",
    "    with ThreadPoolExecutor(max_workers=num_workers) as executor:\n",
    "        lemmatized_reviews = list(tqdm(executor.map(lemmatize_review, reviews), total=len(reviews), desc=\"Lemmatizing reviews\"))\n",
    "    return lemmatized_reviews\n",
    "\n",
    "# Assuming FPS_reviews is your DataFrame and it has a column 'review'\n",
    "num_workers = 24\n",
    "lemmatized_reviews = parallel_lemmatize_reviews(FPS_reviews['review'], num_workers)\n",
    "\n",
    "# Updating the DataFrame with lemmatized reviews\n",
    "FPS_reviews['review'] = lemmatized_reviews"
   ]
  },
  {
   "cell_type": "code",
   "execution_count": 3,
   "metadata": {
    "colab": {
     "base_uri": "https://localhost:8080/"
    },
    "id": "WS1FpVMBT1_X",
    "outputId": "69f5a5de-2520-4b35-c4cc-8b67f47f2ddd"
   },
   "outputs": [],
   "source": [
    "# saving files\n",
    "# FPS_reviews[\"review\"] = lemmatize(FPS_reviews[\"review\"].tolist())\n",
    "FPS_reviews.to_csv(f'{file_location}reviews_lemmatized.csv.gz', index=False, compression='gzip')"
   ]
  }
 ],
 "metadata": {
  "colab": {
   "collapsed_sections": [],
   "machine_shape": "hm",
   "name": "Lemmatization.ipynb",
   "provenance": []
  },
  "gpuClass": "standard",
  "kernelspec": {
   "display_name": "Python 3 (ipykernel)",
   "language": "python",
   "name": "python3"
  },
  "language_info": {
   "codemirror_mode": {
    "name": "ipython",
    "version": 3
   },
   "file_extension": ".py",
   "mimetype": "text/x-python",
   "name": "python",
   "nbconvert_exporter": "python",
   "pygments_lexer": "ipython3",
   "version": "3.11.5"
  }
 },
 "nbformat": 4,
 "nbformat_minor": 1
}
