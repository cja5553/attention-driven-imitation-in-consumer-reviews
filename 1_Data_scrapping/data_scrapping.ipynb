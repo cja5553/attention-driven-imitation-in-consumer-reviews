{
  "nbformat": 4,
  "nbformat_minor": 0,
  "metadata": {
    "colab": {
      "name": "data_scrapping.ipynb",
      "provenance": [],
      "collapsed_sections": [],
      "machine_shape": "hm"
    },
    "kernelspec": {
      "name": "python3",
      "display_name": "Python 3"
    },
    "language_info": {
      "name": "python"
    },
    "gpuClass": "standard"
  },
  "cells": [
    {
      "cell_type": "code",
      "source": [
        "!curl ipecho.net/plain"
      ],
      "metadata": {
        "colab": {
          "base_uri": "https://localhost:8080/"
        },
        "id": "fZN6lG9MTuKE",
        "outputId": "1778436b-78ec-4029-92bb-969df8f6ab8c"
      },
      "execution_count": null,
      "outputs": [
        {
          "output_type": "stream",
          "name": "stdout",
          "text": [
            "35.188.238.117"
          ]
        }
      ]
    },
    {
      "cell_type": "code",
      "source": [
        "# code adopted from https://andrew-muller.medium.com/scraping-steam-user-reviews-9a43f9e38c92\n",
        "\n",
        "# importing the packages. \n",
        "from google.colab import drive\n",
        "from tqdm import tqdm\n",
        "drive.mount(\"/content/drive\")\n",
        "%cd '/content/drive/My Drive/Dissertation'\n",
        "import requests\n",
        "from bs4 import BeautifulSoup\n",
        "\n",
        "# this collects the app_ids for all single-player FPS games \n",
        "def get_n_appids(tag_no, filter_by='topsellers',n=1000): # according to steam there are about ~600 FPS games so we just set n=1000 here \n",
        "    appids = []\n",
        "    url = f'https://store.steampowered.com/search/?category1=998&tags={tag_no}&filter={filter_by}&page='\n",
        "    page = 0\n",
        "    while page*25 < n:\n",
        "        page += 1\n",
        "        response = requests.get(url=url+str(page), headers={'User-Agent': 'Mozilla/5.0'})\n",
        "        soup = BeautifulSoup(response.text, 'html.parser')\n",
        "        for row in soup.find_all(class_='search_result_row'):\n",
        "            appids.append(row['data-ds-appid'])\n",
        "            #print(len(appids))\n",
        "\n",
        "    return appids[:n]\n",
        "\n",
        "single_FPS_appids = get_n_appids(tag_no=\"1663%2C4182\") # \"1663%2C4182\" is the singleplayer-FPS tag\n",
        "\n",
        "\n",
        "# This get's 1 review\n",
        "\n",
        "def get_one_review(appid, params={'json':1}):\n",
        "        url = 'https://store.steampowered.com/appreviews/'\n",
        "        response = requests.get(url=url+appid, params=params, headers={'User-Agent': 'Mozilla/5.0'})\n",
        "        return response.json()\n",
        "\n",
        "# get all reviews from the game \n",
        "def get_all_reviews(appid):\n",
        "    review_count=int(((get_one_review(str(appid)))[\"query_summary\"])[\"total_reviews\"])\n",
        "    reviews = []\n",
        "    cursor = '*'\n",
        "    params = {\n",
        "            'json' : 1,\n",
        "            'filter' : 'all',\n",
        "            'language' : 'english',\n",
        "            'day_range' : 9223372036854775807,\n",
        "            'review_type' : 'all',\n",
        "            'purchase_type' : 'all'\n",
        "            }\n",
        "    while review_count > 0:\n",
        "        params['cursor'] = cursor.encode()\n",
        "        params['num_per_page'] = min(100, review_count)\n",
        "        review_count -= 100\n",
        "        response = get_one_review(appid, params)\n",
        "        cursor = response['cursor']\n",
        "        reviews += response['reviews']\n",
        "        if len(response['reviews']) < 100: \n",
        "          break\n",
        "    return (reviews)\n",
        "def collect_reviews(FPS_appids):\n",
        "  review_list=[]\n",
        "  for i in tqdm(FPS_appids):\n",
        "    appid=str(i)\n",
        "    reviews=get_all_reviews(appid)\n",
        "    review_list.append(reviews)\n",
        "  return(review_list)\n",
        "\n",
        "len(single_FPS_appids)"
      ],
      "metadata": {
        "id": "pvIXyHqBsIc9",
        "colab": {
          "base_uri": "https://localhost:8080/"
        },
        "outputId": "11cbc2a9-6155-424e-d69b-4d1ae80c01ea"
      },
      "execution_count": null,
      "outputs": [
        {
          "output_type": "stream",
          "name": "stdout",
          "text": [
            "Mounted at /content/drive\n",
            "/content/drive/My Drive/Dissertation\n"
          ]
        },
        {
          "output_type": "execute_result",
          "data": {
            "text/plain": [
              "673"
            ]
          },
          "metadata": {},
          "execution_count": 4
        }
      ]
    },
    {
      "cell_type": "code",
      "execution_count": null,
      "metadata": {
        "id": "pSER7QYCvuXR"
      },
      "outputs": [],
      "source": [
        "# saving as a pickle file\n",
        "# reading games_list\n",
        "import pickle\n",
        "with open(\"games_list_2\",\"wb\") as fp:\n",
        "  pickle.dump(single_FPS_appids, fp)"
      ]
    },
    {
      "cell_type": "code",
      "source": [
        "single_FPS_reviews=collect_reviews(single_FPS_appids)\n",
        "import pickle\n",
        "# reading game reviews\n",
        "with open(\"singleplayer_FPS_reviews_list_2\", \"wb\") as fp:\n",
        "  pickle.dump(single_FPS_reviews, fp)"
      ],
      "metadata": {
        "colab": {
          "base_uri": "https://localhost:8080/"
        },
        "id": "cHlZDpKNzPwx",
        "outputId": "b3283978-871f-4999-a649-9088eb832bb8"
      },
      "execution_count": null,
      "outputs": [
        {
          "output_type": "stream",
          "name": "stderr",
          "text": [
            "100%|██████████| 673/673 [2:20:09<00:00, 12.50s/it]\n"
          ]
        }
      ]
    }
  ]
}